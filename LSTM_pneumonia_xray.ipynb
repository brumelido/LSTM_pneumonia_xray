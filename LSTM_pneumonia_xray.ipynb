{
 "cells": [
  {
   "cell_type": "markdown",
   "metadata": {
    "id": "8vl35mO1EZAl"
   },
   "source": [
    "# Sobre o Dataset\n",
    "\n",
    "O dataset **Chest X-Ray Images (Pneumonia)** contém imagens de radiografias torácicas de pacientes, sendo amplamente utilizado para tarefas de classificação de pneumonia com aprendizado de máquina.\n",
    "\n",
    "- 📊 **Total de imagens:** 5.863\n",
    "- 📁 **Divisão em conjuntos:** treino (`train`), validação (`val`) e teste (`test`)\n",
    "- 🩻 **Classes:**\n",
    "  - `NORMAL` – pulmões saudáveis\n",
    "  - `PNEUMONIA` – pulmões com infecção (bacteriana ou viral)\n",
    "- 🧠 **Objetivo:** treinar modelos de IA para detectar pneumonia com base em exames de raio-X.\n",
    "- 🔗 **Fonte:** https://www.cell.com/cell/fulltext/S0092-8674(18)30154-5\n"
   ]
  },
  {
   "cell_type": "markdown",
   "metadata": {
    "id": "4dP-e5ujGjTd"
   },
   "source": "## 1. Importação das Bibliotecas"
  },
  {
   "cell_type": "code",
   "metadata": {
    "id": "QX6JGbmT85P_",
    "ExecuteTime": {
     "end_time": "2025-06-07T19:11:36.926842Z",
     "start_time": "2025-06-07T19:11:26.038124Z"
    }
   },
   "source": [
    "import kagglehub\n",
    "from tensorflow.keras.utils import img_to_array\n",
    "import shutil\n",
    "import hashlib\n",
    "from tensorflow.keras.preprocessing.image import ImageDataGenerator\n",
    "from sklearn.utils import class_weight\n",
    "from sklearn.metrics import classification_report, confusion_matrix\n",
    "import pandas as pd\n",
    "import random\n",
    "import itertools\n",
    "from tensorflow.keras.optimizers import Adam, RMSprop\n",
    "from sklearn.model_selection import train_test_split\n",
    "import seaborn as sns\n",
    "import numpy as np\n",
    "import matplotlib.pyplot as plt\n",
    "from PIL import Image\n",
    "import os\n",
    "from tensorflow.keras.layers import GlobalAveragePooling2D\n",
    "\n",
    "sns.set(style='whitegrid') # Define o estilo visual dos gráficos do Seaborn com grade branca de fundo"
   ],
   "outputs": [],
   "execution_count": 1
  },
  {
   "metadata": {},
   "cell_type": "markdown",
   "source": "Importação das bibliotecas utilizadas para manipulação de imagens, divisão dos dados, construção e avaliação da CNN, além de visualização de gráficos e data augmentation."
  },
  {
   "metadata": {},
   "cell_type": "markdown",
   "source": "### Caso esteja rodando pela 2ª vez - limpa a pasta, caso seja a 1ª - Não rodar"
  },
  {
   "metadata": {
    "ExecuteTime": {
     "end_time": "2025-06-03T19:29:54.468221Z",
     "start_time": "2025-06-03T19:29:17.321947Z"
    }
   },
   "cell_type": "code",
   "source": [
    "# Caminho da pasta de destino\n",
    "dst_dir = './chest_xray'\n",
    "\n",
    "# 🔁 Apaga a pasta se ela já existir (limpeza total antes de copiar)\n",
    "if os.path.exists(dst_dir):\n",
    "    shutil.rmtree(dst_dir)\n",
    "    print(\"🧹 Pasta antiga removida.\")\n",
    "\n",
    "# Agora copia novamente os dados do Kaggle\n",
    "src_dir = os.path.join(path, 'chest_xray')  # ou só `path` se não houver subpasta\n",
    "\n",
    "if not os.path.exists(src_dir):\n",
    "    print(f\"⚠️ Subpasta 'chest_xray' não encontrada dentro de {path}.\")\n",
    "    print(\"Conteúdo encontrado:\", os.listdir(path))\n",
    "    src_dir = path\n",
    "\n",
    "shutil.copytree(src_dir, dst_dir)\n",
    "print(\"✅ Dados copiados novamente do zero.\")\n"
   ],
   "outputs": [
    {
     "name": "stdout",
     "output_type": "stream",
     "text": [
      "🧹 Pasta antiga removida.\n",
      "✅ Dados copiados novamente do zero.\n"
     ]
    }
   ],
   "execution_count": 18
  },
  {
   "metadata": {
    "id": "TZ8hGRLwExbI"
   },
   "cell_type": "markdown",
   "source": "## 🔍 1.1 Carregamento dos Dados"
  },
  {
   "cell_type": "code",
   "metadata": {
    "colab": {
     "base_uri": "https://localhost:8080/"
    },
    "id": "G0KfXE0CUWSx",
    "outputId": "b8772c06-e6c8-4fe2-8cc5-9af5945a51b3",
    "ExecuteTime": {
     "end_time": "2025-06-07T19:12:48.727425Z",
     "start_time": "2025-06-07T19:12:46.090381Z"
    }
   },
   "source": [
    "# Download do conjunto de dados do kaggle\n",
    "\n",
    "path = kagglehub.dataset_download(\"paultimothymooney/chest-xray-pneumonia\")  # Baixa o dataset de raio-X de pneumonia do Kaggle\n",
    "print(\"Path to dataset files:\", path)  # Exibe o caminho onde os arquivos foram salvos localmente\n"
   ],
   "outputs": [
    {
     "name": "stdout",
     "output_type": "stream",
     "text": [
      "Path to dataset files: C:\\Users\\Bruna\\.cache\\kagglehub\\datasets\\paultimothymooney\\chest-xray-pneumonia\\versions\\2\n"
     ]
    }
   ],
   "execution_count": 2
  },
  {
   "metadata": {},
   "cell_type": "markdown",
   "source": "Download do dataset de imagens de raio-X com pneumonia diretamente do Kaggle, usando a biblioteca kagglehub. O caminho de download é exibido para facilitar o uso posterior."
  },
  {
   "cell_type": "code",
   "metadata": {
    "colab": {
     "base_uri": "https://localhost:8080/",
     "height": 35
    },
    "id": "AYMD8pN5_9p6",
    "outputId": "4252cd1a-686a-437f-ebdf-60ad11015317",
    "ExecuteTime": {
     "end_time": "2025-06-07T19:13:37.353850Z",
     "start_time": "2025-06-07T19:13:06.191796Z"
    }
   },
   "source": [
    "## Copia dos Dados para o Diretório de Trabalho\n",
    "\n",
    "# Define os caminhos\n",
    "src_dir = os.path.join(path, 'chest_xray')  # pasta principal dentro do dataset\n",
    "dst_dir = './chest_xray'  # destino no diretório de trabalho atual\n",
    "\n",
    "# Verifica se a subpasta \"chest_xray\" realmente existe dentro de `path`\n",
    "if not os.path.exists(src_dir):\n",
    "    print(f\"⚠️ Subpasta 'chest_xray' não encontrada dentro de {path}. Listando conteúdo:\")\n",
    "    print(os.listdir(path))\n",
    "    # Se a pasta 'chest_xray' não existir, use `path` diretamente\n",
    "    src_dir = path\n",
    "\n",
    "# Copia a pasta completa para o diretório atual\n",
    "shutil.copytree(src_dir, dst_dir, dirs_exist_ok=True)\n",
    "print(f\"✅ Dados copiados para o diretório de trabalho: {dst_dir}\")\n"
   ],
   "outputs": [
    {
     "name": "stdout",
     "output_type": "stream",
     "text": [
      "✅ Dados copiados para o diretório de trabalho: ./chest_xray\n"
     ]
    }
   ],
   "execution_count": 3
  },
  {
   "metadata": {},
   "cell_type": "markdown",
   "source": "Cópia do dataset para o diretório de trabalho, garantindo que os arquivos estejam acessíveis para o restante do processamento."
  },
  {
   "cell_type": "code",
   "metadata": {
    "id": "xo1gQ3OjDQNF",
    "ExecuteTime": {
     "end_time": "2025-06-07T19:13:51.782317Z",
     "start_time": "2025-06-07T19:13:51.776809Z"
    }
   },
   "source": [
    "# Definição do diretório base\n",
    "\n",
    "base_dir = dst_dir"
   ],
   "outputs": [],
   "execution_count": 4
  },
  {
   "metadata": {},
   "cell_type": "markdown",
   "source": "Define o diretório base onde estão as imagens que serão processadas e utilizadas nos modelos."
  },
  {
   "cell_type": "markdown",
   "metadata": {
    "id": "Ehz1q4o5E1WK"
   },
   "source": [
    "## 🧹 2. Limpeza e Padronização das Imagens"
   ]
  },
  {
   "cell_type": "code",
   "metadata": {
    "colab": {
     "base_uri": "https://localhost:8080/",
     "height": 237
    },
    "id": "nQk3_bVJVPKB",
    "outputId": "04f20306-d0c5-46dc-d02f-dfa5c9dc831b",
    "ExecuteTime": {
     "end_time": "2025-06-07T19:13:59.004534Z",
     "start_time": "2025-06-07T19:13:58.950923Z"
    }
   },
   "source": [
    "# 📊 CONTAGEM DE IMAGENS POR CONJUNTO E CLASSE\n",
    "\n",
    "def contar_imagens(diretorio):\n",
    "    dados = []\n",
    "    for subset in ['train', 'val', 'test']:  # Percorre os subconjuntos: treino, validação e teste\n",
    "        for classe in ['NORMAL', 'PNEUMONIA']:  # Percorre as classes: NORMAL e PNEUMONIA\n",
    "            caminho = os.path.join(diretorio, subset, classe)  # Monta o caminho completo da pasta da classe\n",
    "            # Conta apenas os arquivos com extensão de imagem\n",
    "            total = len([f for f in os.listdir(caminho) if f.endswith(('jpg', 'jpeg', 'png'))])\n",
    "            # Armazena os dados em formato de dicionário\n",
    "            dados.append({'Conjunto': subset, 'Classe': classe, 'Total': total})\n",
    "    return pd.DataFrame(dados)  # Retorna um DataFrame com as informações\n",
    "\n",
    "df_contagem = contar_imagens(base_dir)  # Aplica a função ao diretório base\n",
    "display(df_contagem)  # Exibe a tabela resultante com a contagem de imagens por conjunto e classe\n"
   ],
   "outputs": [
    {
     "data": {
      "text/plain": [
       "  Conjunto     Classe  Total\n",
       "0    train     NORMAL   1341\n",
       "1    train  PNEUMONIA   3875\n",
       "2      val     NORMAL      8\n",
       "3      val  PNEUMONIA      8\n",
       "4     test     NORMAL    234\n",
       "5     test  PNEUMONIA    390"
      ],
      "text/html": [
       "<div>\n",
       "<style scoped>\n",
       "    .dataframe tbody tr th:only-of-type {\n",
       "        vertical-align: middle;\n",
       "    }\n",
       "\n",
       "    .dataframe tbody tr th {\n",
       "        vertical-align: top;\n",
       "    }\n",
       "\n",
       "    .dataframe thead th {\n",
       "        text-align: right;\n",
       "    }\n",
       "</style>\n",
       "<table border=\"1\" class=\"dataframe\">\n",
       "  <thead>\n",
       "    <tr style=\"text-align: right;\">\n",
       "      <th></th>\n",
       "      <th>Conjunto</th>\n",
       "      <th>Classe</th>\n",
       "      <th>Total</th>\n",
       "    </tr>\n",
       "  </thead>\n",
       "  <tbody>\n",
       "    <tr>\n",
       "      <th>0</th>\n",
       "      <td>train</td>\n",
       "      <td>NORMAL</td>\n",
       "      <td>1341</td>\n",
       "    </tr>\n",
       "    <tr>\n",
       "      <th>1</th>\n",
       "      <td>train</td>\n",
       "      <td>PNEUMONIA</td>\n",
       "      <td>3875</td>\n",
       "    </tr>\n",
       "    <tr>\n",
       "      <th>2</th>\n",
       "      <td>val</td>\n",
       "      <td>NORMAL</td>\n",
       "      <td>8</td>\n",
       "    </tr>\n",
       "    <tr>\n",
       "      <th>3</th>\n",
       "      <td>val</td>\n",
       "      <td>PNEUMONIA</td>\n",
       "      <td>8</td>\n",
       "    </tr>\n",
       "    <tr>\n",
       "      <th>4</th>\n",
       "      <td>test</td>\n",
       "      <td>NORMAL</td>\n",
       "      <td>234</td>\n",
       "    </tr>\n",
       "    <tr>\n",
       "      <th>5</th>\n",
       "      <td>test</td>\n",
       "      <td>PNEUMONIA</td>\n",
       "      <td>390</td>\n",
       "    </tr>\n",
       "  </tbody>\n",
       "</table>\n",
       "</div>"
      ]
     },
     "metadata": {},
     "output_type": "display_data"
    }
   ],
   "execution_count": 5
  },
  {
   "metadata": {},
   "cell_type": "markdown",
   "source": "Contagem de imagens por classe e conjunto (train, val, test). A função percorre as pastas e contabiliza a quantidade de imagens para cada categoria (NORMAL e PNEUMONIA), organizando os dados em uma tabela com o total por grupo."
  },
  {
   "cell_type": "code",
   "metadata": {
    "id": "0EEImpPTDuNt",
    "colab": {
     "base_uri": "https://localhost:8080/",
     "height": 501
    },
    "outputId": "220504fe-7d45-48e6-8403-88bd5309932b",
    "ExecuteTime": {
     "end_time": "2025-06-07T19:14:05.958179Z",
     "start_time": "2025-06-07T19:14:05.686828Z"
    }
   },
   "source": [
    "# 📈 VISUALIZAÇÃO DA DISTRIBUIÇÃO DAS IMAGENS\n",
    "\n",
    "plt.figure(figsize=(8, 5))  # Define o tamanho da figura (largura=8, altura=5)\n",
    "sns.barplot(data=df_contagem, x='Conjunto', y='Total', hue='Classe')  # Cria um gráfico de barras agrupadas por classe e conjunto\n",
    "plt.title('Distribuição de Imagens por Classe e Conjunto')  # Título do gráfico\n",
    "plt.ylabel('Quantidade de Imagens')  # Rótulo do eixo Y\n",
    "plt.xlabel('Conjunto')  # Rótulo do eixo X\n",
    "plt.legend(title='Classe')  # Adiciona legenda com título 'Classe'\n",
    "plt.tight_layout()  # Ajusta o layout para evitar sobreposição\n",
    "plt.show()  # Exibe o gráfico\n"
   ],
   "outputs": [
    {
     "data": {
      "text/plain": [
       "<Figure size 800x500 with 1 Axes>"
      ],
      "image/png": "[encoded data removed]"
     },
     "metadata": {},
     "output_type": "display_data"
    }
   ],
   "execution_count": 6
  },
  {
   "metadata": {},
   "cell_type": "markdown",
   "source": "Visualização da distribuição das imagens por classe (NORMAL e PNEUMONIA) e por conjunto (train, val, test), evidenciando o desbalanceamento nos dados de treino."
  },
  {
   "cell_type": "markdown",
   "metadata": {
    "id": "qND2OCLYFDTw"
   },
   "source": [
    "### 2.1 Verificação de formatos e canais"
   ]
  },
  {
   "cell_type": "code",
   "metadata": {
    "id": "OjOoXqQ_-8CU",
    "colab": {
     "base_uri": "https://localhost:8080/"
    },
    "outputId": "d5b15cad-4e7b-4723-e08c-fc448a63212a",
    "ExecuteTime": {
     "end_time": "2025-06-07T19:14:11.824788Z",
     "start_time": "2025-06-07T19:14:10.185691Z"
    }
   },
   "source": [
    "# 🔎 VERIFICAÇÃO DOS FORMATOS DAS IMAGENS\n",
    "\n",
    "def checar_formatos(diretorio):\n",
    "    formatos = set()  # Conjunto para armazenar combinações únicas de tamanho e modo de cor das imagens\n",
    "    for subset in ['train', 'val', 'test']:  # Percorre os subconjuntos do dataset\n",
    "        for classe in ['NORMAL', 'PNEUMONIA']:  # Percorre as duas classes\n",
    "            pasta = os.path.join(diretorio, subset, classe)  # Caminho da pasta da classe\n",
    "            for arquivo in os.listdir(pasta):  # Itera sobre os arquivos na pasta\n",
    "                caminho = os.path.join(pasta, arquivo)  # Caminho completo da imagem\n",
    "                try:\n",
    "                    img = Image.open(caminho)  # Abre a imagem com PIL\n",
    "                    formatos.add((img.size, img.mode))  # Adiciona o tamanho e o modo de cor (RGB, L, etc.) ao conjunto\n",
    "                except:\n",
    "                    continue  # Ignora arquivos corrompidos ou inválidos\n",
    "    return formatos  # Retorna o conjunto de formatos únicos encontrados\n",
    "\n",
    "formatos = checar_formatos(base_dir)  # Aplica a função ao diretório base\n",
    "print(\"Formatos únicos encontrados:\", formatos)  # Exibe os tamanhos e modos únicos das imagens\n"
   ],
   "outputs": [
    {
     "name": "stdout",
     "output_type": "stream",
     "text": [
      "Formatos únicos encontrados: {((1426, 1052), 'L'), ((992, 680), 'L'), ((1152, 688), 'L'), ((1504, 1283), 'L'), ((1592, 1329), 'L'), ((1882, 1480), 'L'), ((1160, 897), 'L'), ((2164, 1746), 'L'), ((1518, 1121), 'L'), ((1360, 1208), 'L'), ((1360, 832), 'L'), ((824, 472), 'L'), ((1296, 920), 'L'), ((1200, 824), 'L'), ((869, 553), 'RGB'), ((1816, 1550), 'L'), ((1974, 1226), 'L'), ((1754, 1615), 'L'), ((984, 544), 'L'), ((1384, 792), 'L'), ((1784, 1216), 'L'), ((1666, 1333), 'L'), ((1604, 1179), 'L'), ((1448, 880), 'L'), ((1592, 1312), 'L'), ((1192, 688), 'L'), ((1736, 1424), 'L'), ((1088, 800), 'L'), ((1460, 1067), 'L'), ((1688, 1120), 'L'), ((1312, 832), 'L'), ((1738, 1296), 'L'), ((1686, 1133), 'L'), ((1808, 1488), 'L'), ((1560, 1200), 'L'), ((1128, 680), 'L'), ((1534, 1064), 'L'), ((1632, 1186), 'L'), ((1224, 976), 'L'), ((1288, 800), 'L'), ((1164, 735), 'L'), ((1192, 992), 'L'), ((735, 467), 'RGB'), ((1978, 1777), 'L'), ((1088, 728), 'L'), ((1944, 1367), 'L'), ((1812, 1627), 'L'), ((1704, 1256), 'L'), ((1028, 650), 'L'), ((1820, 1153), 'L'), ((2088, 2074), 'L'), ((1552, 1064), 'L'), ((1524, 1410), 'L'), ((2206, 1720), 'L'), ((960, 536), 'L'), ((810, 391), 'RGB'), ((1520, 960), 'L'), ((1890, 1334), 'L'), ((1306, 994), 'L'), ((1752, 1408), 'L'), ((1424, 1152), 'L'), ((1088, 760), 'L'), ((1080, 680), 'L'), ((1694, 1182), 'L'), ((1096, 560), 'L'), ((984, 496), 'L'), ((1432, 936), 'L'), ((1528, 1032), 'L'), ((1768, 1560), 'L'), ((1000, 752), 'L'), ((1832, 1472), 'L'), ((1336, 1128), 'L'), ((904, 656), 'L'), ((789, 469), 'RGB'), ((1118, 712), 'L'), ((1648, 1176), 'L'), ((1010, 717), 'L'), ((1296, 800), 'L'), ((960, 464), 'L'), ((1520, 984), 'L'), ((1844, 1272), 'L'), ((992, 704), 'L'), ((1334, 1171), 'L'), ((450, 250), 'RGB'), ((1048, 604), 'L'), ((1874, 1187), 'L'), ((1226, 747), 'L'), ((1192, 568), 'L'), ((1716, 1225), 'L'), ((1336, 1056), 'L'), ((1448, 1136), 'L'), ((856, 608), 'L'), ((1388, 1009), 'L'), ((1574, 1164), 'L'), ((1478, 1137), 'L'), ((2144, 2129), 'L'), ((1746, 1445), 'L'), ((992, 632), 'L'), ((1418, 1010), 'L'), ((1955, 1672), 'L'), ((1508, 1052), 'L'), ((1232, 824), 'L'), ((1646, 1391), 'L'), ((1778, 1168), 'L'), ((1824, 1565), 'L'), ((1990, 1666), 'L'), ((1550, 1059), 'L'), ((904, 608), 'L'), ((1048, 440), 'L'), ((1744, 1402), 'L'), ((1566, 1222), 'L'), ((968, 600), 'L'), ((1256, 960), 'L'), ((1064, 680), 'L'), ((1202, 986), 'L'), ((1072, 856), 'L'), ((1136, 768), 'L'), ((1816, 1554), 'L'), ((1468, 1083), 'L'), ((1600, 1329), 'L'), ((2450, 2145), 'L'), ((1104, 896), 'L'), ((1542, 1461), 'L'), ((1000, 632), 'L'), ((529, 207), 'RGB'), ((1304, 960), 'L'), ((968, 624), 'L'), ((1786, 1068), 'L'), ((1284, 832), 'L'), ((1256, 888), 'L'), ((1320, 800), 'L'), ((2268, 1959), 'L'), ((1624, 1128), 'L'), ((1430, 1198), 'L'), ((1328, 976), 'L'), ((928, 672), 'L'), ((1952, 1296), 'L'), ((1418, 1048), 'L'), ((968, 499), 'RGB'), ((486, 191), 'RGB'), ((2114, 1681), 'L'), ((1654, 1368), 'L'), ((2844, 2067), 'L'), ((1882, 1329), 'L'), ((968, 552), 'L'), ((1024, 751), 'L'), ((1774, 1318), 'L'), ((1720, 1152), 'L'), ((1392, 936), 'L'), ((1762, 1060), 'L'), ((1654, 1259), 'L'), ((1104, 848), 'L'), ((1584, 1237), 'L'), ((1536, 1320), 'L'), ((1072, 658), 'L'), ((1434, 1036), 'L'), ((1450, 1020), 'L'), ((571, 310), 'RGB'), ((1256, 840), 'L'), ((1368, 904), 'L'), ((1560, 792), 'L'), ((1580, 1402), 'L'), ((936, 760), 'L'), ((928, 624), 'L'), ((1396, 1024), 'L'), ((832, 440), 'L'), ((1000, 448), 'L'), ((992, 616), 'L'), ((1438, 1175), 'L'), ((1200, 960), 'L'), ((1248, 792), 'L'), ((1476, 1133), 'L'), ((1104, 776), 'L'), ((1812, 1476), 'L'), ((1264, 672), 'L'), ((687, 425), 'RGB'), ((918, 735), 'L'), ((912, 672), 'L'), ((1072, 768), 'L'), ((1168, 864), 'L'), ((1298, 747), 'L'), ((1288, 851), 'L'), ((1136, 752), 'L'), ((1392, 888), 'L'), ((843, 507), 'RGB'), ((1056, 552), 'L'), ((1040, 568), 'L'), ((1426, 1049), 'L'), ((743, 453), 'RGB'), ((1862, 1441), 'L'), ((1168, 792), 'L'), ((1616, 872), 'L'), ((1600, 1264), 'L'), ((1458, 1233), 'L'), ((460, 157), 'RGB'), ((1024, 680), 'L'), ((1160, 712), 'L'), ((1870, 1380), 'L'), ((1636, 1321), 'L'), ((2118, 1522), 'L'), ((1272, 1048), 'L'), ((1032, 520), 'L'), ((936, 712), 'L'), ((1816, 1435), 'L'), ((1584, 720), 'L'), ((1160, 744), 'L'), ((992, 568), 'L'), ((1064, 936), 'L'), ((1330, 1132), 'L'), ((2018, 1881), 'L'), ((960, 672), 'L'), ((671, 393), 'RGB'), ((803, 452), 'RGB'), ((1516, 982), 'L'), ((1008, 808), 'L'), ((1072, 720), 'L'), ((1140, 786), 'L'), ((1168, 816), 'L'), ((1785, 1585), 'L'), ((1024, 608), 'L'), ((1136, 712), 'L'), ((1570, 1460), 'L'), ((1040, 528), 'L'), ((1094, 829), 'L'), ((1032, 824), 'L'), ((1666, 1507), 'L'), ((1192, 862), 'L'), ((663, 431), 'RGB'), ((936, 640), 'L'), ((1538, 1202), 'L'), ((1646, 1310), 'L'), ((1144, 784), 'L'), ((2273, 1505), 'L'), ((1940, 1816), 'L'), ((1940, 1489), 'L'), ((2480, 1924), 'L'), ((1496, 1049), 'L'), ((1670, 1319), 'L'), ((1264, 928), 'L'), ((1008, 736), 'L'), ((1168, 744), 'L'), ((1024, 632), 'L'), ((1360, 1024), 'L'), ((1422, 1066), 'L'), ((1238, 635), 'L'), ((1546, 1231), 'L'), ((976, 640), 'L'), ((1104, 832), 'L'), ((928, 536), 'L'), ((1700, 1271), 'L'), ((1774, 1612), 'L'), ((1672, 1328), 'L'), ((1432, 1176), 'L'), ((1336, 992), 'L'), ((1096, 784), 'L'), ((1000, 600), 'L'), ((1558, 1279), 'L'), ((1852, 1442), 'L'), ((1550, 955), 'L'), ((1256, 792), 'L'), ((1160, 696), 'L'), ((1550, 1368), 'L'), ((1024, 560), 'L'), ((1568, 1096), 'L'), ((1972, 1719), 'L'), ((976, 568), 'L'), ((1136, 664), 'L'), ((1560, 1016), 'L'), ((1040, 856), 'L'), ((1460, 1279), 'L'), ((1620, 1175), 'L'), ((1592, 1056), 'L'), ((1522, 1090), 'L'), ((1192, 808), 'L'), ((1096, 712), 'L'), ((1256, 720), 'L'), ((1800, 1256), 'L'), ((1518, 1310), 'L'), ((1544, 1440), 'L'), ((1208, 672), 'L'), ((1000, 528), 'L'), ((1716, 1222), 'L'), ((936, 624), 'L'), ((1960, 1648), 'L'), ((1040, 747), 'L'), ((1658, 1534), 'L'), ((1088, 576), 'L'), ((1430, 1194), 'L'), ((1410, 1244), 'L'), ((1136, 968), 'L'), ((1376, 1210), 'L'), ((2078, 2047), 'L'), ((904, 472), 'L'), ((1432, 1128), 'L'), ((1336, 944), 'L'), ((1742, 1372), 'L'), ((1592, 1080), 'L'), ((1852, 1443), 'L'), ((2018, 1920), 'L'), ((2553, 2305), 'L'), ((1400, 880), 'L'), ((1064, 544), 'L'), ((1896, 1640), 'L'), ((1306, 920), 'L'), ((1072, 704), 'L'), ((1240, 792), 'L'), ((1232, 712), 'L'), ((1232, 1088), 'L'), ((1762, 1391), 'L'), ((1618, 1279), 'L'), ((801, 541), 'RGB'), ((1612, 1133), 'L'), ((1192, 760), 'L'), ((1574, 1229), 'L'), ((1840, 1511), 'L'), ((1544, 1392), 'L'), ((1016, 736), 'L'), ((1720, 1507), 'L'), ((1576, 1395), 'L'), ((2400, 2121), 'L'), ((1192, 792), 'L'), ((1336, 904), 'L'), ((1240, 720), 'L'), ((2022, 1384), 'L'), ((1632, 1064), 'L'), ((1248, 896), 'L'), ((1023, 719), 'RGB'), ((848, 632), 'L'), ((1078, 639), 'L'), ((1800, 1512), 'L'), ((2090, 1858), 'L'), ((1400, 1208), 'L'), ((1416, 1128), 'L'), ((1368, 1151), 'L'), ((1372, 897), 'L'), ((2292, 1893), 'L'), ((1008, 616), 'L'), ((1874, 1836), 'L'), ((1904, 1461), 'L'), ((765, 375), 'RGB'), ((1912, 1739), 'L'), ((1300, 974), 'L'), ((1416, 1432), 'L'), ((1176, 760), 'L'), ((1240, 1048), 'L'), ((1584, 1184), 'L'), ((828, 525), 'RGB'), ((1248, 848), 'L'), ((1675, 1428), 'L'), ((1578, 1318), 'L'), ((1006, 740), 'L'), ((1296, 904), 'L'), ((1792, 1611), 'L'), ((2444, 2155), 'L'), ((1504, 1104), 'L'), ((1264, 896), 'L'), ((1408, 864), 'L'), ((1168, 712), 'L'), ((1790, 1654), 'L'), ((1480, 1306), 'L'), ((1480, 1392), 'L'), ((1384, 1208), 'L'), ((2362, 2187), 'L'), ((713, 353), 'RGB'), ((2088, 1840), 'L'), ((1454, 794), 'L'), ((1462, 1171), 'L'), ((989, 651), 'RGB'), ((1072, 656), 'L'), ((1642, 1245), 'L'), ((1416, 1079), 'L'), ((1984, 1576), 'L'), ((1580, 805), 'L'), ((1760, 1168), 'L'), ((1216, 1000), 'L'), ((703, 457), 'RGB'), ((1168, 1016), 'L'), ((990, 614), 'RGB'), ((1052, 651), 'L'), ((846, 539), 'RGB'), ((1968, 1688), 'L'), ((1720, 992), 'L'), ((2434, 2376), 'L'), ((1272, 896), 'L'), ((1198, 931), 'L'), ((936, 560), 'L'), ((438, 179), 'RGB'), ((1522, 1407), 'L'), ((1408, 720), 'L'), ((1640, 1328), 'L'), ((1848, 1472), 'L'), ((1072, 584), 'L'), ((1572, 1389), 'L'), ((1848, 1848), 'L'), ((1504, 1056), 'L'), ((1512, 1136), 'L'), ((1312, 1112), 'L'), ((1118, 932), 'L'), ((1196, 974), 'L'), ((880, 592), 'L'), ((1216, 928), 'L'), ((1568, 992), 'L'), ((1472, 808), 'L'), ((1796, 1287), 'L'), ((1288, 1080), 'L'), ((1576, 1064), 'L'), ((952, 744), 'L'), ((1144, 632), 'L'), ((741, 421), 'RGB'), ((1240, 728), 'L'), ((1426, 951), 'L'), ((1840, 1283), 'L'), ((1504, 1033), 'L'), ((1298, 959), 'L'), ((1704, 1344), 'L'), ((944, 631), 'RGB'), ((1878, 1654), 'L'), ((1546, 1314), 'L'), ((1184, 848), 'L'), ((944, 696), 'L'), ((1080, 584), 'L'), ((2176, 1658), 'L'), ((1000, 464), 'L'), ((1160, 816), 'L'), ((1416, 1008), 'L'), ((1008, 624), 'L'), ((1392, 1264), 'L'), ((840, 464), 'L'), ((1512, 1088), 'L'), ((1800, 1503), 'L'), ((976, 728), 'L'), ((1546, 1205), 'L'), ((1230, 1136), 'L'), ((1664, 1128), 'L'), ((1040, 720), 'L'), ((2064, 1750), 'L'), ((1272, 825), 'L'), ((944, 624), 'L'), ((1232, 984), 'L'), ((1056, 584), 'L'), ((1144, 600), 'L'), ((1646, 1588), 'L'), ((1056, 960), 'L'), ((1255, 883), 'L'), ((1338, 1044), 'L'), ((952, 696), 'L'), ((1496, 1333), 'L'), ((1186, 751), 'L'), ((1586, 1048), 'L'), ((1454, 1160), 'L'), ((1272, 824), 'L'), ((1574, 1225), 'L'), ((1430, 1113), 'L'), ((1168, 560), 'L'), ((1106, 674), 'L'), ((1008, 552), 'L'), ((1016, 632), 'L'), ((1312, 792), 'L'), ((1520, 1192), 'L'), ((1376, 1080), 'L'), ((1226, 624), 'L'), ((1184, 800), 'L'), ((1774, 1804), 'L'), ((1280, 896), 'L'), ((1604, 1279), 'L'), ((1088, 992), 'L'), ((1630, 1353), 'L'), ((944, 648), 'L'), ((784, 552), 'L'), ((1144, 904), 'L'), ((1400, 1040), 'L'), ((1304, 744), 'L'), ((1416, 960), 'L'), ((1518, 1149), 'L'), ((1496, 1012), 'L'), ((2522, 2124), 'L'), ((2366, 2152), 'L'), ((1120, 816), 'L'), ((880, 576), 'L'), ((944, 576), 'L'), ((1364, 805), 'L'), ((1412, 1066), 'L'), ((1248, 816), 'L'), ((1804, 1453), 'L'), ((1446, 1171), 'L'), ((1600, 992), 'L'), ((1208, 864), 'L'), ((1112, 680), 'L'), ((1272, 776), 'L'), ((1450, 913), 'L'), ((1106, 712), 'L'), ((1016, 584), 'L'), ((2358, 1673), 'L'), ((1720, 1128), 'L'), ((1224, 784), 'L'), ((1836, 1487), 'L'), ((1376, 656), 'L'), ((1782, 1460), 'L'), ((982, 573), 'RGB'), ((1164, 1086), 'L'), ((1104, 632), 'L'), ((1248, 744), 'L'), ((1504, 936), 'L'), ((1056, 840), 'L'), ((1088, 648), 'L'), ((926, 606), 'RGB'), ((1724, 1353), 'L'), ((1456, 1264), 'L'), ((838, 498), 'RGB'), ((1426, 832), 'L'), ((1442, 1229), 'L'), ((483, 178), 'RGB'), ((1624, 1299), 'L'), ((1554, 1245), 'L'), ((1576, 944), 'L'), ((1588, 1217), 'L'), ((1782, 1437), 'L'), ((1348, 979), 'L'), ((1144, 888), 'L'), ((1216, 864), 'L'), ((1080, 600), 'L'), ((428, 256), 'RGB'), ((1048, 704), 'L'), ((1584, 1104), 'L'), ((1384, 1167), 'L'), ((1214, 1106), 'L'), ((1480, 1302), 'L'), ((1262, 849), 'L'), ((1144, 966), 'L'), ((2637, 1905), 'L'), ((907, 513), 'RGB'), ((1484, 1136), 'L'), ((1712, 1384), 'L'), ((1072, 552), 'L'), ((1352, 928), 'L'), ((968, 664), 'L'), ((880, 560), 'L'), ((1112, 632), 'L'), ((1554, 1136), 'L'), ((1240, 912), 'L'), ((1666, 1290), 'L'), ((1048, 632), 'L'), ((1692, 1364), 'L'), ((1352, 960), 'L'), ((1440, 976), 'L'), ((1256, 776), 'L'), ((1344, 792), 'L'), ((1256, 1097), 'L'), ((976, 672), 'L'), ((1216, 824), 'L'), ((1208, 1120), 'L'), ((1416, 944), 'L'), ((1336, 744), 'L'), ((1080, 552), 'L'), ((1576, 1272), 'L'), ((1280, 863), 'L'), ((1796, 1283), 'L'), ((1068, 778), 'L'), ((1762, 1535), 'L'), ((1214, 731), 'L'), ((952, 640), 'L'), ((1448, 984), 'L'), ((1234, 906), 'L'), ((856, 456), 'L'), ((1180, 809), 'L'), ((1778, 1356), 'L'), ((1566, 1383), 'L'), ((1120, 768), 'L'), ((1882, 1608), 'L'), ((937, 515), 'RGB'), ((738, 543), 'RGB'), ((1582, 1155), 'L'), ((1272, 760), 'L'), ((2056, 2206), 'L'), ((1344, 1128), 'L'), ((861, 543), 'RGB'), ((1576, 1200), 'L'), ((984, 672), 'L'), ((1096, 650), 'L'), ((1624, 1016), 'L'), ((1068, 620), 'L'), ((1330, 936), 'L'), ((1534, 1264), 'L'), ((1448, 1008), 'L'), ((1176, 952), 'L'), ((845, 556), 'RGB'), ((2143, 1576), 'L'), ((1650, 1341), 'L'), ((1416, 904), 'L'), ((1408, 1056), 'L'), ((1312, 960), 'L'), ((976, 624), 'L'), ((1552, 1544), 'L'), ((1856, 1496), 'L'), ((880, 440), 'L'), ((1431, 1044), 'L'), ((1624, 1375), 'L'), ((1424, 976), 'L'), ((1216, 1152), 'L'), ((1720, 1095), 'L'), ((1376, 999), 'L'), ((1612, 1515), 'L'), ((1528, 1013), 'L'), ((1508, 1337), 'L'), ((1454, 1078), 'L'), ((1384, 1024), 'L'), ((952, 592), 'L'), ((1873, 1764), 'L'), ((1048, 688), 'L'), ((1558, 1014), 'L'), ((1372, 1164), 'L'), ((1752, 1264), 'L'), ((1484, 993), 'L'), ((1416, 928), 'L'), ((864, 584), 'L'), ((1828, 1357), 'L'), ((1642, 1507), 'L'), ((1808, 1507), 'L'), ((1280, 792), 'L'), ((1040, 640), 'L'), ((1536, 984), 'L'), ((1404, 1333), 'L'), ((1480, 856), 'L'), ((1634, 1183), 'L'), ((1416, 856), 'L'), ((1244, 863), 'L'), ((1120, 648), 'L'), ((1320, 1048), 'L'), ((1724, 1638), 'L'), ((928, 544), 'L'), ((1816, 1607), 'L'), ((992, 832), 'L'), ((1570, 1310), 'L'), ((1454, 1079), 'L'), ((1248, 712), 'L'), ((1048, 640), 'L'), ((1180, 885), 'L'), ((664, 472), 'L'), ((1468, 1010), 'L'), ((1224, 992), 'L'), ((1596, 1148), 'L'), ((2048, 1656), 'L'), ((1402, 1117), 'L'), ((1184, 664), 'L'), ((1568, 832), 'L'), ((1184, 1040), 'L'), ((1472, 1024), 'L'), ((992, 760), 'L'), ((1218, 739), 'L'), ((896, 576), 'L'), ((1088, 856), 'L'), ((1928, 1738), 'L'), ((1248, 1016), 'L'), ((1152, 832), 'L'), ((1442, 898), 'L'), ((824, 616), 'L'), ((1080, 808), 'L'), ((1670, 1279), 'L'), ((1656, 1336), 'L'), ((1320, 1000), 'L'), ((1416, 1184), 'L'), ((1148, 805), 'L'), ((1328, 800), 'L'), ((1460, 1233), 'L'), ((1562, 1086), 'L'), ((1844, 1438), 'L'), ((1782, 1433), 'L'), ((1770, 1387), 'L'), ((1646, 1410), 'L'), ((1686, 1337), 'L'), ((1666, 1209), 'L'), ((1612, 1086), 'L'), ((1296, 928), 'L'), ((480, 167), 'RGB'), ((1288, 848), 'L'), ((1056, 776), 'L'), ((1248, 664), 'L'), ((1400, 898), 'L'), ((864, 496), 'L'), ((1338, 1079), 'L'), ((1462, 1245), 'L'), ((1320, 840), 'L'), ((860, 500), 'RGB'), ((1558, 1380), 'L'), ((1410, 979), 'L'), ((1592, 1352), 'L'), ((2008, 1440), 'L'), ((1288, 880), 'L'), ((1120, 704), 'L'), ((952, 544), 'L'), ((1328, 1104), 'L'), ((952, 581), 'L'), ((2251, 1828), 'L'), ((1110, 870), 'L'), ((1956, 1634), 'L'), ((1426, 1164), 'L'), ((1365, 1118), 'L'), ((1744, 1312), 'L'), ((721, 349), 'RGB'), ((1152, 784), 'L'), ((1696, 1320), 'L'), ((1160, 960), 'L'), ((1064, 776), 'L'), ((1080, 760), 'L'), ((824, 568), 'L'), ((1224, 872), 'L'), ((1464, 1051), 'L'), ((1032, 768), 'L'), ((1768, 1072), 'L'), ((1952, 1777), 'L'), ((1646, 1121), 'L'), ((1294, 902), 'L'), ((1576, 792), 'L'), ((1396, 897), 'L'), ((1240, 832), 'L'), ((1782, 1434), 'L'), ((1048, 568), 'L'), ((1852, 1433), 'L'), ((992, 816), 'L'), ((995, 604), 'RGB'), ((824, 529), 'RGB'), ((1056, 728), 'L'), ((960, 544), 'L'), ((1236, 709), 'L'), ((1024, 480), 'L'), ((1272, 592), 'L'), ((2496, 2296), 'L'), ((1580, 1493), 'L'), ((1670, 1245), 'L'), ((1368, 1032), 'L'), ((1032, 696), 'L'), ((1458, 1074), 'L'), ((1684, 1240), 'L'), ((888, 584), 'L'), ((1906, 1527), 'L'), ((445, 140), 'RGB'), ((1240, 760), 'L'), ((1214, 994), 'L'), ((1160, 920), 'L'), ((1064, 736), 'L'), ((1056, 656), 'L'), ((1152, 752), 'L'), ((1276, 1036), 'L'), ((912, 544), 'L'), ((920, 624), 'L'), ((1964, 1611), 'L'), ((1264, 800), 'L'), ((1558, 933), 'L'), ((1456, 1080), 'L'), ((1554, 1067), 'L'), ((1472, 1013), 'L'), ((1898, 1804), 'L'), ((1288, 760), 'L'), ((1596, 1156), 'L'), ((952, 800), 'L'), ((1096, 656), 'L'), ((856, 616), 'L'), ((1592, 1000), 'L'), ((679, 542), 'RGB'), ((992, 768), 'L'), ((1805, 1044), 'L'), ((1766, 1403), 'L'), ((1216, 712), 'L'), ((1120, 616), 'L'), ((872, 528), 'L'), ((1808, 1280), 'L'), ((1430, 1005), 'L'), ((1114, 850), 'L'), ((1136, 912), 'L'), ((1866, 1311), 'L'), ((1032, 648), 'L'), ((1688, 1488), 'L'), ((1096, 960), 'L'), ((2115, 1792), 'L'), ((1160, 872), 'L'), ((992, 696), 'L'), ((1064, 688), 'L'), ((1000, 776), 'L'), ((1346, 1040), 'L'), ((1214, 1069), 'L'), ((1456, 1032), 'L'), ((1360, 848), 'L'), ((1504, 1336), 'L'), ((895, 516), 'RGB'), ((1408, 904), 'L'), ((1438, 927), 'L'), ((1604, 1117), 'L'), ((1802, 1333), 'L'), ((1588, 1453), 'L'), ((620, 359), 'RGB'), ((1664, 1456), 'L'), ((1568, 1272), 'L'), ((1024, 736), 'L'), ((1328, 1120), 'L'), ((1246, 931), 'L'), ((896, 544), 'L'), ((1754, 1036), 'L'), ((1432, 1000), 'L'), ((888, 464), 'L'), ((1224, 856), 'L'), ((1812, 1206), 'L'), ((1724, 1480), 'L'), ((1882, 1855), 'L'), ((1338, 851), 'L'), ((856, 648), 'L'), ((763, 440), 'RGB'), ((1224, 888), 'L'), ((1712, 1152), 'L'), ((1128, 704), 'L'), ((1312, 848), 'L'), ((1360, 776), 'L'), ((1304, 1408), 'L'), ((1636, 1074), 'L'), ((1328, 768), 'L'), ((2474, 2224), 'L'), ((1562, 1021), 'L'), ((1088, 752), 'L'), ((1080, 672), 'L'), ((1288, 816), 'L'), ((1096, 536), 'L'), ((952, 480), 'L'), ((2080, 1781), 'L'), ((1800, 1456), 'L'), ((1704, 1499), 'L'), ((1312, 776), 'L'), ((984, 520), 'L'), ((1856, 1312), 'L'), ((1534, 1063), 'L'), ((1754, 1499), 'L'), ((880, 632), 'L'), ((1824, 1040), 'L'), ((928, 392), 'L'), ((1136, 792), 'L'), ((832, 584), 'L'), ((841, 521), 'RGB'), ((1232, 888), 'L'), ((2106, 1719), 'L'), ((1696, 1224), 'L'), ((1392, 1008), 'L'), ((1056, 672), 'L'), ((1296, 824), 'L'), ((1296, 1200), 'L'), ((1468, 821), 'L'), ((904, 672), 'L'), ((1552, 1016), 'L'), ((1284, 878), 'L'), ((1112, 736), 'L'), ((948, 542), 'L'), ((1800, 1384), 'L'), ((1400, 1080), 'L'), ((2343, 2139), 'L'), ((968, 648), 'L'), ((1320, 936), 'L'), ((1754, 1341), 'L'), ((1562, 1059), 'L'), ((1680, 1232), 'L'), ((1720, 1348), 'L'), ((832, 512), 'L'), ((856, 632), 'L'), ((1088, 704), 'L'), ((1198, 874), 'L'), ((823, 459), 'RGB'), ((1633, 1080), 'L'), ((1296, 848), 'L'), ((1288, 768), 'L'), ((904, 600), 'L'), ((667, 322), 'RGB'), ((1724, 1160), 'L'), ((1656, 1200), 'L'), ((1360, 1167), 'L'), ((920, 560), 'L'), ((1224, 768), 'L'), ((1064, 672), 'L'), ((1464, 1296), 'L'), ((1534, 1187), 'L'), ((1432, 1288), 'L'), ((1310, 882), 'L'), ((1376, 1229), 'L'), ((1962, 2169), 'L'), ((858, 522), 'RGB'), ((1006, 855), 'L'), ((1152, 720), 'L'), ((1056, 624), 'L'), ((960, 816), 'L'), ((1304, 952), 'L'), ((1882, 1812), 'L'), ((1360, 1191), 'L'), ((1546, 1414), 'L'), ((1816, 1157), 'L'), ((1700, 1368), 'L'), ((1864, 1648), 'L'), ((1334, 1006), 'L'), ((1384, 824), 'L'), ((1192, 920), 'L'), ((1596, 1510), 'L'), ((1550, 1144), 'L'), ((532, 255), 'RGB'), ((1310, 1029), 'L'), ((843, 484), 'RGB'), ((1284, 893), 'L'), ((1944, 1708), 'L'), ((960, 744), 'L'), ((1512, 1225), 'L'), ((1388, 1063), 'L'), ((1642, 1422), 'L'), ((1768, 1488), 'L'), ((1949, 1632), 'L'), ((1906, 1909), 'L'), ((1412, 1198), 'L'), ((500, 250), 'RGB'), ((1742, 1392), 'L'), ((1003, 413), 'RGB'), ((1488, 1094), 'L'), ((468, 242), 'RGB'), ((1152, 672), 'L'), ((1200, 1024), 'L'), ((1072, 832), 'L'), ((1106, 774), 'L'), ((1690, 1167), 'L'), ((976, 648), 'L'), ((968, 568), 'L'), ((1863, 1785), 'L'), ((1458, 944), 'L'), ((1408, 839), 'L'), ((1624, 1072), 'L'), ((1790, 1441), 'L'), ((1500, 1194), 'L'), ((1522, 1256), 'L'), ((1902, 1595), 'L'), ((1256, 864), 'L'), ((2136, 1650), 'L'), ((1488, 936), 'L'), ((1488, 1312), 'L'), ((1944, 1746), 'L'), ((1662, 1194), 'L'), ((1654, 1345), 'L'), ((1072, 760), 'L'), ((749, 459), 'RGB'), ((976, 576), 'L'), ((1456, 928), 'L'), ((1690, 1314), 'L'), ((1300, 617), 'L'), ((841, 528), 'RGB'), ((1589, 1044), 'L'), ((2090, 1932), 'L'), ((1472, 1360), 'L'), ((1762, 1715), 'L'), ((1302, 927), 'L'), ((1384, 1080), 'L'), ((1064, 624), 'L'), ((1330, 1133), 'L'), ((1104, 792), 'L'), ((1724, 1476), 'L'), ((864, 640), 'L'), ((1264, 688), 'L'), ((1086, 739), 'L'), ((467, 217), 'RGB'), ((928, 576), 'L'), ((1698, 1473), 'L'), ((1360, 1048), 'L'), ((1280, 848), 'L'), ((2172, 1963), 'L'), ((944, 496), 'L'), ((1568, 1192), 'L'), ((1824, 1384), 'L'), ((1184, 1024), 'L'), ((1068, 763), 'L'), ((1348, 812), 'L'), ((1438, 1260), 'L'), ((1110, 724), 'L'), ((968, 832), 'L'), ((1256, 816), 'L'), ((1654, 1313), 'L'), ((1008, 800), 'L'), ((448, 173), 'RGB'), ((1072, 712), 'L'), ((1168, 808), 'L'), ((1704, 1544), 'L'), ((832, 416), 'L'), ((1638, 1323), 'L'), ((635, 448), 'RGB'), ((1294, 1138), 'L'), ((1088, 672), 'L'), ((1810, 1545), 'L'), ((1750, 1480), 'L'), ((1096, 472), 'L'), ((1160, 760), 'L'), ((904, 568), 'L'), ((1064, 576), 'L'), ((1786, 1449), 'L'), ((1064, 952), 'L'), ((1000, 664), 'L'), ((2006, 1647), 'L'), ((1462, 1010), 'L'), ((1704, 1435), 'L'), ((1416, 1208), 'L'), ((1400, 890), 'L'), ((708, 292), 'RGB'), ((1024, 624), 'L'), ((1650, 1214), 'L'), ((1136, 728), 'L'), ((1040, 544), 'L'), ((848, 640), 'L'), ((1852, 1403), 'L'), ((1096, 776), 'L'), ((1496, 1024), 'L'), ((1000, 592), 'L'), ((1364, 998), 'L'), ((1400, 1216), 'L'), ((1064, 504), 'L'), ((1064, 880), 'L'), ((1592, 1120), 'L'), ((1160, 688), 'L'), ((1368, 1208), 'L'), ((1396, 1001), 'L'), ((1932, 1743), 'L'), ((1168, 760), 'L'), ((936, 688), 'L'), ((1280, 963), 'L'), ((1748, 1079), 'L'), ((992, 544), 'L'), ((1040, 848), 'L'), ((800, 640), 'L'), ((1500, 1294), 'L'), ((1612, 1179), 'L'), ((1584, 1328), 'L'), ((1746, 1270), 'L'), ((1304, 848), 'L'), ((1318, 936), 'L'), ((1442, 1101), 'L'), ((1368, 760), 'L'), ((1128, 520), 'L'), ((1304, 1224), 'L'), ((1272, 952), 'L'), ((1112, 856), 'L'), ((968, 512), 'L'), ((936, 616), 'L'), ((1176, 768), 'L'), ((1656, 1120), 'L'), ((2619, 2628), 'L'), ((1032, 800), 'L'), ((1144, 760), 'L'), ((1136, 680), 'L'), ((1376, 1208), 'L'), ((1302, 867), 'L'), ((896, 664), 'L'), ((1692, 1878), 'L'), ((1000, 544), 'L'), ((1716, 1175), 'L'), ((1304, 872), 'L'), ((1628, 1167), 'L'), ((1656, 1048), 'L'), ((1328, 888), 'L'), ((1240, 784), 'L'), ((1232, 704), 'L'), ((992, 496), 'L'), ((1500, 1113), 'L'), ((1000, 576), 'L'), ((1144, 688), 'L'), ((1096, 760), 'L'), ((2498, 2057), 'L'), ((1014, 846), 'L'), ((1608, 1345), 'L'), ((1304, 800), 'L'), ((1210, 948), 'L'), ((1224, 656), 'L'), ((1064, 560), 'L'), ((1642, 1364), 'L'), ((1870, 1612), 'L'), ((1525, 1073), 'L'), ((1512, 1488), 'L'), ((1432, 800), 'L'), ((872, 656), 'L'), ((1464, 808), 'L'), ((1700, 1302), 'L'), ((1008, 680), 'L'), ((1296, 1040), 'L'), ((1200, 944), 'L'), ((1654, 1171), 'L'), ((1360, 952), 'L'), ((1202, 882), 'L'), ((1104, 760), 'L'), ((768, 424), 'L'), ((1056, 925), 'L'), ((1504, 1064), 'L'), ((1344, 968), 'L'), ((1472, 1192), 'L'), ((1128, 776), 'L'), ((1418, 1020), 'L'), ((1080, 728), 'L'), ((1176, 824), 'L'), ((1466, 1265), 'L'), ((1392, 776), 'L'), ((1530, 1029), 'L'), ((1504, 1174), 'L'), ((1296, 968), 'L'), ((1200, 872), 'L'), ((1230, 840), 'L'), ((1664, 832), 'L'), ((1712, 1136), 'L'), ((1168, 776), 'L'), ((1328, 872), 'L'), ((1232, 688), 'L'), ((1064, 512), 'L'), ((1072, 680), 'L'), ((2034, 1761), 'L'), ((2014, 1577), 'L'), ((1708, 1248), 'L'), ((1678, 1654), 'L'), ((1192, 736), 'L'), ((1960, 1920), 'L'), ((840, 504), 'L'), ((885, 592), 'RGB'), ((1350, 1062), 'L'), ((1674, 1337), 'L'), ((493, 289), 'RGB'), ((1008, 632), 'L'), ((1440, 1104), 'L'), ((1778, 1337), 'L'), ((1236, 1013), 'L'), ((1592, 1148), 'L'), ((2172, 1615), 'L'), ((790, 472), 'RGB'), ((1272, 882), 'L'), ((1538, 1164), 'L'), ((1664, 1136), 'L'), ((1408, 856), 'L'), ((1754, 1178), 'L'), ((1024, 592), 'L'), ((1168, 704), 'L'), ((976, 800), 'L'), ((2428, 2540), 'L'), ((937, 533), 'RGB'), ((1802, 1226), 'L'), ((1404, 1072), 'L'), ((1728, 1175), 'L'), ((1416, 1072), 'L'), ((1536, 856), 'L'), ((1824, 1776), 'L'), ((840, 528), 'L'), ((1500, 1152), 'L'), ((697, 449), 'RGB'), ((1240, 1064), 'L'), ((1098, 651), 'L'), ((1312, 800), 'L'), ((1416, 1104), 'L'), ((1904, 1744), 'L'), ((2138, 1928), 'L'), ((1198, 978), 'L'), ((546, 219), 'RGB'), ((1280, 968), 'L'), ((1528, 1080), 'L'), ((1488, 893), 'L'), ((1176, 704), 'L'), ((507, 244), 'RGB'), ((1929, 1802), 'L'), ((1048, 888), 'L'), ((1400, 1112), 'L'), ((1256, 813), 'L'), ((2226, 2013), 'L'), ((2048, 1777), 'L'), ((1608, 1226), 'L'), ((557, 177), 'RGB'), ((1360, 936), 'L'), ((936, 584), 'L'), ((1774, 1546), 'L'), ((1890, 1615), 'L'), ((1408, 1184), 'L'), ((1264, 840), 'L'), ((724, 286), 'RGB'), ((668, 375), 'RGB'), ((1804, 1510), 'L'), ((1376, 800), 'L'), ((1712, 1519), 'L'), ((1238, 874), 'L'), ((1022, 735), 'L'), ((1550, 1302), 'L'), ((1564, 1010), 'L'), ((872, 536), 'L'), ((1400, 1136), 'L'), ((2514, 2264), 'L'), ((1224, 792), 'L'), ((1848, 1488), 'L'), ((1704, 1283), 'L'), ((1512, 1152), 'L'), ((1416, 1056), 'L'), ((462, 241), 'RGB'), ((929, 435), 'RGB'), ((1312, 752), 'L'), ((2040, 1619), 'L'), ((2179, 1604), 'L'), ((1136, 576), 'L'), ((1280, 920), 'L'), ((1040, 768), 'L'), ((1124, 716), 'L'), ((1650, 1437), 'L'), ((1422, 952), 'L'), ((840, 456), 'L'), ((1080, 608), 'L'), ((1080, 984), 'L'), ((1312, 1056), 'L'), ((1272, 872), 'L'), ((703, 511), 'RGB'), ((1878, 1331), 'L'), ((1184, 864), 'L'), ((1040, 696), 'L'), ((896, 584), 'L'), ((1130, 831), 'L'), ((1600, 1128), 'L'), ((1504, 1032), 'L'), ((1310, 1102), 'L'), ((1696, 1349), 'L'), ((1716, 1530), 'L'), ((1428, 884), 'L'), ((968, 672), 'L'), ((1152, 1032), 'L'), ((1546, 1094), 'L'), ((1016, 720), 'L'), ((1410, 720), 'L'), ((1767, 1869), 'L'), ((1692, 1372), 'L'), ((1120, 880), 'L'), ((944, 640), 'L'), ((1232, 624), 'L'), ((1184, 792), 'L'), ((856, 536), 'L'), ((1666, 1276), 'L'), ((1778, 1473), 'L'), ((1344, 864), 'L'), ((1910, 1303), 'L'), ((1360, 1261), 'L'), ((1016, 648), 'L'), ((1408, 1090), 'L'), ((1410, 1179), 'L'), ((1272, 840), 'L'), ((1622, 1383), 'L'), ((1782, 1391), 'L'), ((2194, 2094), 'L'), ((2304, 2086), 'L'), ((1336, 816), 'L'), ((1790, 1600), 'L'), ((1240, 1008), 'L'), ((1750, 1334), 'L'), ((1248, 808), 'L'), ((1008, 600), 'L'), ((446, 132), 'RGB'), ((1392, 1240), 'L'), ((1344, 888), 'L'), ((1600, 1542), 'L'), ((1072, 560), 'L'), ((2418, 2260), 'L'), ((1616, 1187), 'L'), ((1450, 1287), 'L'), ((1456, 1279), 'L'), ((1808, 1418), 'L'), ((1478, 1261), 'L'), ((1492, 1148), 'L'), ((1176, 960), 'L'), ((1704, 1616), 'L'), ((2153, 1793), 'L'), ((1748, 1377), 'L'), ((1292, 1076), 'L'), ((1288, 1008), 'L'), ((1144, 952), 'L'), ((952, 672), 'L'), ((2482, 2570), 'L'), ((1048, 768), 'L'), ((784, 496), 'L'), ((2060, 1558), 'L'), ((1008, 528), 'L'), ((2170, 1953), 'L'), ((1828, 1437), 'L'), ((2624, 1893), 'L'), ((1952, 1600), 'L'), ((1136, 528), 'L'), ((1732, 1666), 'L'), ((1272, 792), 'L'), ((1016, 600), 'L'), ((1492, 990), 'L'), ((490, 189), 'RGB'), ((1122, 798), 'L'), ((1342, 1059), 'L'), ((2056, 1793), 'L'), ((716, 444), 'RGB'), ((1350, 1090), 'L'), ((1432, 952), 'L'), ((1336, 768), 'L'), ((1048, 696), 'L'), ((1832, 1488), 'L'), ((808, 488), 'L'), ((1240, 960), 'L'), ((984, 784), 'L'), ((952, 600), 'L'), ((1248, 760), 'L'), ((1056, 856), 'L'), ((1854, 1495), 'L'), ((2252, 1936), 'L'), ((1312, 696), 'L'), ((976, 736), 'L'), ((1208, 808), 'L'), ((1808, 1542), 'L'), ((1112, 624), 'L'), ((1040, 648), 'L'), ((1808, 1456), 'L'), ((880, 552), 'L'), ((1638, 1020), 'L'), ((2667, 2280), 'L'), ((1348, 995), 'L'), ((888, 712), 'L'), ((1810, 1434), 'L'), ((1438, 1067), 'L'), ((952, 624), 'L'), ((1654, 1541), 'L'), ((1640, 936), 'L'), ((872, 504), 'L'), ((1248, 1064), 'L'), ((1110, 944), 'L'), ((920, 752), 'L'), ((1827, 1375), 'L'), ((2309, 2601), 'L'), ((1306, 821), 'L'), ((1449, 1140), 'L'), ((1692, 1302), 'L'), ((2752, 1882), 'L'), ((1080, 920), 'L'), ((1152, 912), 'L'), ((1604, 1044), 'L'), ((1144, 832), 'L'), ((1048, 648), 'L'), ((1880, 1592), 'L'), ((1530, 1399), 'L'), ((1604, 1334), 'L'), ((1208, 768), 'L'), ((2534, 2169), 'L'), ((564, 194), 'RGB'), ((856, 544), 'L'), ((1010, 685), 'L'), ((1896, 1056), 'L'), ((1312, 648), 'L'), ((1986, 1604), 'L'), ((1312, 1024), 'L'), ((1464, 1216), 'L'), ((1120, 744), 'L'), ((640, 317), 'RGB'), ((1040, 600), 'L'), ((2000, 1688), 'L'), ((1156, 1237), 'L'), ((1130, 666), 'L'), ((752, 592), 'L'), ((479, 211), 'RGB'), ((1360, 984), 'L'), ((1264, 888), 'L'), ((1798, 1130), 'L'), ((1208, 792), 'L'), ((856, 472), 'L'), ((1538, 986), 'L'), ((1224, 712), 'L'), ((1456, 1160), 'L'), ((984, 696), 'L'), ((976, 616), 'L'), ((1520, 1152), 'L'), ((932, 588), 'RGB'), ((1638, 1168), 'L'), ((1280, 856), 'L'), ((1184, 760), 'L'), ((1844, 1573), 'L'), ((1248, 1048), 'L'), ((944, 608), 'L'), ((2160, 2304), 'L'), ((1198, 654), 'L'), ((795, 427), 'RGB'), ((1874, 1774), 'L'), ((1716, 1489), 'L'), ((1208, 720), 'L'), ((1524, 1295), 'L'), ((2008, 1448), 'L'), ((1917, 1432), 'L'), ((1416, 920), 'L'), ((1272, 808), 'L'), ((1416, 1296), 'L'), ((1320, 736), 'L'), ((1970, 2085), 'L'), ((1128, 832), 'L'), ((1432, 1160), 'L'), ((992, 520), 'L'), ((1520, 1176), 'L'), ((1376, 968), 'L'), ((1782, 1310), 'L'), ((944, 536), 'L'), ((1164, 801), 'L'), ((1344, 1072), 'L'), ((1248, 976), 'L'), ((1152, 792), 'L'), ((1611, 1454), 'L'), ((1552, 840), 'L'), ((1840, 1341), 'L'), ((1456, 839), 'L'), ((1288, 944), 'L'), ((960, 688), 'L'), ((1648, 1400), 'L'), ((1971, 1526), 'L'), ((1532, 986), 'L'), ((1284, 1078), 'L'), ((1010, 676), 'RGB'), ((654, 389), 'RGB'), ((1272, 736), 'L'), ((812, 678), 'RGB'), ((1697, 1519), 'L'), ((920, 736), 'L'), ((1040, 615), 'L'), ((984, 648), 'L'), ((711, 353), 'RGB'), ((1736, 1399), 'L'), ((1280, 808), 'L'), ((1404, 1059), 'L'), ((1184, 712), 'L'), ((994, 758), 'L'), ((1474, 1527), 'L'), ((1570, 1286), 'L'), ((1076, 630), 'RGB'), ((1552, 1144), 'L'), ((796, 548), 'RGB'), ((1298, 763), 'L'), ((816, 504), 'L'), ((1310, 1136), 'L'), ((742, 515), 'RGB'), ((1094, 709), 'L'), ((1560, 1304), 'L'), ((1320, 688), 'L'), ((1746, 1442), 'L'), ((1512, 1005), 'L'), ((450, 230), 'RGB'), ((1720, 1306), 'L'), ((1544, 1096), 'L'), ((1872, 1264), 'L'), ((1048, 664), 'L'), ((1280, 736), 'L'), ((1384, 1376), 'L'), ((1248, 728), 'L'), ((864, 560), 'L'), ((1716, 1504), 'L'), ((1948, 1576), 'L'), ((1682, 1380), 'L'), ((1408, 960), 'L'), ((1072, 812), 'L'), ((1354, 1078), 'L'), ((1376, 952), 'L'), ((1280, 768), 'L'), ((2414, 2132), 'L'), ((1690, 1538), 'L'), ((1416, 1176), 'L'), ((1320, 992), 'L'), ((1416, 800), 'L'), ((1582, 1582), 'L'), ((438, 190), 'RGB'), ((992, 776), 'L'), ((1364, 1456), 'L'), ((1928, 1754), 'L'), ((1648, 1280), 'L'), ((722, 427), 'RGB'), ((1552, 1096), 'L'), ((399, 164), 'RGB'), ((968, 744), 'L'), ((1424, 904), 'L'), ((1816, 1534), 'L'), ((1692, 1221), 'L'), ((1612, 1437), 'L'), ((1480, 1136), 'L'), ((1048, 616), 'L'), ((1736, 1365), 'L'), ((1296, 844), 'L'), ((1597, 1231), 'L'), ((817, 531), 'RGB'), ((2148, 1600), 'L'), ((1056, 643), 'L'), ((1456, 1104), 'L'), ((1360, 920), 'L'), ((1360, 1296), 'L'), ((824, 560), 'L'), ((832, 640), 'L'), ((1790, 1132), 'L'), ((1432, 1008), 'L'), ((1288, 896), 'L'), ((952, 560), 'L'), ((1192, 712), 'L'), ((1632, 1260), 'L'), ((1048, 544), 'L'), ((1056, 720), 'L'), ((1264, 864), 'L'), ((1368, 1079), 'L'), ((1312, 920), 'L'), ((1216, 736), 'L'), ((1508, 1133), 'L'), ((1534, 1121), 'L'), ((1260, 843), 'L'), ((1870, 1495), 'L'), ((1288, 824), 'L'), ((888, 576), 'L'), ((952, 488), 'L'), ((1936, 1677), 'L'), ((1160, 632), 'L'), ((1598, 1197), 'L'), ((1364, 1136), 'L'), ((968, 728), 'L'), ((1738, 1430), 'L'), ((1470, 1248), 'L'), ((496, 240), 'RGB'), ((1120, 680), 'L'), ((1720, 1328), 'L'), ((1456, 1056), 'L'), ((400, 138), 'RGB'), ((1024, 872), 'L'), ((1072, 888), 'L'), ((832, 592), 'L'), ((1216, 1040), 'L'), ((1576, 1112), 'L'), ((1240, 776), 'L'), ((1248, 1044), 'L'), ((1352, 840), 'L'), ((1160, 560), 'L'), ((1206, 871), 'L'), ((1400, 1088), 'L'), ((1620, 1438), 'L'), ((968, 656), 'L'), ((920, 640), 'L'), ((1160, 936), 'L'), ((2218, 2183), 'L'), ((1414, 882), 'L'), ((1663, 1326), 'L'), ((1616, 1041), 'L'), ((1320, 1008), 'L'), ((1312, 872), 'L'), ((928, 704), 'L'), ((986, 634), 'RGB'), ((1136, 904), 'L'), ((1302, 1187), 'L'), ((1488, 1136), 'L'), ((1812, 1325), 'L'), ((864, 535), 'RGB'), ((800, 512), 'L'), ((1418, 1121), 'L'), ((1206, 848), 'L'), ((2512, 2012), 'L'), ((1784, 1184), 'L'), ((1724, 1581), 'L'), ((920, 568), 'L'), ((1800, 1261), 'L'), ((1520, 936), 'L'), ((1120, 632), 'L'), ((1264, 744), 'L'), ((1024, 824), 'L'), ((2022, 1619), 'L'), ((1440, 800), 'L'), ((896, 536), 'L'), ((1152, 728), 'L'), ((1508, 1140), 'L'), ((1680, 1328), 'L'), ((1090, 793), 'L'), ((1352, 792), 'L'), ((1096, 600), 'L'), ((1264, 1152), 'L'), ((1592, 944), 'L'), ((1096, 976), 'L'), ((1696, 1248), 'L'), ((1000, 792), 'L'), ((1448, 1152), 'L'), ((1140, 846), 'L'), ((1752, 1480), 'L'), ((888, 488), 'L'), ((1376, 752), 'L'), ((1320, 960), 'L'), ((1114, 843), 'L'), ((936, 792), 'L'), ((1664, 1096), 'L'), ((1664, 1472), 'L'), ((1728, 1008), 'L'), ((1940, 1469), 'L'), ((2352, 2166), 'L'), ((1136, 856), 'L'), ((1024, 752), 'L'), ((1654, 1364), 'L'), ((896, 560), 'L'), ((1688, 1105), 'L'), ((1184, 648), 'L'), ((1592, 921), 'L'), ((2031, 1837), 'L'), ((1496, 1201), 'L'), ((1222, 970), 'L'), ((1000, 720), 'L'), ((1550, 1075), 'L'), ((1016, 704), 'L'), ((2192, 2272), 'L'), ((1936, 1612), 'L'), ((1304, 1048), 'L'), ((1464, 1056), 'L'), ((1224, 904), 'L'), ((1128, 720), 'L'), ((920, 520), 'L'), ((968, 712), 'L'), ((1176, 776), 'L'), ((1666, 1252), 'L'), ((992, 672), 'L'), ((1088, 768), 'L'), ((896, 488), 'L'), ((1200, 816), 'L'), ((1688, 1542), 'L'), ((1112, 728), 'L'), ((1168, 828), 'L'), ((1554, 1075), 'L'), ((824, 528), 'L'), ((1582, 1056), 'L'), ((1588, 1337), 'L'), ((1348, 1028), 'L'), ((1554, 1402), 'L'), ((1128, 648), 'L'), ((888, 440), 'L'), ((1032, 552), 'L'), ((1604, 1171), 'L'), ((1562, 1106), 'L'), ((1114, 832), 'L'), ((1272, 1080), 'L'), ((1328, 712), 'L'), ((936, 744), 'L'), ((1562, 998), 'L'), ((1056, 688), 'L'), ((864, 408), 'L'), ((1360, 1128), 'L'), ((1724, 1534), 'L'), ((1620, 1356), 'L'), ((1430, 933), 'L'), ((1064, 627), 'L'), ((1288, 792), 'L'), ((1508, 1152), 'L'), ((1488, 1017), 'L'), ((1672, 1432), 'L'), ((1418, 1137), 'L'), ((1528, 1376), 'L'), ((1528, 1327), 'L'), ((1000, 704), 'L'), ((1192, 984), 'L'), ((1330, 855), 'L'), ((1454, 979), 'L'), ((1960, 1416), 'L'), ((1744, 1224), 'L'), ((1848, 1588), 'L'), ((1216, 944), 'L'), ((1264, 760), 'L'), ((1520, 952), 'L'), ((1086, 874), 'L'), ((842, 496), 'RGB'), ((1072, 770), 'L'), ((1202, 808), 'L'), ((1746, 1812), 'L'), ((1400, 1024), 'L'), ((1774, 1225), 'L'), ((1704, 1553), 'L'), ((1232, 864), 'L'), ((1982, 1804), 'L'), ((1534, 1203), 'L'), ((1160, 904), 'L'), ((1792, 1280), 'L'), ((452, 180), 'RGB'), ((1744, 1769), 'L'), ((1188, 885), 'L'), ((1064, 720), 'L'), ((1608, 1364), 'L'), ((1828, 1781), 'L'), ((1568, 1504), 'L'), ((1712, 1330), 'L'), ((2694, 2625), 'L'), ((1940, 1522), 'L'), ((2028, 1538), 'L'), ((1624, 1136), 'L'), ((2538, 1897), 'L'), ((1774, 1662), 'L'), ((1288, 744), 'L'), ((1528, 952), 'L'), ((1754, 1395), 'L'), ((1000, 672), 'L'), ((1010, 562), 'RGB'), ((1160, 832), 'L'), ((1392, 904), 'L'), ((1064, 648), 'L'), ((1330, 844), 'L'), ((1408, 800), 'L'), ((920, 536), 'L'), ((1152, 664), 'L'), ((1056, 568), 'L'), ((912, 456), 'L'), ((1264, 712), 'L'), ((1504, 1296), 'L'), ((1520, 904), 'L'), ((736, 432), 'L'), ((1568, 1152), 'L'), ((1328, 1000), 'L'), ((1760, 1432), 'L'), ((1232, 816), 'L'), ((766, 470), 'RGB'), ((2051, 1417), 'L'), ((1111, 621), 'RGB'), ((1570, 1499), 'L'), ((1192, 864), 'L'), ((856, 528), 'L'), ((527, 219), 'RGB'), ((968, 592), 'L'), ((1882, 1353), 'L'), ((1827, 1641), 'L'), ((1008, 760), 'L'), ((1746, 1279), 'L'), ((816, 576), 'L'), ((928, 640), 'L'), ((1120, 528), 'L'), ((1760, 1360), 'L'), ((1120, 904), 'L'), ((1616, 1147), 'L'), ((1690, 1306), 'L'), ((1184, 816), 'L'), ((1424, 1024), 'L'), ((1168, 832), 'L'), ((1264, 1016), 'L'), ((1136, 824), 'L'), ((1096, 808), 'L'), ((2016, 2184), 'L'), ((1662, 1083), 'L'), ((1510, 1175), 'L'), ((2053, 1818), 'L'), ((1160, 784), 'L'), ((1256, 880), 'L'), ((1422, 1067), 'L'), ((502, 307), 'RGB'), ((1064, 600), 'L'), ((1320, 792), 'L'), ((1414, 1206), 'L'), ((1596, 1087), 'L'), ((1712, 1259), 'L'), ((1024, 648), 'L'), ((944, 584), 'L'), ((1858, 1500), 'L'), ((1568, 1184), 'L'), ((992, 640), 'L'), ((1729, 1668), 'L'), ((1604, 1442), 'L'), ((1638, 1279), 'L'), ((1152, 648), 'L'), ((1682, 1241), 'L'), ((1488, 984), 'L'), ((1164, 1021), 'L'), ((1687, 1595), 'L'), ((1304, 880), 'L'), ((968, 544), 'L'), ((645, 329), 'RGB'), ((1626, 1268), 'L'), ((1896, 1360), 'L'), ((2088, 1728), 'L'), ((508, 206), 'RGB'), ((850, 534), 'RGB'), ((1256, 808), 'L'), ((1064, 904), 'L'), ((1422, 1128), 'L'), ((1808, 1665), 'L'), ((1953, 1692), 'L'), ((1632, 1206), 'L'), ((848, 704), 'L'), ((1840, 1507), 'L'), ((768, 552), 'RGB'), ((1310, 951), 'L'), ((1646, 1476), 'L'), ((1456, 904), 'L'), ((1936, 1554), 'L'), ((1634, 1341), 'L'), ((1600, 1304), 'L'), ((1160, 752), 'L'), ((968, 472), 'L'), ((904, 560), 'L'), ((1272, 712), 'L'), ((1072, 728), 'L'), ((1960, 1600), 'L'), ((698, 413), 'RGB'), ((1554, 1298), 'L'), ((1418, 1078), 'L'), ((2517, 2713), 'L'), ((1336, 1064), 'L'), ((1700, 1437), 'L'), ((1240, 880), 'L'), ((958, 744), 'L'), ((1240, 1256), 'L'), ((877, 513), 'RGB'), ((831, 529), 'RGB'), ((1576, 1216), 'L'), ((904, 584), 'L'), ((1786, 1175), 'L'), ((1304, 832), 'L'), ((1112, 648), 'L'), ((1546, 1294), 'L'), ((1512, 1171), 'L'), ((1808, 1666), 'L'), ((1318, 951), 'L'), ((1692, 1245), 'L'), ((1128, 568), 'L'), ((1016, 824), 'L'), ((936, 680), 'L'), ((1080, 736), 'L'), ((1608, 1392), 'L'), ((840, 584), 'L'), ((1500, 1249), 'L'), ((1858, 1380), 'L'), ((2280, 2066), 'L'), ((1680, 1557), 'L'), ((1442, 1148), 'L'), ((1168, 784), 'L'), ((1008, 776), 'L'), ((1496, 1040), 'L'), ((904, 512), 'L'), ((1546, 1271), 'L'), ((1320, 776), 'L'), ((1224, 680), 'L'), ((1870, 1785), 'L'), ((1740, 1279), 'L'), ((1480, 1088), 'L'), ((1144, 752), 'L'), ((904, 544), 'L'), ((1186, 866), 'L'), ((1418, 1024), 'L'), ((1672, 1352), 'L'), ((1256, 904), 'L'), ((1426, 1055), 'L'), ((1626, 1280), 'L'), ((1592, 1183), 'L'), ((1564, 1302), 'L'), ((1024, 600), 'L'), ((1992, 1620), 'L'), ((1298, 971), 'L'), ((1304, 864), 'L'), ((1136, 704), 'L'), ((791, 615), 'RGB'), ((1040, 520), 'L'), ((1512, 1209), 'L'), ((1624, 1187), 'L'), ((2564, 2519), 'L'), ((936, 632), 'L'), ((1886, 1916), 'L'), ((1000, 568), 'L'), ((904, 848), 'L'), ((1736, 1368), 'L'), ((1414, 1086), 'L'), ((1778, 1492), 'L'), ((1200, 1008), 'L'), ((1248, 936), 'L'), ((1008, 728), 'L'), ((1670, 1348), 'L'), ((1104, 824), 'L'), ((1264, 920), 'L'), ((864, 672), 'L'), ((1712, 1272), 'L'), ((1760, 1328), 'L'), ((1040, 824), 'L'), ((1032, 744), 'L'), ((607, 347), 'RGB'), ((1588, 1372), 'L'), ((792, 448), 'L'), ((745, 467), 'RGB'), ((1678, 1414), 'L'), ((1224, 928), 'L'), ((1144, 704), 'L'), ((1104, 752), 'L'), ((1008, 656), 'L'), ((1264, 848), 'L'), ((1024, 552), 'L'), ((1072, 744), 'L'), ((1304, 816), 'L'), ((1136, 656), 'L'), ((1472, 904), 'L'), ((976, 560), 'L'), ((1748, 1202), 'L'), ((1302, 970), 'L'), ((1426, 947), 'L'), ((1192, 800), 'L'), ((1536, 1256), 'L'), ((1434, 978), 'L'), ((1528, 1176), 'L'), ((1000, 896), 'L'), ((1132, 821), 'L'), ((1221, 793), 'L'), ((1189, 720), 'RGB'), ((1392, 901), 'L'), ((2302, 1663), 'L'), ((1952, 1619), 'L'), ((1882, 1653), 'L'), ((1616, 1283), 'L'), ((1292, 751), 'L'), ((1568, 1016), 'L'), ((1870, 1605), 'L'), ((1312, 824), 'L'), ((1538, 1179), 'L'), ((2276, 2221), 'L'), ((1760, 1280), 'L'), ((1168, 768), 'L'), ((1232, 680), 'L'), ((1322, 1128), 'L'), ((1088, 568), 'L'), ((1680, 1352), 'L'), ((880, 680), 'L'), ((2014, 1375), 'L'), ((1388, 1013), 'L'), ((1000, 824), 'L'), ((968, 440), 'L'), ((1112, 784), 'L'), ((549, 229), 'RGB'), ((1786, 1360), 'L'), ((1546, 1152), 'L'), ((1648, 1240), 'L'), ((1348, 779), 'L'), ((1442, 974), 'L'), ((2124, 1630), 'L'), ((1754, 1352), 'L'), ((1828, 1511), 'L'), ((1148, 897), 'L'), ((1472, 1318), 'L'), ((778, 631), 'RGB'), ((2345, 1936), 'L'), ((944, 784), 'L'), ((1672, 1200), 'L'), ((1638, 1634), 'L'), ((1336, 864), 'L'), ((1192, 752), 'L'), ((1104, 736), 'L'), ((848, 600), 'L'), ((1544, 1008), 'L'), ((1192, 789), 'L'), ((1470, 1043), 'L'), ((1214, 851), 'L'), ((872, 560), 'L'), ((1264, 904), 'L'), ((956, 603), 'RGB'), ((1072, 624), 'L'), ((1568, 968), 'L'), ((1664, 1152), 'L'), ((1408, 872), 'L'), ((1912, 1708), 'L'), ((2396, 1990), 'L'), ((1674, 1493), 'L'), ((1172, 967), 'L'), ((1460, 951), 'L'), ((1310, 1306), 'L'), ((1048, 716), 'L'), ((1846, 1488), 'L'), ((1496, 1008), 'L'), ((1160, 672), 'L'), ((1224, 584), 'L'), ((1208, 920), 'L'), ((1800, 1723), 'L'), ((1562, 1051), 'L'), ((872, 584), 'L'), ((1272, 912), 'L'), ((1700, 1379), 'L'), ((1336, 824), 'L'), ((936, 576), 'L'), ((1168, 1024), 'L'), ((832, 632), 'L'), ((1376, 792), 'L'), ((1110, 886), 'L'), ((1776, 1416), 'L'), ((1646, 1346), 'L'), ((1280, 984), 'L'), ((856, 475), 'RGB'), ((848, 552), 'L'), ((2106, 1986), 'L'), ((1310, 1148), 'L'), ((1434, 1125), 'L'), ((1624, 1104), 'L'), ((1496, 1155), 'L'), ((1064, 792), 'L'), ((1882, 1692), 'L'), ((1752, 1384), 'L'), ((1272, 936), 'L'), ((1912, 1768), 'L'), ((1176, 752), 'L'), ((1588, 1144), 'L'), ((1320, 1240), 'L'), ((1754, 1318), 'L'), ((1294, 1018), 'L'), ((1802, 1437), 'L'), ((2318, 2411), 'L'), ((1384, 1090), 'L'), ((1440, 1008), 'L'), ((1536, 1104), 'L'), ((1756, 1484), 'L'), ((896, 648), 'L'), ((1040, 760), 'L'), ((1296, 896), 'L'), ((1504, 1096), 'L'), ((1516, 1283), 'L'), ((1248, 904), 'L'), ((800, 552), 'L'), ((1504, 720), 'L'), ((1600, 1229), 'L'), ((1720, 1465), 'L'), ((1368, 1048), 'L'), ((1472, 1175), 'L'), ((1672, 1488), 'L'), ((936, 528), 'L'), ((1198, 1032), 'L'), ((1624, 1410), 'L'), ((1480, 1008), 'L'), ((1144, 672), 'L'), ((1376, 1120), 'L'), ((1696, 1310), 'L'), ((1728, 1619), 'L'), ((1248, 832), 'L'), ((1408, 784), 'L'), ((1470, 1033), 'L'), ((1338, 1194), 'L'), ((1670, 1344), 'L'), ((1080, 624), 'L'), ((1542, 871), 'L'), ((1762, 1264), 'L'), ((1522, 1109), 'L'), ((1218, 808), 'L'), ((1464, 1205), 'L'), ((1832, 1224), 'L'), ((1336, 880), 'L'), ((1418, 1221), 'L'), ((2002, 1786), 'L'), ((1000, 488), 'L'), ((1240, 696), 'L'), ((1322, 1037), 'L'), ((1240, 1072), 'L'), ((1056, 592), 'L'), ((912, 480), 'L'), ((1654, 1441), 'L'), ((1248, 856), 'L'), ((1744, 1200), 'L'), ((1350, 1045), 'L'), ((666, 441), 'RGB'), ((1504, 1171), 'L'), ((1786, 1437), 'L'), ((1346, 1024), 'L'), ((1216, 984), 'L'), ((1740, 1453), 'L'), ((1472, 1176), 'L'), ((880, 648), 'L'), ((1616, 1288), 'L'), ((1666, 1433), 'L'), ((952, 736), 'L'), ((1462, 874), 'L'), ((856, 552), 'L'), ((1566, 1465), 'L'), ((1600, 1164), 'L'), ((1008, 592), 'L'), ((1488, 1275), 'L'), ((1716, 1523), 'L'), ((1512, 1056), 'L'), ((1248, 784), 'L'), ((1848, 1392), 'L'), ((1620, 1527), 'L'), ((1104, 672), 'L'), ((1944, 1576), 'L'), ((832, 583), 'RGB'), ((1156, 804), 'L'), ((2216, 1953), 'L'), ((2566, 1909), 'L'), ((1920, 1920), 'L'), ((1364, 1148), 'L'), ((1336, 832), 'L'), ((952, 664), 'L'), ((808, 552), 'L'), ((1516, 1295), 'L'), ((1144, 928), 'L'), ((1104, 600), 'L'), ((1292, 1014), 'L'), ((1376, 1048), 'L'), ((1712, 1048), 'L'), ((944, 616), 'L'), ((1024, 672), 'L'), ((1040, 712), 'L'), ((1216, 936), 'L'), ((1456, 1232), 'L'), ((1120, 856), 'L'), ((1500, 1195), 'L'), ((808, 597), 'RGB'), ((952, 688), 'L'), ((1344, 1216), 'L'), ((1576, 1288), 'L'), ((1240, 952), 'L'), ((1000, 744), 'L'), ((1544, 1280), 'L'), ((1016, 624), 'L'), ((1704, 1288), 'L'), ((1064, 842), 'L'), ((1840, 1350), 'L'), ((1778, 1754), 'L'), ((1244, 1005), 'L'), ((1512, 1008), 'L'), ((2721, 2438), 'L'), ((1484, 1190), 'L'), ((1074, 708), 'L'), ((705, 373), 'RGB'), ((2028, 1742), 'L'), ((1728, 1522), 'L'), ((1300, 812), 'L'), ((1260, 971), 'L'), ((1008, 576), 'L'), ((888, 704), 'L'), ((1288, 952), 'L'), ((952, 616), 'L'), ((1758, 1249), 'L'), ((791, 524), 'RGB'), ((1008, 848), 'L'), ((920, 744), 'L'), ((1312, 712), 'L'), ((1416, 1016), 'L'), ((1450, 1051), 'L'), ((1896, 1752), 'L'), ((1120, 808), 'L'), ((1320, 1208), 'L'), ((1040, 664), 'L'), ((944, 568), 'L'), ((1102, 755), 'L'), ((1886, 1357), 'L'), ((1914, 1581), 'L'), ((649, 334), 'RGB'), ((2264, 1900), 'L'), ((1708, 1214), 'L'), ((1426, 1182), 'L'), ((1646, 1156), 'L'), ((1218, 789), 'L'), ((1558, 1048), 'L'), ((720, 441), 'RGB'), ((1600, 984), 'L'), ((1460, 924), 'L'), ((1214, 662), 'L'), ((453, 182), 'RGB'), ((1496, 981), 'L'), ((1208, 856), 'L'), ((1256, 784), 'L'), ((1192, 872), 'L'), ((1352, 968), 'L'), ((1016, 576), 'L'), ((760, 440), 'L'), ((1180, 863), 'L'), ((1112, 672), 'L'), ((1952, 1967), 'L'), ((976, 680), 'L'), ((888, 664), 'L'), ((2297, 2032), 'L'), ((1584, 1072), 'L'), ((1184, 824), 'L'), ((1248, 736), 'L'), ((848, 488), 'L'), ((1242, 867), 'L'), ((1894, 1688), 'L'), ((1214, 739), 'L'), ((1504, 992), 'L'), ((1808, 1432), 'L'), ((1112, 600), 'L'), ((920, 696), 'L'), ((1816, 1608), 'L'), ((1336, 784), 'L'), ((1224, 704), 'L'), ((1368, 1044), 'L'), ((1940, 1755), 'L'), ((1920, 1801), 'L'), ((1184, 1128), 'L'), ((2342, 2399), 'L'), ((1056, 760), 'L'), ((1152, 856), 'L'), ((1456, 808), 'L'), ((1426, 1128), 'L'), ((1518, 1156), 'L'), ((1642, 1133), 'L'), ((1984, 1840), 'L'), ((514, 269), 'RGB'), ((1360, 1000), 'L'), ((1634, 1272), 'L'), ((912, 648), 'L'), ((580, 294), 'RGB'), ((1800, 1499), 'L'), ((2000, 1896), 'L'), ((2446, 2224), 'L'), ((984, 712), 'L'), ((1570, 1272), 'L'), ((1240, 904), 'L'), ((1693, 1456), 'L'), ((1218, 767), 'L'), ((976, 632), 'L'), ((888, 616), 'L'), ((1584, 1024), 'L'), ((800, 608), 'L'), ((1248, 688), 'L'), ((2252, 1913), 'L'), ((1964, 1692), 'L'), ((1456, 1112), 'L'), ((1312, 1000), 'L'), ((1216, 816), 'L'), ((976, 664), 'L'), ((1202, 643), 'L'), ((455, 178), 'RGB'), ((1328, 920), 'L'), ((869, 563), 'RGB'), ((709, 500), 'RGB'), ((1288, 968), 'L'), ((952, 632), 'L'), ((944, 552), 'L'), ((1440, 896), 'L'), ((1344, 712), 'L'), ((1184, 704), 'L'), ((1448, 976), 'L'), ((1276, 1059), 'L'), ((1518, 1194), 'L'), ((1408, 1024), 'L'), ((1312, 928), 'L'), ((1216, 744), 'L'), ((1400, 896), 'L'), ((550, 276), 'RGB'), ((2110, 1700), 'L'), ((1566, 1353), 'L'), ((2442, 2226), 'L'), ((1328, 1224), 'L'), ((1616, 1208), 'L'), ((1376, 967), 'L'), ((1416, 864), 'L'), ((1816, 1488), 'L'), ((824, 656), 'L'), ((1272, 752), 'L'), ((984, 664), 'L'), ((1252, 990), 'L'), ((1210, 817), 'L'), ((1530, 1272), 'L'), ((2148, 1773), 'L'), ((1008, 512), 'L'), ((764, 515), 'RGB'), ((1152, 536), 'L'), ((960, 632), 'L'), ((1216, 768), 'L'), ((1752, 1224), 'L'), ((1424, 968), 'L'), ((2358, 1959), 'L'), ((1080, 776), 'L'), ((1268, 900), 'L'), ((1350, 855), 'L'), ((1624, 1312), 'L'), ((984, 592), 'L'), ((1272, 813), 'L'), ((1384, 1016), 'L'), ((1144, 864), 'L'), ((952, 584), 'L'), ((1448, 928), 'L'), ((1048, 680), 'L'), ((1288, 920), 'L'), ((941, 609), 'RGB'), ((1256, 932), 'L'), ((1320, 1016), 'L'), ((1636, 1218), 'L'), ((1408, 976), 'L'), ((976, 544), 'L'), ((1760, 1232), 'L'), ((1120, 776), 'L'), ((1424, 896), 'L'), ((1280, 784), 'L'), ((1520, 1080), 'L'), ((1940, 1503), 'L'), ((1252, 1028), 'L'), ((1974, 1627), 'L'), ((1184, 688), 'L'), ((896, 578), 'RGB'), ((1096, 680), 'L'), ((1680, 1353), 'L'), ((1384, 944), 'L'), ((1048, 608), 'L'), ((1448, 856), 'L'), ((1234, 778), 'L'), ((1352, 936), 'L'), ((1256, 752), 'L'), ((1160, 1032), 'L'), ((1320, 1040), 'L'), ((1118, 740), 'L'), ((1422, 1229), 'L'), ((1280, 712), 'L'), ((1280, 1088), 'L'), ((1624, 1264), 'L'), ((1647, 1314), 'L'), ((1924, 1356), 'L'), ((1352, 864), 'L'), ((1592, 1392), 'L'), ((1484, 1399), 'L'), ((2114, 1866), 'L'), ((1512, 872), 'L'), ((1112, 568), 'L'), ((1176, 856), 'L'), ((920, 664), 'L'), ((1256, 680), 'L'), ((1272, 664), 'L'), ((1754, 1179), 'L'), ((1184, 656), 'L'), ((1016, 848), 'L'), ((1528, 1112), 'L'), ((1424, 1224), 'L'), ((2346, 2032), 'L'), ((1280, 1016), 'L'), ((1824, 1090), 'L'), ((2114, 1812), 'L'), ((1240, 932), 'L'), ((1496, 960), 'L'), ((1160, 624), 'L'), ((1546, 1105), 'L'), ((823, 655), 'RGB'), ((824, 608), 'L'), ((1022, 643), 'L'), ((1112, 872), 'L'), ((1176, 784), 'L'), ((1650, 978), 'L'), ((2214, 1945), 'L'), ((1692, 1383), 'L'), ((1562, 1164), 'L'), ((1360, 864), 'L'), ((1216, 752), 'L'), ((1528, 1416), 'L'), ((1088, 776), 'L'), ((1472, 944), 'L'), ((809, 476), 'RGB'), ((1128, 792), 'L'), ((1120, 656), 'L'), ((1056, 768), 'L'), ((1803, 1238), 'L'), ((1654, 1051), 'L'), ((1276, 917), 'L'), ((1510, 1352), 'L'), ((1358, 870), 'L'), ((1446, 1391), 'L'), ((1688, 1528), 'L'), ((1592, 1344), 'L'), ((1352, 816), 'L'), ((1794, 1176), 'L'), ((1512, 1200), 'L'), ((920, 632), 'L'), ((819, 519), 'RGB'), ((824, 536), 'L'), ((1512, 1237), 'L'), ((1520, 1070), 'L'), ((984, 608), 'L'), ((1802, 1422), 'L'), ((1582, 1418), 'L'), ((1472, 1091), 'L'), ((1440, 864), 'L'), ((1562, 1133), 'L'), ((1322, 978), 'L'), ((1056, 696), 'L'), ((1226, 882), 'L'), ((1152, 776), 'L'), ((1874, 1735), 'L'), ((2052, 1361), 'L'), ((1532, 1256), 'L'), ((1372, 1074), 'L'), ((1112, 824), 'L'), ((1492, 1024), 'L'), ((1260, 770), 'L'), ((1464, 1080), 'L'), ((1878, 1647), 'L'), ((928, 720), 'L'), ((1280, 751), 'L'), ((457, 295), 'RGB'), ((1596, 1233), 'L'), ((1128, 744), 'L'), ((1136, 920), 'L'), ((1392, 1056), 'L'), ((1494, 1044), 'L'), ((1728, 1518), 'L'), ((877, 531), 'RGB'), ((800, 528), 'L'), ((1550, 1194), 'L'), ((1160, 929), 'L'), ((1566, 1271), 'L'), ((1704, 1234), 'L'), ((1712, 1224), 'L'), ((1168, 960), 'L'), ((2096, 1864), 'L'), ((2288, 2363), 'L'), ((1016, 768), 'L'), ((1064, 696), 'L'), ((1148, 677), 'L'), ((1284, 1076), 'L'), ((1442, 770), 'L'), ((1032, 688), 'L'), ((1866, 1302), 'L'), ((1080, 744), 'L'), ((984, 560), 'L'), ((1632, 1225), 'L'), ((992, 736), 'L'), ((1392, 984), 'L'), ((896, 552), 'L'), ((2381, 1965), 'L'), ((1770, 1472), 'L'), ((1264, 792), 'L'), ((1558, 925), 'L'), ((1854, 1457), 'L'), ((1024, 776), 'L'), ((1016, 696), 'L'), ((920, 512), 'L'), ((1766, 1349), 'L'), ((2022, 1947), 'L'), ((2071, 1296), 'L'), ((888, 504), 'L'), ((1272, 1144), 'L'), ((1320, 976), 'L'), ((1954, 1279), 'L'), ((2148, 1496), 'L'), ((792, 560), 'L'), ((1048, 872), 'L'), ((1902, 1608), 'L'), ((1542, 1152), 'L'), ((1518, 1005), 'L'), ((1200, 808), 'L'), ((1360, 816), 'L'), ((1172, 778), 'L'), ((1696, 1568), 'L'), ((1554, 1449), 'L'), ((1546, 1399), 'L'), ((1086, 898), 'L'), ((1032, 640), 'L'), ((1424, 1168), 'L'), ((1322, 890), 'L'), ((2078, 1801), 'L'), ((1320, 904), 'L'), ((1432, 968), 'L'), ((1894, 1597), 'L'), ((1500, 1268), 'L'), ((2258, 2109), 'L'), ((992, 688), 'L'), ((693, 356), 'RGB'), ((1828, 1704), 'L'), ((1422, 1125), 'L'), ((2006, 1878), 'L'), ((1450, 1106), 'L'), ((1024, 728), 'L'), ((1664, 1448), 'L'), ((1328, 736), 'L'), ((1272, 1145), 'L'), ((1522, 1221), 'L'), ((1288, 784), 'L'), ((1192, 976), 'L'), ((1384, 864), 'L'), ((1288, 917), 'L'), ((1096, 880), 'L'), ((664, 360), 'L'), ((1304, 1024), 'L'), ((1640, 1469), 'L'), ((486, 186), 'RGB'), ((968, 688), 'L'), ((1360, 768), 'L'), ((1224, 880), 'L'), ((1870, 1282), 'L'), ((1932, 1561), 'L'), ((1416, 1148), 'L'), ((1422, 1186), 'L'), ((718, 401), 'RGB'), ((1328, 1040), 'L'), ((1616, 1024), 'L'), ((928, 736), 'L'), ((832, 552), 'L'), ((1678, 1129), 'L'), ((567, 258), 'RGB'), ((1736, 1785), 'L'), ((1804, 1314), 'L'), ((1688, 1469), 'L'), ((1392, 968), 'L'), ((1056, 632), 'L'), ((1128, 624), 'L'), ((984, 512), 'L'), ((1216, 584), 'L'), ((1216, 960), 'L'), ((1450, 1144), 'L'), ((1430, 963), 'L'), ((1328, 1064), 'L'), ((1816, 1500), 'L'), ((1232, 880), 'L'), ((1136, 784), 'L'), ((407, 178), 'RGB'), ((1288, 736), 'L'), ((1852, 1453), 'L'), ((1096, 832), 'L'), ((1192, 928), 'L'), ((2064, 1951), 'L'), ((856, 592), 'L'), ((1708, 1434), 'L'), ((1845, 1761), 'L'), ((1400, 1072), 'L'), ((1056, 701), 'L'), ((1338, 967), 'L'), ((920, 528), 'L'), ((2309, 1915), 'L'), ((1381, 1044), 'L'), ((1538, 1137), 'L'), ((1862, 1326), 'L'), ((1264, 704), 'L'), ((1120, 592), 'L'), ((1736, 1265), 'L'), ((1568, 1144), 'L'), ((2014, 1746), 'L'), ((1232, 808), 'L'), ((992, 600), 'L'), ((1088, 696), 'L'), ((1742, 1322), 'L'), ((832, 504), 'L'), ((1604, 1202), 'L'), ((1072, 800), 'L'), ((2031, 1693), 'L'), ((1440, 1328), 'L'), ((1218, 1041), 'L'), ((1296, 1120), 'L'), ((1226, 655), 'L'), ((1414, 1106), 'L'), ((1260, 816), 'L'), ((2226, 1731), 'L'), ((1558, 1218), 'L'), ((1234, 813), 'L'), ((777, 531), 'RGB'), ((1560, 1096), 'L'), ((1841, 1447), 'L'), ((1320, 856), 'L'), ((2034, 1392), 'L'), ((1690, 1267), 'L'), ((1762, 1341), 'L'), ((1836, 1719), 'L'), ((1024, 712), 'L'), ((1192, 888), 'L'), ((1542, 1032), 'L'), ((928, 616), 'L'), ((759, 504), 'RGB'), ((1446, 1310), 'L'), ((1488, 1048), 'L'), ((1152, 712), 'L'), ((1056, 616), 'L'), ((1467, 1123), 'L'), ((2136, 1713), 'L'), ((1654, 1275), 'L'), ((1414, 1167), 'L'), ((1654, 1688), 'L'), ((1160, 776), 'L'), ((1256, 872), 'L'), ((1910, 1661), 'L'), ((1136, 713), 'L'), ((1464, 967), 'L'), ((936, 776), 'L'), ((1168, 848), 'L'), ((1336, 1024), 'L'), ((738, 427), 'RGB'), ((966, 619), 'RGB'), ((1928, 1303), 'L'), ((911, 630), 'RGB'), ((1488, 976), 'L'), ((1296, 696), 'L'), ((1056, 544), 'L'), ((1454, 1071), 'L'), ((1296, 1072), 'L'), ((1434, 1411), 'L'), ((968, 536), 'L'), ((1168, 880), 'L'), ((1160, 800), 'L'), ((1320, 808), 'L'), ((1064, 616), 'L'), ((1828, 1640), 'L'), ((1686, 1231), 'L'), ((1032, 888), 'L'), ((1272, 1040), 'L'), ((1192, 840), 'L'), ((1024, 664), 'L'), ((1260, 767), 'L'), ((936, 704), 'L'), ((1728, 1296), 'L'), ((1246, 951), 'L'), ((1736, 1752), 'L'), ((1172, 986), 'L'), ((1144, 848), 'L'), ((1840, 1499), 'L'), ((1372, 948), 'L'), ((1456, 896), 'L'), ((439, 227), 'RGB'), ((1024, 696), 'L'), ((1016, 616), 'L'), ((1554, 1345), 'L'), ((1292, 885), 'L'), ((1256, 824), 'L'), ((1746, 1576), 'L'), ((1368, 872), 'L'), ((1224, 816), 'L'), ((1032, 536), 'L'), ((1080, 800), 'L'), ((1774, 1230), 'L'), ((1562, 1284), 'L'), ((1686, 1122), 'L'), ((840, 648), 'L'), ((2120, 2283), 'L'), ((1592, 1106), 'L'), ((1846, 1676), 'L'), ((1256, 856), 'L'), ((1640, 1410), 'L'), ((760, 512), 'L'), ((1268, 816), 'L'), ((1704, 1122), 'L'), ((1736, 1345), 'L'), ((1978, 1766), 'L'), ((1072, 752), 'L'), ((1304, 824), 'L'), ((1704, 1449), 'L'), ((1724, 1422), 'L'), ((1824, 976), 'L'), ((1870, 1287), 'L'), ((1720, 1642), 'L'), ((942, 571), 'L'), ((1224, 744), 'L'), ((1630, 1179), 'L'), ((1272, 992), 'L'), ((1994, 1865), 'L'), ((1032, 840), 'L'), ((1768, 1712), 'L'), ((1832, 1048), 'L'), ((936, 656), 'L'), ((1736, 1328), 'L'), ((852, 444), 'RGB'), ((1670, 1302), 'L'), ((1553, 1044), 'L'), ((1696, 1432), 'L'), ((2020, 1565), 'L'), ((1360, 1040), 'L'), ((1504, 1152), 'L'), ((928, 568), 'L'), ((1176, 662), 'L'), ((1686, 1160), 'L'), ((840, 600), 'L'), ((1432, 816), 'L'), ((904, 536), 'L'), ((1192, 520), 'L'), ((1592, 1144), 'L'), ((1240, 824), 'L'), ((1750, 1526), 'L'), ((1676, 1129), 'L'), ((1306, 1006), 'L'), ((1244, 658), 'L'), ((1696, 1542), 'L'), ((1458, 951), 'L'), ((1418, 1059), 'L'), ((1704, 1487), 'L'), ((1148, 689), 'L'), ((1512, 1164), 'L'), ((1848, 1500), 'L'), ((1360, 968), 'L'), ((2633, 2578), 'L'), ((1568, 1112), 'L'), ((1424, 1056), 'L'), ((1232, 776), 'L'), ((1446, 1082), 'L'), ((1734, 1426), 'L'), ((1680, 1642), 'L'), ((1544, 1080), 'L'), ((1400, 968), 'L'), ((1008, 720), 'L'), ((912, 536), 'L'), ((1394, 1257), 'L'), ((1936, 1536), 'L'), ((1168, 728), 'L'), ((1072, 632), 'L'), ((928, 520), 'L'), ((944, 440), 'L'), ((1040, 536), 'L'), ((1334, 1075), 'L'), ((1088, 592), 'L'), ((1280, 909), 'L'), ((2080, 1680), 'L'), ((1440, 1224), 'L'), ((1530, 1140), 'L'), ((1344, 1040), 'L'), ((1096, 768), 'L'), ((1656, 1088), 'L'), ((1512, 1075), 'L'), ((1180, 1025), 'L'), ((1072, 736), 'L'), ((1512, 1202), 'L'), ((1300, 928), 'L'), ((1136, 648), 'L'), ((668, 408), 'RGB'), ((2008, 2096), 'L'), ((1664, 1248), 'L'), ((1232, 728), 'L'), ((944, 744), 'L'), ((848, 560), 'L'), ((976, 552), 'L'), ((1122, 832), 'L'), ((795, 612), 'RGB'), ((1136, 1024), 'L'), ((1226, 955), 'L'), ((1434, 1260), 'L'), ((1192, 776), 'L'), ((904, 792), 'L'), ((1620, 1110), 'L'), ((1208, 656), 'L'), ((1902, 1499), 'L'), ((1608, 1104), 'L'), ((1016, 752), 'L'), ((1264, 950), 'L'), ((1697, 1159), 'L'), ((872, 696), 'L'), ((1411, 915), 'L'), ((1676, 1561), 'L'), ((1466, 1109), 'L'), ((1430, 921), 'L'), ((896, 656), 'L'), ((1186, 940), 'L'), ((1516, 1291), 'L'), ((1536, 896), 'L'), ((1096, 720), 'L'), ((1000, 536), 'L'), ((1008, 704), 'L'), ((1510, 1136), 'L'), ((1544, 1336), 'L'), ((1400, 1224), 'L'), ((864, 544), 'L'), ((1072, 688), 'L'), ((976, 504), 'L'), ((1266, 1044), 'L'), ((1632, 1008), 'L'), ((1104, 728), 'L'), ((2080, 1736), 'L'), ((1464, 800), 'L'), ((1208, 984), 'L'), ((1670, 1330), 'L'), ((2186, 2086), 'L'), ((1376, 1105), 'L'), ((1580, 1329), 'L'), ((928, 504), 'L'), ((840, 544), 'L'), ((1528, 1152), 'L'), ((1336, 888), 'L'), ((1514, 1395), 'L'), ((1316, 1067), 'L'), ((1674, 1291), 'L'), ((848, 616), 'L'), ((1742, 1684), 'L'), ((2024, 2036), 'L'), ((1072, 648), 'L'), ((1442, 1059), 'L'), ((1876, 1893), 'L'), ((1526, 1195), 'L'), ((1566, 1225), 'L'), ((1464, 1104), 'L'), ((1128, 768), 'L'), ((880, 656), 'L'), ((856, 485), 'RGB'), ((1218, 840), 'L'), ((1438, 1187), 'L'), ((1336, 912), 'L'), ((1080, 720), 'L'), ((728, 464), 'L'), ((1836, 1535), 'L'), ((1604, 1414), 'L'), ((2056, 1866), 'L'), ((1164, 844), 'L'), ((1200, 864), 'L'), ((1680, 1600), 'L'), ((872, 608), 'L'), ((1530, 1144), 'L'), ((1104, 680), 'L'), ((864, 528), 'L'), ((848, 544), 'L'), ((1648, 1592), 'L'), ((1430, 763), 'L'), ((1456, 1312), 'L'), ((2165, 1749), 'L'), ((2198, 1485), 'L'), ((2096, 1709), 'L'), ((2720, 2458), 'L'), ((1816, 1627), 'L'), ((1786, 1500), 'L'), ((728, 392), 'L'), ((1272, 928), 'L'), ((1314, 1171), 'L'), ((1192, 728), 'L'), ((936, 592), 'L'), ((1336, 840), 'L'), ((1080, 648), 'L'), ((1176, 744), 'L'), ((1446, 1087), 'L'), ((1646, 1299), 'L'), ((2026, 1468), 'L'), ((2450, 2325), 'L'), ((1296, 888), 'L'), ((1448, 1176), 'L'), ((1496, 1044), 'L'), ((1504, 1180), 'L'), ((2102, 1654), 'L'), ((1304, 1097), 'L'), ((1008, 688), 'L'), ((1368, 1009), 'L'), ((1408, 848), 'L'), ((1400, 768), 'L'), ((1168, 696), 'L'), ((1176, 727), 'L'), ((1566, 1130), 'L'), ((1906, 1627), 'L'), ((492, 156), 'RGB'), ((1260, 1029), 'L'), ((1782, 1503), 'L'), ((1496, 984), 'L'), ((1544, 1288), 'L'), ((1770, 1353), 'L'), ((1048, 856), 'L'), ((1716, 1569), 'L'), ((1784, 1440), 'L'), ((1426, 967), 'L'), ((1048, 480), 'L'), ((1284, 762), 'L'), ((1276, 801), 'L'), ((1362, 844), 'L'), ((790, 519), 'RGB'), ((1408, 1152), 'L'), ((1430, 1128), 'L'), ((976, 720), 'L'), ((880, 536), 'L'), ((1450, 890), 'L'), ((1368, 1064), 'L'), ((1994, 1839), 'L'), ((1176, 696), 'L'), ((828, 485), 'RGB'), ((1754, 1638), 'L'), ((2272, 1989), 'L'), ((1400, 1104), 'L'), ((1434, 1179), 'L'), ((1072, 568), 'L'), ((1648, 1096), 'L'), ((1264, 832), 'L'), ((1008, 640), 'L'), ((1168, 648), 'L'), ((1086, 693), 'L'), ((1176, 728), 'L'), ((1554, 1271), 'L'), ((2126, 1226), 'L'), ((2517, 2310), 'L'), ((1280, 851), 'L'), ((1632, 888), 'L'), ((1472, 1168), 'L'), ((1368, 992), 'L'), ((1576, 1383), 'L'), ((1040, 736), 'L'), ((1536, 1080), 'L'), ((863, 574), 'RGB'), ((1448, 1056), 'L'), ((1778, 1295), 'L'), ((1296, 1036), 'L'), ((756, 544), 'RGB'), ((1464, 744), 'L'), ((1244, 959), 'L'), ((1008, 568), 'L'), ((2048, 1448), 'L'), ((415, 354), 'RGB'), ((1298, 921), 'L'), ((1176, 1032), 'L'), ((1184, 832), 'L'), ((1712, 1488), 'L'), ((1472, 816), 'L'), ((848, 496), 'L'), ((1136, 654), 'L'), ((801, 493), 'RGB'), ((1466, 1175), 'L'), ((1384, 1121), 'L'), ((1728, 1260), 'L'), ((2340, 2431), 'L'), ((1480, 1256), 'L'), ((2202, 2129), 'L'), ((1384, 1072), 'L'), ((904, 712), 'L'), ((1392, 1148), 'L'), ((1048, 736), 'L'), ((1902, 1854), 'L'), ((1000, 808), 'L'), ((1352, 1064), 'L'), ((1210, 859), 'L'), ((1346, 1109), 'L'), ((2068, 1982), 'L'), ((1298, 812), 'L'), ((1808, 1604), 'L'), ((1376, 1024), 'L'), ((1040, 688), 'L'), ((1440, 736), 'L'), ((1584, 1168), 'L'), ((1672, 1184), 'L'), ((1770, 1306), 'L'), ((550, 279), 'RGB'), ((1002, 535), 'L'), ((1296, 1074), 'L'), ((1352, 992), 'L'), ((824, 712), 'L'), ((1746, 1523), 'L'), ((1546, 1064), 'L'), ((1396, 955), 'L'), ((1828, 1515), 'L'), ((1690, 1464), 'L'), ((1554, 1151), 'L'), ((944, 632), 'L'), ((1438, 1106), 'L'), ((1508, 1349), 'L'), ((2566, 2321), 'L'), ((1790, 1519), 'L'), ((896, 504), 'L'), ((1006, 674), 'L'), ((1440, 1040), 'L'), ((500, 244), 'RGB'), ((1344, 856), 'L'), ((1248, 1136), 'L'), ((1662, 1241), 'L'), ((1192, 664), 'L'), ((659, 363), 'RGB'), ((1488, 1288), 'L'), ((990, 528), 'RGB'), ((1592, 1411), 'L'), ((1792, 1623), 'L'), ((1628, 1442), 'L'), ((1448, 1112), 'L'), ((1016, 640), 'L'), ((776, 488), 'L'), ((1306, 844), 'L'), ((1704, 1341), 'L'), ((2916, 2583), 'L'), ((1788, 1282), 'L'), ((1320, 824), 'L'), ((1508, 1240), 'L'), ((1576, 960), 'L'), ((944, 560), 'L'), ((1804, 1396), 'L'), ((1850, 1793), 'L'), ((1568, 1256), 'L'), ((1336, 808), 'L'), ((1404, 1006), 'L'), ((1542, 963), 'L'), ((1414, 1020), 'L'), ((1620, 1480), 'L'), ((1392, 1232), 'L'), ((1056, 896), 'L'), ((1792, 1600), 'L'), ((482, 163), 'RGB'), ((1696, 1330), 'L'), ((1544, 848), 'L'), ((851, 704), 'RGB'), ((1616, 1216), 'L'), ((1448, 1040), 'L'), ((1402, 1105), 'L'), ((920, 760), 'L'), ((2036, 1627), 'L'), ((1240, 552), 'L'), ((1438, 1144), 'L'), ((1666, 1392), 'L'), ((1364, 1179), 'L'), ((1240, 928), 'L'), ((1008, 520), 'L'), ((1920, 1816), 'L'), ((1654, 1446), 'L'), ((1440, 992), 'L'), ((1824, 1632), 'L'), ((912, 712), 'L'), ((1448, 1072), 'L'), ((1518, 1071), 'L'), ((894, 610), 'L'), ((462, 200), 'RGB'), ((1450, 809), 'L'), ((1720, 1449), 'L'), ((1480, 1208), 'L'), ((1446, 1029), 'L'), ((1728, 1249), 'L'), ((1762, 1224), 'L'), ((438, 168), 'RGB'), ((445, 187), 'RGB'), ((1474, 1044), 'L'), ((912, 640), 'L'), ((1454, 1183), 'L'), ((816, 456), 'L'), ((570, 305), 'RGB'), ((1120, 784), 'L'), ((1808, 1448), 'L'), ((1790, 1145), 'L'), ((2194, 1966), 'L'), ((1522, 1093), 'L'), ((1790, 1472), 'L'), ((1352, 944), 'L'), ((1812, 1446), 'L'), ((1634, 1210), 'L'), ((1248, 680), 'L'), ((1920, 1854), 'L'), ((1928, 1756), 'L'), ((816, 480), 'L'), ((1538, 1353), 'L'), ((462, 238), 'RGB'), ((880, 472), 'L'), ((1260, 948), 'L'), ((1492, 1106), 'L'), ((1136, 1008), 'L'), ((1144, 824), 'L'), ((888, 632), 'L'), ((1678, 1195), 'L'), ((1318, 820), 'L'), ((960, 696), 'L'), ((1120, 736), 'L'), ((771, 447), 'RGB'), ((1216, 832), 'L'), ((1512, 991), 'L'), ((1376, 1051), 'L'), ((1328, 936), 'L'), ((1184, 728), 'L'), ((1568, 896), 'L'), ((1088, 544), 'L'), ((1472, 1088), 'L'), ((1824, 1125), 'L'), ((1948, 1670), 'L'), ((1080, 840), 'L'), ((984, 656), 'L'), ((1322, 1018), 'L'), ((888, 560), 'L'), ((2043, 1217), 'L'), ((1288, 984), 'L'), ((856, 464), 'L'), ((1640, 1160), 'L'), ((1352, 890), 'L'), ((679, 304), 'RGB'), ((1400, 1052), 'L'), ((1608, 1152), 'L'), ((1028, 685), 'L'), ((2185, 1942), 'L'), ((984, 688), 'L'), ((2338, 1970), 'L'), ((976, 608), 'L'), ((1216, 760), 'L'), ((880, 424), 'L'), ((816, 512), 'L'), ((1328, 864), 'L'), ((1184, 752), 'L'), ((806, 554), 'RGB'), ((1544, 1104), 'L'), ((1352, 824), 'L'), ((952, 576), 'L'), ((437, 144), 'RGB'), ((1592, 1728), 'L'), ((1256, 1016), 'L'), ((1338, 1433), 'L'), ((1416, 912), 'L'), ((1416, 1288), 'L'), ((1224, 632), 'L'), ((1600, 1380), 'L'), ((2076, 1576), 'L'), ((1224, 1008), 'L'), ((1392, 1168), 'L'), ((1512, 1272), 'L'), ((1442, 1399), 'L'), ((1024, 584), 'L'), ((944, 528), 'L'), ((2338, 2025), 'L'), ((2510, 2543), 'L'), ((1088, 872), 'L'), ((1392, 824), 'L'), ((1144, 790), 'L'), ((1208, 640), 'L'), ((1902, 1665), 'L'), ((1504, 948), 'L'), ((1372, 1109), 'L'), ((1696, 1298), 'L'), ((1752, 1176), 'L'), ((1272, 728), 'L'), ((1574, 1129), 'L'), ((1678, 1156), 'L'), ((2048, 1804), 'L'), ((1160, 1024), 'L'), ((1128, 752), 'L'), ((1732, 1267), 'L'), ((1320, 1032), 'L'), ((1560, 1272), 'L'), ((1526, 1001), 'L'), ((1656, 1368), 'L'), ((1101, 823), 'L'), ((1064, 840), 'L'), ((1080, 824), 'L'), ((1328, 1192), 'L'), ((1184, 984), 'L'), ((2572, 2476), 'L'), ((848, 648), 'L'), ((1472, 968), 'L'), ((1056, 792), 'L'), ((1296, 944), 'L'), ((952, 528), 'L'), ((1690, 1383), 'L'), ((1860, 1569), 'L'), ((1256, 768), 'L'), ((1890, 1357), 'L'), ((1690, 1334), 'L'), ((1080, 752), 'L'), ((920, 656), 'L'), ((984, 568), 'L'), ((1624, 1288), 'L'), ((1032, 760), 'L'), ((1376, 912), 'L'), ((499, 188), 'RGB'), ((944, 480), 'L'), ((1192, 1088), 'L'), ((1040, 576), 'L'), ((1790, 1140), 'L'), ((1088, 824), 'L'), ((1728, 1168), 'L'), ((2271, 1827), 'L'), ((1406, 913), 'L'), ((1152, 816), 'L'), ((1352, 880), 'L'), ((1256, 696), 'L'), ((1256, 1072), 'L'), ((1656, 1320), 'L'), ((1320, 984), 'L'), ((1816, 1216), 'L'), ((985, 621), 'RGB'), ((1562, 1156), 'L'), ((1384, 920), 'L'), ((1048, 584), 'L'), ((1040, 504), 'L'), ((1692, 1735), 'L'), ((1280, 1032), 'L'), ((2093, 1764), 'L'), ((1886, 1573), 'L'), ((2012, 1457), 'L'), ((864, 480), 'L'), ((1152, 840), 'L'), ((1056, 744), 'L'), ((1682, 1519), 'L'), ((1504, 1253), 'L'), ((1944, 1518), 'L'), ((1916, 1488), 'L'), ((1608, 1468), 'L'), ((1208, 696), 'L'), ((1944, 1555), 'L'), ((1560, 952), 'L'), ((1176, 800), 'L'), ((1624, 864), 'L'), ((1300, 1051), 'L'), ((1576, 848), 'L'), ((920, 608), 'L'), ((1528, 1056), 'L'), ((1128, 808), 'L'), ((1056, 619), 'RGB'), ((1032, 712), 'L'), ((1172, 859), 'L'), ((1240, 925), 'L'), ((692, 383), 'RGB'), ((1234, 782), 'L'), ((1256, 1032), 'L'), ((1284, 1013), 'L'), ((1956, 1596), 'L'), ((2032, 2016), 'L'), ((1400, 910), 'L'), ((1072, 928), 'L'), ((1616, 1104), 'L'), ((577, 260), 'RGB'), ((742, 473), 'RGB'), ((824, 552), 'L'), ((728, 368), 'L'), ((1480, 680), 'L'), ((1356, 805), 'L'), ((1144, 720), 'L'), ((1508, 1093), 'L'), ((1364, 1067), 'L'), ((984, 624), 'L'), ((781, 476), 'RGB'), ((1268, 883), 'L'), ((2022, 2071), 'L'), ((1696, 1287), 'L'), ((1336, 1256), 'L'), ((1462, 1140), 'L'), ((1792, 1422), 'L'), ((1098, 955), 'L'), ((1366, 1044), 'L'), ((1608, 1469), 'L'), ((1674, 1064), 'L'), ((647, 329), 'RGB'), ((1592, 1337), 'L'), ((1312, 912), 'L'), ((1552, 1120), 'L'), ((1376, 824), 'L'), ((1216, 728), 'L'), ((1092, 751), 'L'), ((2056, 1673), 'L'), ((1424, 1128), 'L'), ((1210, 1017), 'L'), ((1658, 1183), 'L'), ((1816, 1558), 'L'), ((1866, 1654), 'L'), ((1448, 888), 'L'), ((1192, 696), 'L'), ((1680, 1336), 'L'), ((1256, 984), 'L'), ((1506, 833), 'L'), ((1292, 867), 'L'), ((2070, 1550), 'L'), ((1312, 840), 'L'), ((1072, 880), 'L'), ((1216, 1032), 'L'), ((1642, 1496), 'L'), ((456, 280), 'RGB'), ((2064, 1632), 'L'), ((1328, 1136), 'L'), ((1232, 952), 'L'), ((1190, 709), 'L'), ((1128, 688), 'L'), ((984, 576), 'L'), ((788, 496), 'RGB'), ((726, 436), 'RGB'), ((1432, 1016), 'L'), ((1586, 1306), 'L'), ((1380, 1040), 'L'), ((1766, 1287), 'L'), ((947, 594), 'L'), ((2244, 2030), 'L'), ((1222, 878), 'L'), ((1456, 976), 'L'), ((928, 696), 'L'), ((1284, 1020), 'L'), ((1762, 1399), 'L'), ((1726, 1505), 'L'), ((1508, 1241), 'L'), ((1552, 1104), 'L'), ((1432, 944), 'L'), ((1160, 856), 'L'), ((1000, 760), 'L'), ((904, 664), 'L'), ((1592, 1272), 'L'), ((445, 199), 'RGB'), ((2010, 1705), 'L'), ((1468, 913), 'L'), ((1656, 1264), 'L'), ((1526, 1052), 'L'), ((840, 603), 'RGB'), ((1636, 1130), 'L'), ((992, 712), 'L'), ((1720, 1303), 'L'), ((896, 528), 'L'), ((1424, 1184), 'L'), ((1232, 904), 'L'), ((2050, 1497), 'L'), ((1016, 832), 'L'), ((1096, 592), 'L'), ((1192, 952), 'L'), ((1032, 592), 'L'), ((1656, 1288), 'L'), ((1724, 1442), 'L'), ((1064, 760), 'L'), ((1120, 552), 'L'), ((1526, 1356), 'L'), ((1024, 744), 'L'), ((1664, 1088), 'L'), ((1740, 1735), 'L'), ((1604, 1248), 'L'), ((1424, 1112), 'L'), ((1280, 1000), 'L'), ((1344, 912), 'L'), ((1790, 1326), 'L'), ((1468, 1163), 'L'), ((1206, 878), 'L'), ((732, 458), 'RGB'), ((1096, 896), 'L'), ((1000, 712), 'L'), ((1620, 1310), 'L'), ((1704, 1156), 'L'), ((1464, 1048), 'L'), ((1985, 1533), 'L'), ((1458, 1080), 'L'), ((984, 504), 'L'), ((1656, 1216), 'L'), ((1360, 1097), 'L'), ((1588, 1438), 'L'), ((1678, 1480), 'L'), ((1528, 1024), 'L'), ((928, 752), 'L'), ((1136, 776), 'L'), ((1740, 1291), 'L'), ((992, 664), 'L'), ((832, 568), 'L'), ((896, 480), 'L'), ((1426, 1067), 'L'), ((1152, 736), 'L'), ((1330, 797), 'L'), ((760, 488), 'L'), ((1558, 1352), 'L'), ((1304, 968), 'L'), ((1560, 1160), 'L'), ((1224, 824), 'L'), ((928, 670), 'RGB'), ((1128, 640), 'L'), ((1616, 1109), 'L'), ((968, 632), 'L'), ((1395, 1312), 'L'), ((1450, 1160), 'L'), ((1692, 1295), 'L'), ((2022, 1577), 'L'), ((1260, 863), 'L'), ((1322, 1125), 'L'), ((1088, 688), 'L'), ((1898, 1739), 'L'), ((992, 592), 'L'), ((1392, 1016), 'L'), ((1296, 832), 'L'), ((1728, 1392), 'L'), ((1632, 1208), 'L'), ((1056, 680), 'L'), ((940, 696), 'RGB'), ((1612, 941), 'L'), ((2024, 1836), 'L'), ((1874, 1670), 'L'), ((1422, 1156), 'L'), ((1848, 1448), 'L'), ((920, 544), 'L'), ((1662, 1585), 'L'), ((1128, 944), 'L'), ((984, 456), 'L'), ((1340, 917), 'L'), ((1741, 1504), 'L'), ((1072, 816), 'L'), ((2060, 1839), 'L'), ((1296, 760), 'L'), ((1928, 1631), 'L'), ((888, 454), 'RGB'), ((1538, 1222), 'L'), ((1072, 848), 'L'), ((2020, 1700), 'L'), ((1224, 776), 'L'), ((968, 584), 'L'), ((2022, 1445), 'L'), ((1384, 808), 'L'), ((1288, 712), 'L'), ((840, 672), 'L'), ((936, 768), 'L'), ((1576, 1544), 'L'), ((856, 568), 'L'), ((832, 448), 'L'), ((1296, 784), 'L'), ((1654, 1291), 'L'), ((1056, 755), 'L'), ((1778, 1542), 'L'), ((1460, 1071), 'L'), ((1120, 568), 'L'), ((1650, 1217), 'L'), ((1168, 872), 'L'), ((1328, 968), 'L'), ((1016, 680), 'L'), ((928, 664), 'L'), ((920, 496), 'L'), ((1368, 936), 'L'), ((1032, 600), 'L'), ((1246, 998), 'L'), ((1272, 1128), 'L'), ((2373, 2663), 'L'), ((1720, 1112), 'L'), ((931, 586), 'RGB'), ((1192, 832), 'L'), ((792, 584), 'L'), ((856, 496), 'L'), ((1336, 1040), 'L'), ((1496, 1074), 'L'), ((1198, 701), 'L'), ((1160, 824), 'L'), ((1064, 640), 'L'), ((1504, 912), 'L'), ((1244, 1097), 'L'), ((1924, 1797), 'L'), ((1388, 1094), 'L'), ((1024, 688), 'L'), ((998, 747), 'L'), ((2035, 1526), 'L'), ((1632, 1136), 'L'), ((1570, 1164), 'L'), ((883, 559), 'RGB'), ((1032, 528), 'L'), ((1198, 897), 'L'), ((1342, 1110), 'L'), ((1432, 1152), 'L'), ((936, 720), 'L'), ((1192, 856), 'L'), ((1026, 573), 'L'), ((1454, 978), 'L'), ((1000, 656), 'L'), ((1456, 912), 'L'), ((1760, 1352), 'L'), ((1424, 1016), 'L'), ((1168, 824), 'L'), ((1368, 888), 'L'), ((992, 608), 'L'), ((1679, 1914), 'L'), ((1776, 1210), 'L'), ((888, 344), 'L'), ((960, 712), 'L'), ((1453, 1073), 'L'), ((1096, 488), 'L'), ((1352, 680), 'L'), ((1144, 792), 'L'), ((1000, 680), 'L'), ((1072, 603), 'RGB'), ((1064, 592), 'L'), ((1766, 1611), 'L'), ((1870, 1638), 'L'), ((1264, 936), 'L'), ((1918, 1569), 'L'), ((1024, 640), 'L'), ((2001, 1725), 'L'), ((1328, 1024), 'L'), ((2091, 2326), 'L'), ((1632, 1088), 'L'), ((1136, 744), 'L'), ((1040, 560), 'L'), ((1104, 684), 'RGB'), ((985, 585), 'RGB'), ((2134, 1827), 'L'), ((1708, 1400), 'L'), ((1805, 1421), 'L'), ((1709, 1787), 'L'), ((1000, 608), 'L'), ((1304, 936), 'L'), ((1064, 896), 'L'), ((1464, 944), 'L'), ((1608, 1056), 'L'), ((1072, 696), 'L'), ((928, 584), 'L'), ((976, 512), 'L'), ((1932, 1908), 'L'), ((2380, 2074), 'L'), ((1588, 1248), 'L'), ((1024, 568), 'L'), ((759, 409), 'RGB'), ((1328, 952), 'L'), ((1232, 768), 'L'), ((992, 560), 'L'), ((1728, 1333), 'L'), ((1088, 656), 'L'), ((1536, 1208), 'L'), ((1040, 864), 'L'), ((1384, 1102), 'L'), ((1692, 1214), 'L'), ((1144, 793), 'L'), ((1638, 1236), 'L'), ((1948, 1905), 'L'), ((1504, 1200), 'L'), ((904, 552), 'L'), ((1936, 1669), 'L'), ((1924, 1623), 'L'), ((1560, 1056), 'L'), ((1464, 872), 'L'), ((482, 209), 'RGB'), ((1828, 1654), 'L'), ((1216, 872), 'L'), ((2098, 1770), 'L'), ((1728, 1224), 'L'), ((1898, 1565), 'L'), ((944, 808), 'L'), ((848, 624), 'L'), ((1088, 584), 'L'), ((1232, 792), 'L'), ((1184, 960), 'L'), ((896, 680), 'L'), ((1392, 912), 'L'), ((1296, 728), 'L'), ((1550, 1399), 'L'), ((1344, 1032), 'L'), ((1360, 1016), 'L'), ((1096, 744), 'L'), ((1484, 1267), 'L'), ((1016, 816), 'L'), ((1414, 1164), 'L'), ((1504, 1206), 'L'), ((1422, 1152), 'L'), ((1450, 947), 'L'), ((1094, 898), 'L'), ((1472, 921), 'L'), ((1240, 800), 'L'), ((1232, 720), 'L'), ((1088, 608), 'L'), ((1232, 1096), 'L'), ((1632, 1144), 'L'), ((1008, 768), 'L'), ((912, 584), 'L'), ((1566, 1210), 'L'), ((1690, 1187), 'L'), ((1530, 1279), 'L'), ((2114, 1758), 'L'), ((1574, 1043), 'L'), ((1904, 1480), 'L'), ((927, 523), 'RGB'), ((1966, 1499), 'L'), ((1560, 1008), 'L'), ((1224, 672), 'L'), ((1320, 768), 'L'), ((1472, 1280), 'L'), ((936, 600), 'L'), ((1624, 1944), 'L'), ((1912, 1928), 'L'), ((1472, 1225), 'L'), ((1088, 536), 'L'), ((1240, 1104), 'L'), ((1866, 1595), 'L'), ((1572, 1194), 'L'), ((1770, 1325), 'L'), ((1440, 792), 'L'), ((1440, 1168), 'L'), ((1434, 986), 'L'), ((1600, 1176), 'L'), ((1392, 864), 'L'), ((1008, 696), 'L'), ((2266, 1843), 'L'), ((1368, 768), 'L'), ((1472, 1171), 'L'), ((1388, 1029), 'L'), ((1528, 840), 'L'), ((2434, 2418), 'L'), ((1000, 560), 'L'), ((1336, 936), 'L'), ((1612, 1164), 'L'), ((1240, 752), 'L'), ((1784, 1389), 'L'), ((1566, 1248), 'L'), ((1256, 767), 'L'), ((960, 648), 'L'), ((1346, 902), 'L'), ((1512, 1178), 'L'), ((1506, 1121), 'L'), ((1032, 736), 'L'), ((723, 507), 'RGB'), ((936, 552), 'L'), ((1822, 1705), 'L'), ((1294, 1052), 'L'), ((1080, 784), 'L'), ((1144, 696), 'L'), ((1110, 658), 'L'), ((2078, 2067), 'L'), ((1778, 1461), 'L'), ((1522, 1183), 'L'), ((896, 600), 'L'), ((1386, 1158), 'L'), ((1200, 552), 'L'), ((1200, 928), 'L'), ((1400, 1239), 'L'), ((1104, 744), 'L'), ((1242, 1083), 'L'), ((1572, 1322), 'L'), ((1632, 1400), 'L'), ((1400, 1190), 'L'), ((1312, 888), 'L'), ((1704, 1392), 'L'), ((1008, 648), 'L'), ((1998, 1361), 'L'), ((960, 576), 'L'), ((2772, 2098), 'L'), ((2048, 1882), 'L'), ((1252, 1044), 'L'), ((1576, 1056), 'L'), ((1096, 696), 'L'), ((1542, 1341), 'L'), ((1144, 624), 'L'), ((1080, 712), 'L'), ((1431, 1058), 'L'), ((1048, 816), 'L'), ((861, 626), 'RGB'), ((840, 560), 'L'), ((1736, 1216), 'L'), ((1542, 1286), 'L'), ((1200, 856), 'L'), ((1640, 1322), 'L'), ((872, 600), 'L'), ((1072, 664), 'L'), ((1312, 816), 'L'), ((1304, 736), 'L'), ((1216, 1008), 'L'), ((1438, 1140), 'L'), ((1096, 624), 'L'), ((1536, 1176), 'L'), ((1008, 670), 'RGB'), ((1886, 1406), 'L'), ((711, 537), 'RGB'), ((1304, 768), 'L'), ((1000, 816), 'L'), ((1352, 1072), 'L'), ((1546, 1230), 'L'), ((1092, 736), 'L'), ((936, 684), 'RGB'), ((1072, 592), 'L'), ((928, 480), 'L'), ((1168, 688), 'L'), ((1464, 1167), 'L'), ((880, 600), 'L'), ((832, 672), 'L'), ((1480, 1337), 'L'), ((944, 776), 'L'), ((1184, 928), 'L'), ((840, 512), 'L'), ((1160, 648), 'L'), ((2134, 2376), 'L'), ((1296, 1082), 'L'), ((1392, 712), 'L'), ((2024, 1963), 'L'), ((1682, 1619), 'L'), ((1470, 1072), 'L'), ((1112, 704), 'L'), ((872, 552), 'L'), ((1222, 782), 'L'), ((1080, 696), 'L'), ((912, 520), 'L'), ((1712, 1534), 'L'), ((1904, 1422), 'L'), ((1312, 1144), 'L'), ((1072, 616), 'L'), ((1458, 1190), 'L'), ((1802, 1514), 'L'), ((1638, 1264), 'L'), ((1546, 1236), 'L'), ((1466, 1178), 'L'), ((1616, 1328), 'L'), ((1192, 672), 'L'), ((1184, 856), 'L'), ((1472, 1216), 'L'), ((734, 307), 'RGB'), ((1152, 674), 'L'), ((944, 704), 'L'), ((1796, 1372), 'L'), ((1144, 680), 'L'), ((1632, 1312), 'L'), ((2026, 1412), 'L'), ((1242, 940), 'L'), ((508, 218), 'RGB'), ((1733, 1044), 'L'), ((1264, 824), 'L'), ((936, 568), 'L'), ((1408, 792), 'L'), ((1168, 640), 'L'), ((1176, 720), 'L'), ((1024, 528), 'L'), ((928, 432), 'L'), ((1408, 1168), 'L'), ((1328, 1368), 'L'), ((1804, 1758), 'L'), ((1648, 1120), 'L'), ((1168, 672), 'L'), ((1000, 496), 'L'), ((1276, 767), 'L'), ((1400, 1120), 'L'), ((1724, 1395), 'L'), ((1353, 835), 'L'), ((1608, 944), 'L'), ((1472, 863), 'L'), ((1624, 1341), 'L'), ((1176, 1024), 'L'), ((2090, 1785), 'L'), ((1362, 1093), 'L'), ((821, 490), 'RGB'), ((1622, 1422), 'L'), ((1762, 1249), 'L'), ((1184, 808), 'L'), ((1280, 904), 'L'), ((944, 656), 'L'), ((1040, 752), 'L'), ((856, 577), 'RGB'), ((500, 198), 'RGB'), ((1408, 1128), 'L'), ((1650, 1078), 'L'), ((904, 704), 'L'), ((1296, 1052), 'L'), ((1138, 677), 'L'), ((1400, 1048), 'L'), ((1208, 944), 'L'), ((1016, 664), 'L'), ((1190, 901), 'L'), ((1416, 1344), 'L'), ((800, 472), 'L'), ((1296, 816), 'L'), ((1778, 1380), 'L'), ((1680, 1256), 'L'), ((1504, 1016), 'L'), ((1248, 824), 'L'), ((1344, 920), 'L'), ((712, 464), 'L'), ((1592, 1481), 'L'), ((1144, 936), 'L'), ((1056, 920), 'L'), ((1048, 752), 'L'), ((1744, 1168), 'L'), ((1766, 1557), 'L'), ((2000, 1424), 'L'), ((1554, 1198), 'L'), ((1352, 1080), 'L'), ((1416, 992), 'L'), ((525, 282), 'RGB'), ((1272, 784), 'L'), ((428, 172), 'RGB'), ((1112, 688), 'L'), ((1732, 1662), 'L'), ((1982, 1603), 'L'), ((1190, 925), 'L'), ((1280, 905), 'L'), ((1144, 592), 'L'), ((1206, 940), 'L'), ((1136, 888), 'L'), ((1376, 1040), 'L'), ((485, 229), 'RGB'), ((1873, 1478), 'L'), ((1978, 1619), 'L'), ((1104, 640), 'L'), ((1642, 1221), 'L'), ((1456, 1272), 'L'), ((1368, 1078), 'L'), ((1208, 896), 'L'), ((1112, 712), 'L'), ((1576, 1328), 'L'), ((1878, 1729), 'L'), ((1384, 1048), 'L'), ((1768, 1216), 'L'), ((1144, 896), 'L'), ((1310, 797), 'L'), ((1008, 584), 'L'), ((1454, 1229), 'L'), ((1504, 968), 'L'), ((1248, 776), 'L'), ((1248, 1152), 'L'), ((1352, 948), 'L'), ((827, 463), 'RGB'), ((1712, 1392), 'L'), ((1244, 755), 'L'), ((1208, 824), 'L'), ((1766, 1503), 'L'), ((1112, 640), 'L'), ((1156, 747), 'L'), ((1080, 632), 'L'), ((1198, 990), 'L'), ((952, 656), 'L'), ((1960, 1992), 'L'), ((1206, 978), 'L'), ((1530, 1078), 'L'), ((1880, 1584), 'L'), ((645, 462), 'RGB'), ((747, 464), 'RGB'), ((1544, 872), 'L'), ((1448, 1064), 'L'), ((1608, 1160), 'L'), ((1296, 872), 'L'), ((912, 704), 'L'), ((1360, 784), 'L'), ((1276, 1110), 'L'), ((1104, 592), 'L'), ((1616, 1318), 'L'), ((1438, 1082), 'L'), ((1616, 1232), 'L'), ((1776, 1352), 'L'), ((1680, 1168), 'L'), ((1446, 1021), 'L'), ((1336, 752), 'L'), ((1300, 821), 'L'), ((1762, 1506), 'L'), ((1170, 889), 'L'), ((795, 491), 'RGB'), ((1008, 536), 'L'), ((1344, 824), 'L'), ((1310, 786), 'L'), ((1132, 825), 'L'), ((1168, 608), 'L'), ((1952, 1496), 'L'), ((1608, 1348), 'L'), ((1472, 1048), 'L'), ((1858, 1295), 'L'), ((1216, 856), 'L'), ((880, 520), 'L'), ((2090, 1743), 'L'), ((1646, 1124), 'L'), ((1300, 890), 'L'), ((862, 528), 'RGB'), ((976, 704), 'L'), ((2072, 1440), 'L'), ((1544, 824), 'L'), ((1640, 920), 'L'), ((1016, 544), 'L'), ((1400, 1125), 'L'), ((1820, 1410), 'L'), ((942, 674), 'RGB'), ((1434, 906), 'L'), ((1644, 1167), 'L'), ((864, 664), 'L'), ((1898, 1403), 'L'), ((1802, 1407), 'L'), ((1464, 1164), 'L'), ((1472, 976), 'L'), ((832, 520), 'L'), ((1856, 1418), 'L'), ((986, 709), 'L'), ((1280, 872), 'L'), ((1536, 1064), 'L'), ((1344, 784), 'L'), ((2036, 1908), 'L'), ((1088, 968), 'L'), ((712, 439), 'RGB'), ((1854, 1572), 'L'), ((1666, 1360), 'L'), ((1916, 1677), 'L'), ((1512, 1032), 'L'), ((1744, 1104), 'L'), ((1320, 752), 'L'), ((888, 656), 'L'), ((2222, 1669), 'L'), ((1664, 1264), 'L'), ((928, 824), 'L'), ((1328, 928), 'L'), ((1398, 1121), 'L'), ((1632, 800), 'L'), ((1392, 778), 'L'), ((2348, 1851), 'L'), ((1620, 1159), 'L'), ((1288, 976), 'L'), ((2072, 1768), 'L'), ((1208, 776), 'L'), ((1112, 592), 'L'), ((1676, 1391), 'L'), ((1224, 1072), 'L'), ((1512, 960), 'L'), ((1450, 1275), 'L'), ((1320, 1056), 'L'), ((2344, 1855), 'L'), ((1622, 1272), 'L'), ((2323, 1893), 'L'), ((928, 552), 'L'), ((1508, 933), 'L'), ((1898, 1854), 'L'), ((2128, 1630), 'L'), ((1088, 560), 'L'), ((992, 464), 'L'), ((1508, 1260), 'L'), ((1426, 1206), 'L'), ((1596, 1306), 'L'), ((1208, 704), 'L'), ((699, 454), 'RGB'), ((1016, 800), 'L'), ((1608, 1168), 'L'), ((1224, 1000), 'L'), ((1416, 888), 'L'), ((736, 437), 'RGB'), ((888, 608), 'L'), ((1940, 1761), 'L'), ((1334, 785), 'L'), ((1248, 766), 'L'), ((1674, 1144), 'L'), ((1852, 1943), 'L'), ((1376, 936), 'L'), ((1280, 752), 'L'), ((1372, 1070), 'L'), ((1592, 1041), 'L'), ((1552, 1200), 'L'), ((1288, 928), 'L'), ((864, 576), 'L'), ((1208, 728), 'L'), ((1608, 1096), 'L'), ((920, 720), 'L'), ((888, 536), 'L'), ((1844, 1468), 'L'), ((744, 424), 'L'), ((2010, 1747), 'L'), ((1372, 1047), 'L'), ((992, 792), 'L'), ((1460, 906), 'L'), ((1352, 817), 'L'), ((1516, 910), 'L'), ((1346, 1044), 'L'), ((1608, 1228), 'L'), ((1476, 1013), 'L'), ((976, 584), 'L'), ((1580, 1604), 'L'), ((1752, 1192), 'L'), ((1662, 1276), 'L'), ((1850, 1314), 'L'), ((1160, 664), 'L'), ((1656, 1008), 'L'), ((1016, 552), 'L'), ((1064, 856), 'L'), ((1224, 952), 'L'), ((1911, 1806), 'L'), ((1128, 817), 'L'), ((1858, 1480), 'L'), ((1288, 888), 'L'), ((1976, 1496), 'L'), ((1646, 1395), 'L'), ((1184, 624), 'L'), ((1184, 1000), 'L'), ((1542, 1310), 'L'), ((871, 488), 'RGB'), ((1524, 1171), 'L'), ((1500, 1051), 'L'), ((1364, 1114), 'L'), ((1056, 808), 'L'), ((1572, 1125), 'L'), ((960, 624), 'L'), ((1458, 990), 'L'), ((1416, 1160), 'L'), ((923, 604), 'RGB'), ((1184, 1032), 'L'), ((920, 672), 'L'), ((1642, 1545), 'L'), ((984, 584), 'L'), ((1080, 768), 'L'), ((1624, 1304), 'L'), ((1432, 1024), 'L'), ((1584, 1407), 'L'), ((1528, 1120), 'L'), ((1920, 1750), 'L'), ((1754, 1187), 'L'), ((1576, 1176), 'L'), ((1384, 959), 'L'), ((1240, 840), 'L'), ((1468, 993), 'L'), ((1584, 1352), 'L'), ((1222, 886), 'L'), ((1628, 1314), 'L'), ((1488, 1168), 'L'), ((1056, 736), 'L'), ((1408, 968), 'L'), ((1064, 816), 'L'), ((1552, 1080), 'L'), ((1264, 880), 'L'), ((2126, 1345), 'L'), ((1424, 1264), 'L'), ((2144, 1805), 'L'), ((1168, 1072), 'L'), ((1636, 1468), 'L'), ((1288, 840), 'L'), ((1282, 747), 'L'), ((1384, 1312), 'L'), ((856, 696), 'L'), ((1268, 1017), 'L'), ((1090, 751), 'L'), ((2094, 1551), 'L'), ((912, 552), 'L'), ((816, 368), 'L'), ((2165, 1907), 'L'), ((1312, 976), 'L'), ((1264, 808), 'L'), ((1628, 1283), 'L'), ((1216, 792), 'L'), ((1520, 1376), 'L'), ((1588, 1010), 'L'), ((1168, 1000), 'L'), ((1016, 808), 'L'), ((1120, 696), 'L'), ((1624, 1256), 'L'), ((2458, 1870), 'L'), ((1028, 581), 'L'), ((1096, 664), 'L'), ((856, 624), 'L'), ((1592, 1384), 'L'), ((1848, 1576), 'L'), ((1488, 1206), 'L'), ((1216, 720), 'L'), ((1306, 762), 'L'), ((1024, 816), 'L'), ((1102, 585), 'L'), ((752, 392), 'L'), ((1857, 1317), 'L'), ((896, 624), 'L'), ((1144, 736), 'L'), ((1908, 1476), 'L'), ((1032, 656), 'L'), ((1412, 1044), 'L'), ((1496, 1179), 'L'), ((1048, 552), 'L'), ((830, 496), 'RGB'), ((1432, 976), 'L'), ((1750, 1314), 'L'), ((1608, 1195), 'L'), ((1574, 1071), 'L'), ((1256, 976), 'L'), ((1072, 672), 'L'), ((2302, 1514), 'L'), ((1882, 1418), 'L'), ((1360, 856), 'L'), ((1334, 1102), 'L'), ((2214, 1974), 'L'), ((1176, 813), 'L'), ((736, 480), 'L'), ((1287, 653), 'RGB'), ((1040, 627), 'L'), ((1680, 984), 'L'), ((1152, 744), 'L'), ((1372, 1005), 'L'), ((1214, 937), 'L'), ((1456, 1072), 'L'), ((1360, 888), 'L'), ((1464, 925), 'L'), ((1806, 1392), 'L'), ((1720, 1240), 'L'), ((1224, 896), 'L'), ((1312, 856), 'L'), ((2426, 2076), 'L'), ((1216, 672), 'L'), ((1616, 1352), 'L'), ((1328, 1152), 'L'), ((1232, 968), 'L'), ((1136, 872), 'L'), ((1084, 717), 'RGB'), ((1550, 1452), 'L'), ((1144, 774), 'L'), ((878, 584), 'RGB'), ((1482, 1044), 'L'), ((461, 175), 'RGB'), ((920, 552), 'L'), ((1752, 1160), 'L'), ((1416, 824), 'L'), ((1560, 1256), 'L'), ((2414, 1731), 'L'), ((1128, 736), 'L'), ((1546, 1307), 'L'), ((2359, 2234), 'L'), ((877, 523), 'RGB'), ((1344, 600), 'L'), ((1248, 880), 'L'), ((1708, 1468), 'L'), ((1152, 696), 'L'), ((1406, 879), 'L'), ((1310, 1071), 'L'), ((1172, 732), 'L'), ((1666, 1176), 'L'), ((1276, 947), 'L'), ((1088, 784), 'L'), ((831, 603), 'RGB'), ((1744, 1388), 'L'), ((1272, 1075), 'L'), ((1112, 744), 'L'), ((888, 472), 'L'), ((1484, 1036), 'L'), ((1692, 1341), 'L'), ((1320, 944), 'L'), ((1224, 848), 'L'), ((1720, 1192), 'L'), ((984, 552), 'L'), ((1128, 1040), 'L'), ((1720, 1568), 'L'), ((1136, 840), 'L'), ((1686, 1195), 'L'), ((1112, 832), 'L'), ((1088, 712), 'L'), ((1888, 1440), 'L'), ((2431, 2195), 'L'), ((960, 520), 'L'), ((1016, 688), 'L'), ((1442, 1152), 'L'), ((1368, 944), 'L'), ((1816, 1110), 'L'), ((968, 696), 'L'), ((1070, 736), 'L'), ((936, 800), 'L'), ((1080, 664), 'L'), ((503, 260), 'RGB'), ((441, 255), 'RGB'), ((992, 656), 'L'), ((1982, 1751), 'L'), ((1200, 800), 'L'), ((864, 464), 'L'), ((1733, 1253), 'L'), ((920, 808), 'L'), ((1636, 1433), 'L'), ((824, 512), 'L'), ((1520, 968), 'L'), ((1541, 881), 'L'), ((936, 728), 'L'), ((1762, 1430), 'L'), ((1320, 896), 'L'), ((2187, 1332), 'L'), ((1020, 647), 'L'), ((1496, 1137), 'L'), ((850, 560), 'RGB'), ((1632, 1200), 'L'), ((1488, 1088), 'L'), ((1848, 1495), 'L'), ((1546, 1368), 'L'), ((1552, 1000), 'L'), ((1620, 1340), 'L'), ((1304, 984), 'L'), ((1010, 670), 'L'), ((1292, 936), 'L'), ((2180, 2085), 'L'), ((1082, 658), 'L'), ((1288, 776), 'L'), ((1888, 1424), 'L'), ((952, 440), 'L'), ((1336, 1080), 'L'), ((1742, 1422), 'L'), ((1984, 1559), 'L'), ((1000, 688), 'L'), ((2251, 1853), 'L'), ((1528, 968), 'L'), ((720, 325), 'RGB'), ((1310, 928), 'L'), ((1200, 752), 'L'), ((1462, 1124), 'L'), ((1558, 1259), 'L'), ((1126, 1012), 'L'), ((1546, 1210), 'L'), ((1442, 1214), 'L'), ((1072, 840), 'L'), ((1520, 920), 'L'), ((1568, 1560), 'L'), ((968, 576), 'L'), ((1904, 1560), 'L'), ((1208, 1104), 'L'), ((976, 656), 'L'), ((1088, 736), 'L'), ((1329, 810), 'L'), ((1264, 1071), 'L'), ((1232, 848), 'L'), ((1218, 1032), 'L'), ((1472, 978), 'L'), ((1920, 1708), 'L'), ((1302, 958), 'L'), ((1530, 1299), 'L'), ((1200, 680), 'L'), ((968, 608), 'L'), ((1586, 1217), 'L'), ((1736, 1416), 'L'), ((1766, 1380), 'L'), ((2144, 2028), 'L'), ((1856, 1333), 'L'), ((928, 656), 'L'), ((972, 557), 'RGB'), ((1088, 664), 'L'), ((1368, 928), 'L'), ((1480, 1137), 'L'), ((1288, 728), 'L'), ((1336, 1032), 'L'), ((1000, 640), 'L'), ((1384, 1088), 'L'), ((2101, 1606), 'L'), ((904, 624), 'L'), ((1662, 1099), 'L'), ((1064, 632), 'L'), ((1400, 882), 'L'), ((824, 424), 'L'), ((1216, 880), 'L'), ((1264, 1072), 'L'), ((1328, 984), 'L'), ((1272, 1017), 'L'), ((1232, 800), 'L'), ((1514, 1152), 'L'), ((1232, 886), 'L'), ((2111, 1509), 'L'), ((1570, 1156), 'L'), ((1392, 920), 'L'), ((1082, 720), 'L'), ((1288, 656), 'L'), ((856, 512), 'L'), ((1144, 856), 'L'), ((1304, 896), 'L'), ((1392, 998), 'L'), ((1064, 656), 'L'), ((1434, 1310), 'L'), ((1662, 1403), 'L'), ((904, 648), 'L'), ((1290, 809), 'L'), ((689, 366), 'RGB'), ((1650, 1253), 'L'), ((968, 560), 'L'), ((1272, 994), 'L'), ((2517, 1979), 'L'), ((1328, 912), 'L'), ((928, 608), 'L'), ((1024, 704), 'L'), ((1554, 1353), 'L'), ((1088, 616), 'L'), ((1960, 1688), 'L'), ((1418, 1360), 'L'), ((1314, 1145), 'L'), ((2080, 1731), 'L'), ((1902, 1495), 'L'), ((1550, 1033), 'L'), ((1592, 1200), 'L'), ((1160, 768), 'L'), ((904, 576), 'L'), ((1202, 704), 'L'), ((920, 472), 'L'), ((1574, 959), 'L'), ((2006, 1461), 'L'), ((1148, 908), 'L'), ((1368, 912), 'L'), ((1114, 815), 'L'), ((1580, 1410), 'L'), ((1416, 1216), 'L'), ((1032, 576), 'L'), ((998, 740), 'L'), ((1762, 1480), 'L'), ((2427, 2374), 'L'), ((1168, 840), 'L'), ((930, 587), 'RGB'), ((1232, 832), 'L'), ((992, 624), 'L'), ((1824, 1430), 'L'), ((1152, 632), 'L'), ((2148, 1820), 'L'), ((1368, 840), 'L'), ((1754, 1377), 'L'), ((1562, 1348), 'L'), ((1272, 1032), 'L'), ((936, 696), 'L'), ((1664, 1000), 'L'), ((1024, 656), 'L'), ((1354, 1024), 'L'), ((1678, 1368), 'L'), ((1514, 1032), 'L'), ((1136, 760), 'L'), ((925, 635), 'RGB'), ((650, 378), 'RGB'), ((992, 552), 'L'), ((1350, 1152), 'L'), ((960, 656), 'L'), ((1688, 1422), 'L'), ((1264, 984), 'L'), ((714, 503), 'RGB'), ((1592, 1152), 'L'), ((1000, 624), 'L'), ((1168, 800), 'L'), ((446, 232), 'RGB'), ((1820, 1619), 'L'), ((1104, 888), 'L'), ((1360, 1080), 'L'), ((1306, 1047), 'L'), ((1636, 1329), 'L'), ((1442, 1109), 'L'), ((1538, 1205), 'L'), ((1582, 1404), 'L'), ((1230, 936), 'L'), ((1568, 1120), 'L'), ((1467, 1044), 'L'), ((1136, 688), 'L'), ((992, 576), 'L'), ((1152, 584), 'L'), ((981, 663), 'RGB'), ((1440, 928), 'L'), ((1634, 1372), 'L'), ((768, 480), 'L'), ((1024, 616), 'L'), ((1224, 736), 'L'), ((1134, 731), 'L'), ((1512, 1192), 'L'), ((1272, 984), 'L'), ((1658, 1145), 'L'), ((936, 648), 'L'), ((1144, 1072), 'L'), ((1088, 600), 'L'), ((1152, 512), 'L'), ((1792, 1232), 'L'), ((1744, 1345), 'L'), ((1798, 1356), 'L'), ((1440, 856), 'L'), ((1840, 1480), 'L'), ((1827, 1044), 'L'), ((1626, 1600), 'L'), ((912, 576), 'L'), ((1496, 1094), 'L'), ((1546, 1255), 'L'), ((1202, 743), 'L'), ((1168, 752), 'L'), ((796, 469), 'RGB'), ((1850, 1445), 'L'), ((1232, 744), 'L'), ((1616, 912), 'L'), ((1836, 1592), 'L'), ((880, 744), 'L'), ((1708, 1267), 'L'), ((1432, 1184), 'L'), ((904, 528), 'L'), ((2334, 1956), 'L'), ((1796, 1696), 'L'), ((1296, 1048), 'L'), ((2094, 1912), 'L'), ((1200, 952), 'L'), ((2180, 1955), 'L'), ((1740, 1246), 'L'), ((1582, 1333), 'L'), ((1430, 1141), 'L'), ((1916, 2059), 'L'), ((750, 440), 'RGB'), ((1616, 1408), 'L'), ((1016, 760), 'L'), ((1334, 994), 'L'), ((1520, 1306), 'L'), ((1128, 966), 'L'), ((1700, 1383), 'L'), ((1458, 1248), 'L'), ((1666, 1171), 'L'), ((1432, 736), 'L'), ((1336, 928), 'L'), ((1864, 1544), 'L'), ((1240, 744), 'L'), ((856, 480), 'L'), ((1256, 728), 'L'), ((1716, 1353), 'L'), ((1008, 712), 'L'), ((912, 528), 'L'), ((1416, 1037), 'L'), ((481, 234), 'RGB'), ((1820, 1476), 'L'), ((1774, 1588), 'L'), ((1646, 1214), 'L'), ((1015, 607), 'RGB'), ((765, 594), 'RGB'), ((1558, 1106), 'L'), ((904, 480), 'L'), ((1400, 888), 'L'), ((1160, 736), 'L'), ((1064, 552), 'L'), ((948, 763), 'L'), ((1296, 1000), 'L'), ((1106, 762), 'L'), ((960, 664), 'L'), ((1126, 851), 'L'), ((1904, 1534), 'L'), ((1164, 809), 'L'), ((1232, 1000), 'L'), ((1804, 1480), 'L'), ((1624, 968), 'L'), ((1736, 1553), 'L'), ((1632, 1375), 'L'), ((1558, 1167), 'L'), ((1766, 1468), 'L'), ((1008, 664), 'L'), ((1016, 744), 'L'), ((1979, 1978), 'L'), ((2480, 2329), 'L'), ((1176, 816), 'L'), ((1168, 736), 'L'), ((1106, 731), 'L'), ((1322, 736), 'L'), ((1500, 1206), 'L'), ((1132, 766), 'L'), ((1824, 1426), 'L'), ((1304, 760), 'L'), ((1208, 952), 'L'), ((1400, 840), 'L'), ((1016, 672), 'L'), ((1422, 971), 'L'), ((1326, 875), 'L'), ((1112, 768), 'L'), ((1210, 886), 'L'), ((1658, 1465), 'L'), ((2016, 1603), 'L'), ((1440, 1112), 'L'), ((848, 584), 'L'), ((1096, 640), 'L'), ((1956, 1476), 'L'), ((1536, 1192), 'L'), ((1666, 1537), 'L'), ((1584, 1295), 'L'), ((1056, 642), 'L'), ((1338, 1102), 'L'), ((1352, 1088), 'L'), ((494, 151), 'RGB'), ((974, 766), 'L'), ((1518, 1302), 'L'), ((1064, 808), 'L'), ((1422, 1032), 'L'), ((840, 536), 'L'), ((1072, 608), 'L'), ((928, 496), 'L'), ((1630, 1333), 'L'), ((888, 784), 'L'), ((1512, 1160), 'L'), ((1464, 1183), 'L'), ((1080, 688), 'L'), ((1748, 1442), 'L'), ((2093, 1404), 'L'), ((1342, 951), 'L'), ((1488, 816), 'L'), ((836, 521), 'RGB'), ((1536, 1120), 'L'), ((1068, 720), 'L'), ((1072, 640), 'L'), ((1304, 712), 'L'), ((1600, 1208), 'L'), ((2080, 2032), 'L'), ((976, 832), 'L'), ((968, 752), 'L'), ((904, 464), 'L'), ((1112, 720), 'L'), ((1400, 1221), 'L'), ((1458, 1128), 'L'), ((1724, 1410), 'L'), ((2000, 1456), 'L'), ((1492, 1190), 'L'), ((1582, 1183), 'L'), ((1728, 1222), 'L'), ((1164, 836), 'L'), ((1990, 1419), 'L'), ((1186, 769), 'L'), ((1344, 880), 'L'), ((1322, 650), 'L'), ((967, 683), 'RGB'), ((1648, 1208), 'L'), ((1268, 959), 'L'), ((1440, 1064), 'L'), ((1360, 928), 'L'), ((1350, 936), 'L'), ((1360, 1341), 'L'), ((1016, 728), 'L'), ((1644, 1138), 'L'), ((1176, 736), 'L'), ((1740, 1541), 'L'), ((1368, 1141), 'L'), ((1272, 920), 'L'), ((1492, 1118), 'L'), ((840, 488), 'L'), ((920, 920), 'L'), ((1336, 896), 'L'), ((1200, 784), 'L'), ((1296, 880), 'L'), ((1716, 1202), 'L'), ((1152, 704), 'L'), ((1408, 840), 'L'), ((904, 416), 'L'), ((1310, 844), 'L'), ((952, 720), 'L'), ((1478, 928), 'L'), ((1098, 759), 'L'), ((1272, 848), 'L'), ((1016, 656), 'L'), ((1176, 664), 'L'), ((1508, 929), 'L'), ((984, 760), 'L'), ((1144, 656), 'L'), ((1514, 1310), 'L'), ((1858, 1680), 'L'), ((1384, 1184), 'L'), ((952, 752), 'L'), ((944, 672), 'L'), ((1844, 1504), 'L'), ((1256, 848), 'L'), ((1724, 1588), 'L'), ((1104, 704), 'L'), ((1008, 608), 'L'), ((1072, 520), 'L'), ((1696, 1272), 'L'), ((1600, 1088), 'L'), ((1600, 1464), 'L'), ((976, 712), 'L'), ((816, 616), 'L'), ((1600, 1125), 'L'), ((469, 270), 'RGB'), ((1752, 1320), 'L'), ((1416, 984), 'L'), ((1292, 1225), 'L'), ((1033, 697), 'RGB'), ((1438, 1059), 'L'), ((1520, 872), 'L'), ((1156, 820), 'L'), ((1748, 1299), 'L'), ((1082, 612), 'L'), ((2043, 2087), 'L'), ((1640, 1304), 'L'), ((1336, 848), 'L'), ((1604, 1462), 'L'), ((1576, 1376), 'L'), ((1048, 776), 'L'), ((2746, 2382), 'L'), ((1802, 1110), 'L'), ((952, 680), 'L'), ((1248, 840), 'L'), ((1372, 817), 'L'), ((1400, 1260), 'L'), ((1380, 844), 'L'), ((832, 528), 'L'), ((1658, 1010), 'L'), ((1120, 872), 'L'), ((1368, 984), 'L'), ((1040, 728), 'L'), ((1016, 608), 'L'), ((1850, 1746), 'L'), ((1176, 616), 'L'), ((889, 569), 'RGB'), ((1736, 1136), 'L'), ((1944, 1560), 'L'), ((1240, 968), 'L'), ((896, 512), 'L'), ((700, 463), 'RGB'), ((1200, 840), 'L'), ((1248, 768), 'L'), ((1008, 560), 'L'), ((1608, 1175), 'L'), ((936, 496), 'L'), ((1104, 656), 'L'), ((1168, 944), 'L'), ((840, 548), 'RGB'), ((816, 568), 'L'), ((1856, 1536), 'L'), ((1280, 771), 'L'), ((1456, 1288), 'L'), ((1676, 1400), 'L'), ((976, 744), 'L'), ((854, 543), 'RGB'), ((1040, 656), 'L'), ((1584, 1426), 'L'), ((1480, 872), 'L'), ((1152, 616), 'L'), ((1688, 1392), 'L'), ((444, 262), 'RGB'), ((1304, 789), 'L'), ((1208, 848), 'L'), ((872, 512), 'L'), ((936, 424), 'L'), ((1882, 1557), 'L'), ((1857, 1815), 'L'), ((1072, 576), 'L'), ((1678, 1229), 'L'), ((1216, 920), 'L'), ((1836, 1604), 'L'), ((880, 584), 'L'), ((1040, 680), 'L'), ((2214, 1715), 'L'), ((976, 768), 'L'), ((1720, 1380), 'L'), ((1364, 1242), 'L'), ((1700, 1113), 'L'), ((1530, 994), 'L'), ((1152, 920), 'L'), ((1144, 840), 'L'), ((1000, 728), 'L'), ((1296, 847), 'L'), ((1240, 936), 'L'), ((1544, 1264), 'L'), ((1448, 1080), 'L'), ((494, 196), 'RGB'), ((1106, 650), 'L'), ((1658, 1407), 'L'), ((846, 468), 'RGB'), ((1870, 1905), 'L'), ((1554, 1229), 'L'), ((1072, 504), 'L'), ((2234, 1843), 'L'), ((1924, 2102), 'L'), ((855, 507), 'RGB'), ((1142, 689), 'L'), ((976, 696), 'L'), ((1280, 760), 'L'), ((1184, 840), 'L'), ((1824, 1672), 'L'), ((1344, 848), 'L'), ((848, 504), 'L'), ((1488, 1280), 'L'), ((499, 261), 'RGB'), ((1152, 944), 'L'), ((1400, 704), 'L'), ((1924, 1580), 'L'), ((1848, 1632), 'L'), ((1608, 1237), 'L'), ((1430, 1087), 'L'), ((1224, 720), 'L'), ((1320, 816), 'L'), ((1816, 1661), 'L'), ((1850, 1785), 'L'), ((1754, 1221), 'L'), ((1974, 2175), 'L'), ((926, 628), 'RGB'), ((1248, 1056), 'L'), ((1792, 1216), 'L'), ((1504, 1091), 'L'), ((1792, 1592), 'L'), ((1344, 1152), 'L'), ((1880, 1552), 'L'), ((1016, 560), 'L'), ((1448, 1032), 'L'), ((1532, 1066), 'L'), ((2040, 2059), 'L'), ((1032, 856), 'L'), ((1672, 1064), 'L'), ((1272, 816), 'L'), ((1336, 728), 'L'), ((1314, 940), 'L'), ((1240, 920), 'L'), ((1410, 1106), 'L'), ((1686, 1334), 'L'), ((1741, 1706), 'L'), ((992, 528), 'L'), ((2890, 2534), 'L'), ((1620, 1151), 'L'), ((1558, 1179), 'L'), ((1504, 1395), 'L'), ((1552, 1224), 'L'), ((1400, 1032), 'L'), ((816, 584), 'L'), ((920, 680), 'L'), ((1284, 1086), 'L'), ((1224, 688), 'L'), ((1368, 1120), 'L'), ((1554, 1072), 'L'), ((824, 584), 'L'), ((888, 672), 'L'), ((2144, 1916), 'L'), ((1644, 1487), 'L'), ((2056, 2104), 'L'), ((1240, 848), 'L'), ((1970, 1554), 'L'), ((1488, 1209), 'L'), ((1294, 959), 'L'), ((1104, 536), 'L'), ((1440, 912), 'L'), ((1110, 755), 'L'), ((1289, 1253), 'L'), ((1088, 912), 'L'), ((384, 127), 'RGB'), ((1021, 701), 'RGB'), ((1690, 1368), 'L'), ((752, 576), 'L'), ((1712, 1430), 'L'), ((1016, 512), 'L'), ((1696, 1736), 'L'), ((1408, 1040), 'L'), ((1422, 1402), 'L'), ((1538, 1299), 'L'), ((1230, 993), 'L'), ((824, 688), 'L'), ((2178, 1970), 'L'), ((1596, 1330), 'L'), ((984, 680), 'L'), ((2132, 2017), 'L'), ((1384, 1008), 'L'), ((1206, 875), 'L'), ((1216, 800), 'L'), ((1552, 1176), 'L'), ((880, 464), 'L'), ((1400, 1070), 'L'), ((1354, 759), 'L'), ((1974, 1306), 'L'), ((1692, 1360), 'L'), ((744, 416), 'L'), ((1040, 724), 'L'), ((1480, 840), 'L'), ((1096, 672), 'L'), ((1364, 1051), 'L'), ((1928, 1349), 'L'), ((1240, 600), 'L'), ((1510, 1002), 'L'), ((992, 784), 'L'), ((1708, 1415), 'L'), ((1812, 1693), 'L'), ((1392, 832), 'L'), ((1496, 1337), 'L'), ((1408, 992), 'L'), ((824, 640), 'L'), ((888, 552), 'L'), ((870, 591), 'RGB'), ((1480, 1144), 'L'), ((1384, 960), 'L'), ((1144, 808), 'L'), ((1662, 1214), 'L'), ((1496, 1314), 'L'), ((1268, 885), 'L'), ((1632, 1291), 'L'), ((1312, 936), 'L'), ((1304, 1028), 'L'), ((960, 616), 'L'), ((864, 520), 'L'), ((976, 600), 'L'), ((1504, 880), 'L'), ((1318, 1067), 'L'), ((1328, 856), 'L'), ((1122, 639), 'L'), ((1148, 720), 'L'), ((1088, 840), 'L'), ((978, 626), 'RGB'), ((1412, 1029), 'L'), ((1570, 1318), 'L'), ((1974, 1720), 'L'), ((1816, 1184), 'L'), ((1466, 1140), 'L'), ((928, 688), 'L'), ((759, 618), 'RGB'), ((952, 568), 'L'), ((1184, 880), 'L'), ((1808, 1383), 'L'), ((1312, 864), 'L'), ((1512, 888), 'L'), ((1744, 1422), 'L'), ((1216, 680), 'L'), ((1820, 1670), 'L'), ((1664, 1496), 'L'), ((1328, 784), 'L'), ((1024, 576), 'L'), ((1184, 1048), 'L'), ((1232, 976), 'L'), ((1700, 1178), 'L'), ((1328, 1160), 'L'), ((1264, 1248), 'L'), ((1932, 1712), 'L'), ((514, 275), 'RGB'), ((1858, 1692), 'L'), ((445, 232), 'RGB'), ((1344, 1120), 'L'), ((1776, 1591), 'L'), ((1496, 976), 'L'), ((1380, 801), 'L'), ((1682, 1341), 'L'), ((1056, 752), 'L'), ((1744, 1532), 'L'), ((1658, 1294), 'L'), ((1616, 1121), 'L'), ((1512, 1325), 'L'), ((1422, 1191), 'L'), ((1808, 1352), 'L'), ((1712, 1256), 'L'), ((1472, 960), 'L'), ((1480, 1228), 'L'), ((1088, 792), 'L'), ((2022, 1299), 'L'), ((1392, 1120), 'L'), ((1364, 1090), 'L'), ((1596, 1248), 'L'), ((1056, 784), 'L'), ((952, 520), 'L'), ((1778, 1318), 'L'), ((1408, 1296), 'L'), ((1530, 1028), 'L'), ((1504, 1244), 'L'), ((1724, 1248), 'L'), ((1682, 1418), 'L'), ((1744, 1337), 'L'), ((920, 648), 'L'), ((1546, 1425), 'L'), ((1512, 1302), 'L'), ((1318, 1082), 'L'), ((1624, 1280), 'L'), ((1608, 1024), 'L'), ((1512, 1216), 'L'), ((2102, 1974), 'L'), ((1450, 1149), 'L'), ((1032, 752), 'L'), ((1368, 1002), 'L'), ((1384, 1021), 'L'), ((1048, 685), 'L'), ((1248, 616), 'L'), ((1392, 1048), 'L'), ((1680, 1032), 'L'), ((1296, 864), 'L'), ((896, 616), 'L'), ((1434, 1074), 'L'), ((1488, 1144), 'L'), ((1084, 618), 'RGB'), ((1268, 924), 'L'), ((1264, 856), 'L'), ((1098, 863), 'L'), ((1496, 1304), 'L'), ((1862, 1429), 'L'), ((920, 576), 'L'), ((1384, 852), 'L'), ((1624, 1208), 'L'), ((1032, 680), 'L'), ((1384, 912), 'L'), ((1120, 640), 'L'), ((1376, 832), 'L'), ((1396, 1099), 'L'), ((1048, 576), 'L'), ((923, 586), 'RGB'), ((1450, 1210), 'L'), ((1804, 1612), 'L'), ((1664, 1176), 'L'), ((888, 568), 'L'), ((1928, 964), 'L'), ((1118, 708), 'L'), ((1688, 1136), 'L'), ((1352, 800), 'L'), ((1208, 688), 'L'), ((1592, 1328), 'L'), ((1416, 1088), 'L'), ((1064, 712), 'L'), ((920, 600), 'L'), ((1032, 704), 'L'), ((1410, 970), 'L'), ((1844, 1256), 'L'), ((2518, 2364), 'L'), ((1136, 864), 'L'), ((1088, 848), 'L'), ((1152, 760), 'L'), ((1056, 664), 'L'), ((896, 568), 'L'), ((942, 537), 'RGB'), ((1248, 944), 'L'), ((1840, 1642), 'L'), ((886, 570), 'RGB'), ((992, 752), 'L'), ((2156, 1936), 'L'), ((1518, 1097), 'L'), ((2260, 2237), 'L'), ((754, 411), 'RGB'), ((1670, 1144), 'L'), ((1016, 712), 'L'), ((1746, 1392), 'L'), ((1416, 816), 'L'), ((1683, 1361), 'L'), ((930, 655), 'RGB'), ((1576, 1144), 'L'), ((1968, 1484), 'L'), ((1384, 950), 'L'), ((1128, 728), 'L'), ((1048, 528), 'L'), ((984, 616), 'L'), ((895, 517), 'RGB'), ((992, 800), 'L'), ((1328, 792), 'L'), ((1426, 1101), 'L'), ((1032, 632), 'L'), ((1384, 809), 'L')}\n"
     ]
    }
   ],
   "execution_count": 7
  },
  {
   "metadata": {},
   "cell_type": "markdown",
   "source": "Verificação dos formatos das imagens, listando combinações únicas de tamanho e modo de cor (como 'L' para escala de cinza e 'RGB' para colorido). Isso garante que os dados tenham formato consistente antes do treino."
  },
  {
   "cell_type": "markdown",
   "metadata": {
    "id": "5eTEwhpzFIK_"
   },
   "source": [
    "### 2.2 Função de limpeza (conversão, remoção, hashing)"
   ]
  },
  {
   "cell_type": "code",
   "source": [
    "def imagem_pequena(img, min_size=(100, 100)):\n",
    "    return img.size[0] < min_size[0] or img.size[1] < min_size[1]"
   ],
   "metadata": {
    "id": "Jml2VStmbwhX",
    "ExecuteTime": {
     "end_time": "2025-06-07T19:14:51.672558Z",
     "start_time": "2025-06-07T19:14:51.659815Z"
    }
   },
   "outputs": [],
   "execution_count": 8
  },
  {
   "metadata": {},
   "cell_type": "markdown",
   "source": "Verifica se a imagem é pequena, ou seja, se tem largura ou altura menor que o mínimo definido (100x100). Serve para remover imagens com baixa resolução."
  },
  {
   "cell_type": "code",
   "source": [
    "def imagem_duplicada(img, hash_set):\n",
    "    hash_val = hashlib.md5(img.tobytes()).hexdigest()\n",
    "    if hash_val in hash_set:\n",
    "        return True\n",
    "    hash_set.add(hash_val)\n",
    "    return False"
   ],
   "metadata": {
    "id": "nPaNoC0cbx7p",
    "ExecuteTime": {
     "end_time": "2025-06-07T19:15:04.460779Z",
     "start_time": "2025-06-07T19:15:04.454310Z"
    }
   },
   "outputs": [],
   "execution_count": 9
  },
  {
   "metadata": {},
   "cell_type": "markdown",
   "source": "Detecta imagens duplicadas usando um hash gerado a partir dos bytes da imagem. Se o hash já estiver no conjunto, a imagem é considerada repetida e pode ser descartada."
  },
  {
   "cell_type": "code",
   "source": [
    "USE_GRAYSCALE = True\n",
    "\n",
    "def converter_para_cinza(img):\n",
    "    if USE_GRAYSCALE:\n",
    "        return img.convert('L')\n",
    "    else:\n",
    "        return img.convert('RGB')"
   ],
   "metadata": {
    "id": "8y3iCS5cb1It",
    "ExecuteTime": {
     "end_time": "2025-06-07T19:15:06.408843Z",
     "start_time": "2025-06-07T19:15:06.398821Z"
    }
   },
   "outputs": [],
   "execution_count": 10
  },
  {
   "metadata": {},
   "cell_type": "markdown",
   "source": "Converte a imagem para escala de cinza ('L') se a variável USE_GRAYSCALE estiver ativada. Caso contrário, mantém em modo RGB (colorido)."
  },
  {
   "cell_type": "code",
   "source": [
    "def limpar_e_padronizar_imagens(base_dir):\n",
    "    hash_set = set()\n",
    "    total_removidas = 0\n",
    "    total_convertidas = 0\n",
    "\n",
    "    print(\"🧼 Iniciando limpeza e conversão das imagens...\")\n",
    "\n",
    "    for subset in ['train', 'val', 'test']:\n",
    "        for classe in ['NORMAL', 'PNEUMONIA']:\n",
    "            path = os.path.join(base_dir, subset, classe)\n",
    "            if not os.path.exists(path):\n",
    "                print(f\"⚠️ Pasta não encontrada: {path}\")\n",
    "                continue\n",
    "\n",
    "            files = os.listdir(path)\n",
    "            print(f\"\\n📂 Processando {subset}/{classe} – {len(files)} arquivos\")\n",
    "\n",
    "            for file in files:\n",
    "                file_path = os.path.join(path, file)\n",
    "\n",
    "                try:\n",
    "                    img = Image.open(file_path)\n",
    "\n",
    "                    if imagem_pequena(img):\n",
    "                        os.remove(file_path)\n",
    "                        total_removidas += 1\n",
    "                        print(f\"🗑️ Removida (pequena): {file}\")\n",
    "                        continue\n",
    "\n",
    "                    img = converter_para_cinza(img)\n",
    "\n",
    "                    if imagem_duplicada(img, hash_set):\n",
    "                        os.remove(file_path)\n",
    "                        total_removidas += 1\n",
    "                        print(f\"🗑️ Removida (duplicada): {file}\")\n",
    "                        continue\n",
    "\n",
    "                    img.save(file_path)\n",
    "                    total_convertidas += 1\n",
    "                    print(f\"✅ Convertida para escala de cinza: {file}\")\n",
    "\n",
    "                except Exception as e:\n",
    "                    os.remove(file_path)\n",
    "                    total_removidas += 1\n",
    "                    print(f\"❌ Erro ao processar {file}: {e}\")\n",
    "\n",
    "    print(\"\\n📊 Etapa de limpeza finalizada!\")\n",
    "    print(f\"🗑️ Total de imagens removidas: {total_removidas}\")\n",
    "    print(f\"✅ Total convertidas e salvas: {total_convertidas}\")\n",
    "\n",
    "    # 🔧 Aplica o redimensionamento final após limpeza\n",
    "    print(\"\\n📐 Iniciando redimensionamento para tamanho padrão...\")\n"
   ],
   "metadata": {
    "id": "u8lTEfp7bCR8",
    "ExecuteTime": {
     "end_time": "2025-06-07T19:15:08.435361Z",
     "start_time": "2025-06-07T19:15:08.424242Z"
    }
   },
   "outputs": [],
   "execution_count": 11
  },
  {
   "metadata": {},
   "cell_type": "markdown",
   "source": " Função de limpeza e padronização das imagens. Remove imagens pequenas ou duplicadas, converte para escala de cinza e salva novamente no mesmo local. Ao final, imprime um resumo da quantidade de imagens removidas e convertidas."
  },
  {
   "cell_type": "code",
   "source": [
    "def redimensionar_imagens(base_dir, target_size=(128, 128)):\n",
    "    total_redimensionadas = 0\n",
    "    erros = 0\n",
    "\n",
    "    for subset in ['train', 'val', 'test']:\n",
    "        for classe in ['NORMAL', 'PNEUMONIA']:\n",
    "            path = os.path.join(base_dir, subset, classe)\n",
    "            if not os.path.exists(path):\n",
    "                continue\n",
    "\n",
    "            for file in os.listdir(path):\n",
    "                file_path = os.path.join(path, file)\n",
    "                try:\n",
    "                    img = Image.open(file_path)\n",
    "                    img = img.resize(target_size)\n",
    "                    img.save(file_path)\n",
    "                    total_redimensionadas += 1\n",
    "                except Exception as e:\n",
    "                    erros += 1\n",
    "                    print(f\"❌ Erro ao redimensionar {file}: {e}\")\n",
    "\n",
    "    print(f\"✅ Total redimensionadas: {total_redimensionadas}\")\n",
    "    print(f\"❌ Erros: {erros}\")\n"
   ],
   "metadata": {
    "id": "1j1bZKffg2m4",
    "ExecuteTime": {
     "end_time": "2025-06-07T19:15:22.494029Z",
     "start_time": "2025-06-07T19:15:22.484920Z"
    }
   },
   "outputs": [],
   "execution_count": 14
  },
  {
   "metadata": {},
   "cell_type": "markdown",
   "source": "Redimensiona todas as imagens do dataset para o tamanho padrão de 128×128 pixels, garantindo uniformidade na entrada da rede neural. Também contabiliza o total de imagens processadas e eventuais erros."
  },
  {
   "cell_type": "code",
   "source": [
    "redimensionar_imagens(base_dir, target_size=(128, 128))"
   ],
   "metadata": {
    "id": "qHKpUVq_b_4L",
    "colab": {
     "base_uri": "https://localhost:8080/"
    },
    "outputId": "a9bddce7-4afc-4422-faf7-a24792a72568",
    "ExecuteTime": {
     "end_time": "2025-06-07T19:16:10.627858Z",
     "start_time": "2025-06-07T19:15:27.474185Z"
    }
   },
   "outputs": [
    {
     "name": "stdout",
     "output_type": "stream",
     "text": [
      "✅ Total redimensionadas: 5856\n",
      "❌ Erros: 0\n"
     ]
    }
   ],
   "execution_count": 15
  },
  {
   "metadata": {},
   "cell_type": "markdown",
   "source": "Execução da função de redimensionamento: todas as 5.856 imagens foram redimensionadas com sucesso para 128×128 pixels, sem erros."
  },
  {
   "cell_type": "markdown",
   "metadata": {
    "id": "lwz7kqtJFMHz"
   },
   "source": "## 📊 2.1 Duplicando os dados"
  },
  {
   "metadata": {
    "ExecuteTime": {
     "end_time": "2025-06-07T19:16:32.472051Z",
     "start_time": "2025-06-07T19:16:30.163518Z"
    }
   },
   "cell_type": "code",
   "source": [
    "def triplicar_744_validas_com_3_copias(base_dir):\n",
    "    normal_dir = os.path.join(base_dir, 'train', 'NORMAL')\n",
    "\n",
    "    # Remove duplicatas anteriores\n",
    "    for arquivo in os.listdir(normal_dir):\n",
    "        if arquivo.startswith(\"dup_\"):\n",
    "            os.remove(os.path.join(normal_dir, arquivo))\n",
    "    print(\"🧹 Duplicatas antigas removidas.\")\n",
    "\n",
    "    # Filtra as 744 imagens válidas (com \"normal\" no nome)\n",
    "    imagens_validas = [\n",
    "        f for f in os.listdir(normal_dir)\n",
    "        if not f.startswith('dup_') and 'normal' in f.lower() and f.lower().endswith(('jpg', 'jpeg', 'png'))\n",
    "    ]\n",
    "\n",
    "    print(f\"🔍 Encontradas {len(imagens_validas)} imagens 'NORMAL' válidas para triplicar (3 cópias cada).\")\n",
    "\n",
    "    # Cria 3 duplicações por imagem válida\n",
    "    for i, img in enumerate(imagens_validas):\n",
    "        origem = os.path.join(normal_dir, img)\n",
    "        for j in range(3):  # 3 cópias\n",
    "            destino = os.path.join(normal_dir, f\"dup{j}_{i}_{img}\")\n",
    "            shutil.copy(origem, destino)\n",
    "\n",
    "    total = len(os.listdir(normal_dir))\n",
    "    print(f\"✅ Triplicação finalizada! Total de imagens agora: {total}\")\n",
    "triplicar_744_validas_com_3_copias(base_dir)"
   ],
   "outputs": [
    {
     "name": "stdout",
     "output_type": "stream",
     "text": [
      "🧹 Duplicatas antigas removidas.\n",
      "🔍 Encontradas 744 imagens 'NORMAL' válidas para triplicar (3 cópias cada).\n",
      "✅ Triplicação finalizada! Total de imagens agora: 3573\n"
     ]
    }
   ],
   "execution_count": 16
  },
  {
   "metadata": {},
   "cell_type": "markdown",
   "source": "Aumenta o número de imagens da classe 'NORMAL' no treino, criando 3 cópias de cada uma das 744 imagens válidas. Antes disso, remove duplicatas antigas para evitar conflitos. O objetivo é balancear o dataset."
  },
  {
   "metadata": {
    "ExecuteTime": {
     "end_time": "2025-06-07T19:16:39.977651Z",
     "start_time": "2025-06-07T19:16:39.772346Z"
    }
   },
   "cell_type": "code",
   "source": "",
   "outputs": [
    {
     "data": {
      "text/plain": [
       "<Figure size 800x500 with 1 Axes>"
      ],
      "image/png": "[encoded data removed]"
     },
     "metadata": {},
     "output_type": "display_data"
    }
   ],
   "execution_count": 17
  },
  {
   "metadata": {},
   "cell_type": "markdown",
   "source": "Gráfico atualizado mostra que o conjunto de treino agora está mais balanceado entre as classes NORMAL e PNEUMONIA, após a duplicação das imagens. Isso ajuda a reduzir viés no treinamento da rede."
  },
  {
   "metadata": {},
   "cell_type": "markdown",
   "source": "## 📊 3. Análise Exploratória dos Dados"
  },
  {
   "cell_type": "code",
   "metadata": {
    "colab": {
     "base_uri": "https://localhost:8080/"
    },
    "id": "IPD0pp9NWGCA",
    "outputId": "45316c60-c205-4305-ea59-96ead63c2d88",
    "ExecuteTime": {
     "end_time": "2025-06-07T19:16:47.210765Z",
     "start_time": "2025-06-07T19:16:45.937577Z"
    }
   },
   "source": [
    "# ✅ VERIFICAÇÃO FINAL DO FORMATO DAS IMAGENS PADRONIZADAS\n",
    "\n",
    "def checar_formato_final(base_dir):\n",
    "    formatos = set()  # Conjunto para armazenar os formatos únicos encontrados\n",
    "    for subset in ['train', 'val', 'test']:  # Itera sobre os subconjuntos\n",
    "        for classe in ['NORMAL', 'PNEUMONIA']:  # Itera sobre as classes\n",
    "            path = os.path.join(base_dir, subset, classe)  # Caminho da pasta da classe\n",
    "            for file in os.listdir(path):  # Itera sobre os arquivos da pasta\n",
    "                img = Image.open(os.path.join(path, file))  # Abre a imagem\n",
    "                formatos.add((img.size, img.mode))  # Adiciona o tamanho e modo (ex: (128, 128), 'L') ao conjunto\n",
    "    return formatos  # Retorna os formatos únicos encontrados\n",
    "\n",
    "print(checar_formato_final(dst_dir))  # Exibe os formatos finais encontrados após a limpeza\n"
   ],
   "outputs": [
    {
     "name": "stdout",
     "output_type": "stream",
     "text": [
      "{((128, 128), 'L'), ((128, 128), 'RGB')}\n"
     ]
    }
   ],
   "execution_count": 18
  },
  {
   "metadata": {},
   "cell_type": "markdown",
   "source": "Verifica se todas as imagens foram padronizadas corretamente após limpeza e redimensionamento, conferindo se têm tamanho 128×128 e estão em modo 'L' (escala de cinza). Algumas imagens ainda podem estar em 'RGB'."
  },
  {
   "cell_type": "code",
   "metadata": {
    "colab": {
     "base_uri": "https://localhost:8080/"
    },
    "id": "WolrkSSefe-F",
    "outputId": "6b61df12-4814-4d13-c191-aaf62d3d12fe",
    "ExecuteTime": {
     "end_time": "2025-06-07T19:17:40.107452Z",
     "start_time": "2025-06-07T19:17:40.071088Z"
    }
   },
   "source": [
    "def listar_amostras(diretorio):\n",
    "    for subset in ['train', 'val', 'test']:\n",
    "        for classe in ['NORMAL', 'PNEUMONIA']:\n",
    "            pasta = os.path.join(diretorio, subset, classe)\n",
    "            if os.path.exists(pasta):\n",
    "                arquivos = os.listdir(pasta)\n",
    "                print(f\"📂 {subset}/{classe} → {len(arquivos)} arquivos\")\n",
    "                print(\"Exemplos:\", arquivos[:3])\n",
    "            else:\n",
    "                print(f\"❌ Pasta não encontrada: {pasta}\")\n",
    "\n",
    "listar_amostras(dst_dir)\n"
   ],
   "outputs": [
    {
     "name": "stdout",
     "output_type": "stream",
     "text": [
      "📂 train/NORMAL → 3573 arquivos\n",
      "Exemplos: ['dup0_0_NORMAL2-IM-0383-0001.jpeg', 'dup0_100_NORMAL2-IM-0513-0001.jpeg', 'dup0_101_NORMAL2-IM-0515-0001.jpeg']\n",
      "📂 train/PNEUMONIA → 3875 arquivos\n",
      "Exemplos: ['person1000_bacteria_2931.jpeg', 'person1000_virus_1681.jpeg', 'person1001_bacteria_2932.jpeg']\n",
      "📂 val/NORMAL → 8 arquivos\n",
      "Exemplos: ['NORMAL2-IM-1427-0001.jpeg', 'NORMAL2-IM-1430-0001.jpeg', 'NORMAL2-IM-1431-0001.jpeg']\n",
      "📂 val/PNEUMONIA → 8 arquivos\n",
      "Exemplos: ['person1946_bacteria_4874.jpeg', 'person1946_bacteria_4875.jpeg', 'person1947_bacteria_4876.jpeg']\n",
      "📂 test/NORMAL → 234 arquivos\n",
      "Exemplos: ['IM-0001-0001.jpeg', 'IM-0003-0001.jpeg', 'IM-0005-0001.jpeg']\n",
      "📂 test/PNEUMONIA → 390 arquivos\n",
      "Exemplos: ['person100_bacteria_475.jpeg', 'person100_bacteria_477.jpeg', 'person100_bacteria_478.jpeg']\n"
     ]
    }
   ],
   "execution_count": 19
  },
  {
   "metadata": {},
   "cell_type": "markdown",
   "source": "Lista o número total de imagens por pasta (treino, validação e teste), além de exibir exemplos de nomes de arquivos para cada classe. Útil para inspecionar o conteúdo e verificar se os dados estão organizados corretamente."
  },
  {
   "cell_type": "code",
   "metadata": {
    "colab": {
     "base_uri": "https://localhost:8080/",
     "height": 401
    },
    "id": "2FxzXoAHDmmQ",
    "outputId": "9c043a91-e4aa-4544-90f5-089baea2a3c5",
    "ExecuteTime": {
     "end_time": "2025-06-07T19:17:43.528395Z",
     "start_time": "2025-06-07T19:17:43.343117Z"
    }
   },
   "source": [
    "# Caminhos das amostras\n",
    "caminho_normal = os.path.join(dst_dir, 'train', 'NORMAL')\n",
    "caminho_pneumonia = os.path.join(dst_dir, 'train', 'PNEUMONIA')\n",
    "\n",
    "# Pega o primeiro arquivo de cada classe\n",
    "arquivo_normal = os.listdir(caminho_normal)[0]\n",
    "arquivo_pneumonia = os.listdir(caminho_pneumonia)[0]\n",
    "\n",
    "# Abre as imagens\n",
    "img_normal = Image.open(os.path.join(caminho_normal, arquivo_normal))\n",
    "img_pneumonia = Image.open(os.path.join(caminho_pneumonia, arquivo_pneumonia))\n",
    "\n",
    "# Plota lado a lado\n",
    "fig, axes = plt.subplots(1, 2, figsize=(10, 5))\n",
    "\n",
    "axes[0].imshow(img_normal, cmap='gray')\n",
    "axes[0].set_title(\"Pulmão Normal\")\n",
    "axes[0].axis('off')\n",
    "\n",
    "axes[1].imshow(img_pneumonia, cmap='gray')\n",
    "axes[1].set_title(\"Pulmão com Pneumonia\")\n",
    "axes[1].axis('off')\n",
    "\n",
    "plt.tight_layout()\n",
    "plt.show()\n"
   ],
   "outputs": [
    {
     "data": {
      "text/plain": [
       "<Figure size 1000x500 with 2 Axes>"
      ],
      "image/png": "[encoded data removed]"
     },
     "metadata": {},
     "output_type": "display_data"
    }
   ],
   "execution_count": 20
  },
  {
   "metadata": {},
   "cell_type": "markdown",
   "source": [
    "Comparação visual entre um pulmão saudável e um com pneumonia.\n",
    "A imagem do lado esquerdo mostra um pulmão normal, com áreas escuras representando espaços cheios de ar.\n",
    "Já a imagem à direita, com pneumonia, apresenta regiões mais brancas, indicando acúmulo de fluido ou inflamação, que é uma das principais características da doença em exames de raio-X."
   ]
  },
  {
   "cell_type": "code",
   "metadata": {
    "colab": {
     "base_uri": "https://localhost:8080/"
    },
    "id": "_mc58c1xB8cU",
    "outputId": "ae0a5112-ab68-4e9e-8481-3821d0f229f2",
    "ExecuteTime": {
     "end_time": "2025-06-07T19:18:01.770040Z",
     "start_time": "2025-06-07T19:18:01.740009Z"
    }
   },
   "source": [
    "for subset in ['train']:\n",
    "    for classe in ['NORMAL', 'PNEUMONIA']:\n",
    "        pasta = os.path.join(dst_dir, subset, classe)\n",
    "        print(f\"📂 Classe {classe} – Total de arquivos:\", len(os.listdir(pasta)))"
   ],
   "outputs": [
    {
     "name": "stdout",
     "output_type": "stream",
     "text": [
      "📂 Classe NORMAL – Total de arquivos: 3573\n",
      "📂 Classe PNEUMONIA – Total de arquivos: 3875\n"
     ]
    }
   ],
   "execution_count": 21
  },
  {
   "metadata": {},
   "cell_type": "markdown",
   "source": "Confirma o total de imagens por classe no conjunto de treino, após todas as etapas de duplicação e limpeza. Os valores mostram que o dataset está agora mais balanceado entre NORMAL e PNEUMONIA."
  },
  {
   "cell_type": "markdown",
   "metadata": {
    "id": "SImzGrqcFShq"
   },
   "source": [
    "## 🧪 4. Pré-processamento para CNN"
   ]
  },
  {
   "metadata": {
    "ExecuteTime": {
     "end_time": "2025-06-07T19:18:05.275071Z",
     "start_time": "2025-06-07T19:18:05.263752Z"
    }
   },
   "cell_type": "code",
   "source": [
    "def carregar_imagens_e_rotulos(diretorio_base, subset):\n",
    "    imagens = []\n",
    "    rotulos = []\n",
    "    classes = ['NORMAL', 'PNEUMONIA']\n",
    "\n",
    "    for classe_idx, classe_nome in enumerate(classes):\n",
    "        pasta = os.path.join(diretorio_base, subset, classe_nome)\n",
    "        for nome_arquivo in os.listdir(pasta):\n",
    "            caminho = os.path.join(pasta, nome_arquivo)\n",
    "            try:\n",
    "                img = Image.open(caminho).convert('L')  # grayscale\n",
    "                img = img.resize((128, 128))\n",
    "                img_array = img_to_array(img)\n",
    "                img_array = np.expand_dims(img_array, axis=-1)\n",
    "\n",
    "                # 👇 Aqui está o print para debug\n",
    "                print(f\"{nome_arquivo} → {img_array.shape}\")\n",
    "\n",
    "                imagens.append(img_array)\n",
    "                rotulos.append(classe_idx)\n",
    "            except Exception as e:\n",
    "                print(f\"⚠️ Erro em {nome_arquivo}: {e}\")\n",
    "                continue\n",
    "    return np.array(imagens), np.array(rotulos)\n"
   ],
   "outputs": [],
   "execution_count": 22
  },
  {
   "metadata": {},
   "cell_type": "markdown",
   "source": [
    "Carrega e pré-processa as imagens de um conjunto (train/val/test).\n",
    "Cada imagem é convertida para escala de cinza, redimensionada para 128×128, transformada em array e adicionada a uma lista, junto com seu respectivo rótulo (0 = NORMAL, 1 = PNEUMONIA)."
   ]
  },
  {
   "cell_type": "code",
   "metadata": {
    "id": "vN7UORPVix6L",
    "ExecuteTime": {
     "end_time": "2025-06-07T19:19:27.831585Z",
     "start_time": "2025-06-07T19:19:24.617938Z"
    }
   },
   "source": [
    "def carregar_imagens_e_rotulos(diretorio_base, subset):\n",
    "    imagens = []\n",
    "    rotulos = []\n",
    "    classes = ['NORMAL', 'PNEUMONIA']\n",
    "\n",
    "    for classe_idx, classe_nome in enumerate(classes):\n",
    "        pasta = os.path.join(diretorio_base, subset, classe_nome)\n",
    "        for nome_arquivo in os.listdir(pasta):\n",
    "            caminho = os.path.join(pasta, nome_arquivo)\n",
    "            try:\n",
    "                img = Image.open(caminho).convert('L')\n",
    "                img = img.resize((128, 128))\n",
    "                img_array = img_to_array(img)  # já resulta em (128, 128, 1)\n",
    "                imagens.append(img_array)\n",
    "                rotulos.append(classe_idx)\n",
    "            except Exception as e:\n",
    "                print(f\"⚠️ Erro ao processar {nome_arquivo}: {e}\")\n",
    "                continue\n",
    "\n",
    "    return np.array(imagens), np.array(rotulos)\n",
    "\n",
    "X_treinamento, y_treinamento = carregar_imagens_e_rotulos(dst_dir, 'train')\n",
    "X_teste, y_teste = carregar_imagens_e_rotulos(dst_dir, 'test')\n",
    "\n",
    "print(\"✅ Dados carregados:\")\n",
    "print(\"X_treinamento:\", X_treinamento.shape)\n",
    "print(\"X_teste:\", X_teste.shape)\n",
    "\n",
    "X_teste_bin = X_teste\n",
    "y_teste_bin = y_teste\n",
    "\n"
   ],
   "outputs": [
    {
     "name": "stdout",
     "output_type": "stream",
     "text": [
      "✅ Dados carregados:\n",
      "X_treinamento: (7448, 128, 128, 1)\n",
      "X_teste: (624, 128, 128, 1)\n"
     ]
    }
   ],
   "execution_count": 23
  },
  {
   "metadata": {},
   "cell_type": "markdown",
   "source": [
    "Carrega as imagens e rótulos dos conjuntos de treino e teste, convertendo para escala de cinza e redimensionando para 128×128. O resultado são arrays NumPy prontos para alimentar a CNN.\n",
    "\n",
    "O conjunto de treino possui 7.448 imagens, e o de teste, 624 imagens, todos no formato (128, 128, 1)."
   ]
  },
  {
   "cell_type": "code",
   "metadata": {
    "colab": {
     "base_uri": "https://localhost:8080/"
    },
    "id": "yzJV--bdF0ad",
    "outputId": "0263cf11-de06-4c28-d758-b89621907591",
    "ExecuteTime": {
     "end_time": "2025-06-07T19:19:46.484474Z",
     "start_time": "2025-06-07T19:19:45.964759Z"
    }
   },
   "source": [
    "# 🧪 PRÉ-PROCESSAMENTO DOS DADOS DE ENTRADA\n",
    "\n",
    "# Mostra as dimensões dos conjuntos de treino e teste antes da transformação\n",
    "print(f\"🔍 Antes da normalização – treino: {X_treinamento.shape}, teste: {X_teste.shape}\")\n",
    "\n",
    "# 🔄 Converte os valores dos pixels para float e normaliza para o intervalo [0, 1]\n",
    "X_treinamento = X_treinamento.astype('float32') / 255\n",
    "X_teste = X_teste.astype('float32') / 255\n",
    "\n",
    "# Mostra as novas dimensões dos dados após a normalização\n",
    "print(f\"✅ Depois da normalização – treino: {X_treinamento.shape}, teste: {X_teste.shape}\\n\")"
   ],
   "outputs": [
    {
     "name": "stdout",
     "output_type": "stream",
     "text": [
      "🔍 Antes da normalização – treino: (7448, 128, 128, 1), teste: (624, 128, 128, 1)\n",
      "✅ Depois da normalização – treino: (7448, 128, 128, 1), teste: (624, 128, 128, 1)\n",
      "\n"
     ]
    }
   ],
   "execution_count": 24
  },
  {
   "metadata": {},
   "cell_type": "markdown",
   "source": [
    " Normaliza os dados de entrada, convertendo os valores dos pixels de inteiros (0 a 255) para números de ponto flutuante entre 0 e 1. Isso facilita o treinamento da rede e acelera a convergência.\n",
    "\n",
    "As dimensões continuam as mesmas, mas agora os dados estão no formato ideal para redes neurais."
   ]
  },
  {
   "cell_type": "markdown",
   "metadata": {
    "id": "Qo_gVaIfGVaY"
   },
   "source": [
    "## 🧠 5. Construção da CNN Customizada"
   ]
  },
  {
   "cell_type": "code",
   "metadata": {
    "colab": {
     "base_uri": "https://localhost:8080/",
     "height": 401
    },
    "id": "8Rtlz20yHUrZ",
    "outputId": "f16b4afb-171e-447b-81bc-8a727917e225",
    "ExecuteTime": {
     "end_time": "2025-06-07T19:19:58.743011Z",
     "start_time": "2025-06-07T19:19:58.414520Z"
    }
   },
   "source": [
    "# 🧠 CONFIGURAÇÃO E DEFINIÇÃO DA ARQUITETURA DA CNN\n",
    "\n",
    "# --- Configuração de Hiperparâmetros da Arquitetura ---\n",
    "NUM_FILTERS  = 32          # Quantidade de filtros na camada convolucional\n",
    "KERNEL_SIZE  = (3, 3)      # Tamanho do kernel (janela) da convolução\n",
    "POOL_SIZE    = (2, 2)      # Tamanho do kernel de pooling (redução espacial)\n",
    "DENSE_UNITS  = 128         # Número de neurônios na camada densa intermediária\n",
    "DROPOUT_RATE = 0.2         # Taxa de dropout (20%) para evitar overfitting\n",
    "\n",
    "# --- Importação dos componentes da rede ---\n",
    "from tensorflow.keras.models import Sequential\n",
    "from tensorflow.keras.layers import InputLayer, Conv2D, BatchNormalization, MaxPooling2D, Flatten, Dense, Dropout\n",
    "from tensorflow.keras.callbacks import EarlyStopping\n",
    "\n",
    "# Lista de classes\n",
    "nomes_classes = ['NORMAL', 'PNEUMONIA']\n",
    "\n",
    "# --- Definição da Arquitetura da CNN ---\n",
    "rede = Sequential([  # Rede sequencial (feedforward)\n",
    "    InputLayer(shape=(128, 128, 1)),                 # Camada de entrada para imagens 28x28 com 1 canal\n",
    "    Conv2D(NUM_FILTERS, KERNEL_SIZE, activation='relu'), # Camada convolucional com ReLU\n",
    "    BatchNormalization(),                                # Normalização dos dados para melhorar estabilidade\n",
    "    MaxPooling2D(pool_size=POOL_SIZE),                   # Pooling para redução de dimensionalidade\n",
    "    #Flatten(),                                           # Achata o mapa de ativação em um vetor 1D\n",
    "    #Dense(DENSE_UNITS, activation='relu'),               # Camada totalmente conectada com ReLU\n",
    "    GlobalAveragePooling2D(),\n",
    "    Dropout(DROPOUT_RATE),                               # Dropout para prevenir overfitting\n",
    "    Dense(len(nomes_classes), activation='softmax')      # Camada de saída com softmax para classificação multiclasse\n",
    "])\n",
    "\n",
    "# 📋 Exibe o resumo da arquitetura da rede (camadas, parâmetros, forma dos dados)\n",
    "rede.summary()\n"
   ],
   "outputs": [
    {
     "data": {
      "text/plain": [
       "\u001B[1mModel: \"sequential\"\u001B[0m\n"
      ],
      "text/html": [
       "<pre style=\"white-space:pre;overflow-x:auto;line-height:normal;font-family:Menlo,'DejaVu Sans Mono',consolas,'Courier New',monospace\"><span style=\"font-weight: bold\">Model: \"sequential\"</span>\n",
       "</pre>\n"
      ]
     },
     "metadata": {},
     "output_type": "display_data"
    },
    {
     "data": {
      "text/plain": [
       "┏━━━━━━━━━━━━━━━━━━━━━━━━━━━━━━━━━┳━━━━━━━━━━━━━━━━━━━━━━━━┳━━━━━━━━━━━━━━━┓\n",
       "┃\u001B[1m \u001B[0m\u001B[1mLayer (type)                   \u001B[0m\u001B[1m \u001B[0m┃\u001B[1m \u001B[0m\u001B[1mOutput Shape          \u001B[0m\u001B[1m \u001B[0m┃\u001B[1m \u001B[0m\u001B[1m      Param #\u001B[0m\u001B[1m \u001B[0m┃\n",
       "┡━━━━━━━━━━━━━━━━━━━━━━━━━━━━━━━━━╇━━━━━━━━━━━━━━━━━━━━━━━━╇━━━━━━━━━━━━━━━┩\n",
       "│ conv2d (\u001B[38;5;33mConv2D\u001B[0m)                 │ (\u001B[38;5;45mNone\u001B[0m, \u001B[38;5;34m126\u001B[0m, \u001B[38;5;34m126\u001B[0m, \u001B[38;5;34m32\u001B[0m)   │           \u001B[38;5;34m320\u001B[0m │\n",
       "├─────────────────────────────────┼────────────────────────┼───────────────┤\n",
       "│ batch_normalization             │ (\u001B[38;5;45mNone\u001B[0m, \u001B[38;5;34m126\u001B[0m, \u001B[38;5;34m126\u001B[0m, \u001B[38;5;34m32\u001B[0m)   │           \u001B[38;5;34m128\u001B[0m │\n",
       "│ (\u001B[38;5;33mBatchNormalization\u001B[0m)            │                        │               │\n",
       "├─────────────────────────────────┼────────────────────────┼───────────────┤\n",
       "│ max_pooling2d (\u001B[38;5;33mMaxPooling2D\u001B[0m)    │ (\u001B[38;5;45mNone\u001B[0m, \u001B[38;5;34m63\u001B[0m, \u001B[38;5;34m63\u001B[0m, \u001B[38;5;34m32\u001B[0m)     │             \u001B[38;5;34m0\u001B[0m │\n",
       "├─────────────────────────────────┼────────────────────────┼───────────────┤\n",
       "│ global_average_pooling2d        │ (\u001B[38;5;45mNone\u001B[0m, \u001B[38;5;34m32\u001B[0m)             │             \u001B[38;5;34m0\u001B[0m │\n",
       "│ (\u001B[38;5;33mGlobalAveragePooling2D\u001B[0m)        │                        │               │\n",
       "├─────────────────────────────────┼────────────────────────┼───────────────┤\n",
       "│ dropout (\u001B[38;5;33mDropout\u001B[0m)               │ (\u001B[38;5;45mNone\u001B[0m, \u001B[38;5;34m32\u001B[0m)             │             \u001B[38;5;34m0\u001B[0m │\n",
       "├─────────────────────────────────┼────────────────────────┼───────────────┤\n",
       "│ dense (\u001B[38;5;33mDense\u001B[0m)                   │ (\u001B[38;5;45mNone\u001B[0m, \u001B[38;5;34m2\u001B[0m)              │            \u001B[38;5;34m66\u001B[0m │\n",
       "└─────────────────────────────────┴────────────────────────┴───────────────┘\n"
      ],
      "text/html": [
       "<pre style=\"white-space:pre;overflow-x:auto;line-height:normal;font-family:Menlo,'DejaVu Sans Mono',consolas,'Courier New',monospace\">┏━━━━━━━━━━━━━━━━━━━━━━━━━━━━━━━━━┳━━━━━━━━━━━━━━━━━━━━━━━━┳━━━━━━━━━━━━━━━┓\n",
       "┃<span style=\"font-weight: bold\"> Layer (type)                    </span>┃<span style=\"font-weight: bold\"> Output Shape           </span>┃<span style=\"font-weight: bold\">       Param # </span>┃\n",
       "┡━━━━━━━━━━━━━━━━━━━━━━━━━━━━━━━━━╇━━━━━━━━━━━━━━━━━━━━━━━━╇━━━━━━━━━━━━━━━┩\n",
       "│ conv2d (<span style=\"color: #0087ff; text-decoration-color: #0087ff\">Conv2D</span>)                 │ (<span style=\"color: #00d7ff; text-decoration-color: #00d7ff\">None</span>, <span style=\"color: #00af00; text-decoration-color: #00af00\">126</span>, <span style=\"color: #00af00; text-decoration-color: #00af00\">126</span>, <span style=\"color: #00af00; text-decoration-color: #00af00\">32</span>)   │           <span style=\"color: #00af00; text-decoration-color: #00af00\">320</span> │\n",
       "├─────────────────────────────────┼────────────────────────┼───────────────┤\n",
       "│ batch_normalization             │ (<span style=\"color: #00d7ff; text-decoration-color: #00d7ff\">None</span>, <span style=\"color: #00af00; text-decoration-color: #00af00\">126</span>, <span style=\"color: #00af00; text-decoration-color: #00af00\">126</span>, <span style=\"color: #00af00; text-decoration-color: #00af00\">32</span>)   │           <span style=\"color: #00af00; text-decoration-color: #00af00\">128</span> │\n",
       "│ (<span style=\"color: #0087ff; text-decoration-color: #0087ff\">BatchNormalization</span>)            │                        │               │\n",
       "├─────────────────────────────────┼────────────────────────┼───────────────┤\n",
       "│ max_pooling2d (<span style=\"color: #0087ff; text-decoration-color: #0087ff\">MaxPooling2D</span>)    │ (<span style=\"color: #00d7ff; text-decoration-color: #00d7ff\">None</span>, <span style=\"color: #00af00; text-decoration-color: #00af00\">63</span>, <span style=\"color: #00af00; text-decoration-color: #00af00\">63</span>, <span style=\"color: #00af00; text-decoration-color: #00af00\">32</span>)     │             <span style=\"color: #00af00; text-decoration-color: #00af00\">0</span> │\n",
       "├─────────────────────────────────┼────────────────────────┼───────────────┤\n",
       "│ global_average_pooling2d        │ (<span style=\"color: #00d7ff; text-decoration-color: #00d7ff\">None</span>, <span style=\"color: #00af00; text-decoration-color: #00af00\">32</span>)             │             <span style=\"color: #00af00; text-decoration-color: #00af00\">0</span> │\n",
       "│ (<span style=\"color: #0087ff; text-decoration-color: #0087ff\">GlobalAveragePooling2D</span>)        │                        │               │\n",
       "├─────────────────────────────────┼────────────────────────┼───────────────┤\n",
       "│ dropout (<span style=\"color: #0087ff; text-decoration-color: #0087ff\">Dropout</span>)               │ (<span style=\"color: #00d7ff; text-decoration-color: #00d7ff\">None</span>, <span style=\"color: #00af00; text-decoration-color: #00af00\">32</span>)             │             <span style=\"color: #00af00; text-decoration-color: #00af00\">0</span> │\n",
       "├─────────────────────────────────┼────────────────────────┼───────────────┤\n",
       "│ dense (<span style=\"color: #0087ff; text-decoration-color: #0087ff\">Dense</span>)                   │ (<span style=\"color: #00d7ff; text-decoration-color: #00d7ff\">None</span>, <span style=\"color: #00af00; text-decoration-color: #00af00\">2</span>)              │            <span style=\"color: #00af00; text-decoration-color: #00af00\">66</span> │\n",
       "└─────────────────────────────────┴────────────────────────┴───────────────┘\n",
       "</pre>\n"
      ]
     },
     "metadata": {},
     "output_type": "display_data"
    },
    {
     "data": {
      "text/plain": [
       "\u001B[1m Total params: \u001B[0m\u001B[38;5;34m514\u001B[0m (2.01 KB)\n"
      ],
      "text/html": [
       "<pre style=\"white-space:pre;overflow-x:auto;line-height:normal;font-family:Menlo,'DejaVu Sans Mono',consolas,'Courier New',monospace\"><span style=\"font-weight: bold\"> Total params: </span><span style=\"color: #00af00; text-decoration-color: #00af00\">514</span> (2.01 KB)\n",
       "</pre>\n"
      ]
     },
     "metadata": {},
     "output_type": "display_data"
    },
    {
     "data": {
      "text/plain": [
       "\u001B[1m Trainable params: \u001B[0m\u001B[38;5;34m450\u001B[0m (1.76 KB)\n"
      ],
      "text/html": [
       "<pre style=\"white-space:pre;overflow-x:auto;line-height:normal;font-family:Menlo,'DejaVu Sans Mono',consolas,'Courier New',monospace\"><span style=\"font-weight: bold\"> Trainable params: </span><span style=\"color: #00af00; text-decoration-color: #00af00\">450</span> (1.76 KB)\n",
       "</pre>\n"
      ]
     },
     "metadata": {},
     "output_type": "display_data"
    },
    {
     "data": {
      "text/plain": [
       "\u001B[1m Non-trainable params: \u001B[0m\u001B[38;5;34m64\u001B[0m (256.00 B)\n"
      ],
      "text/html": [
       "<pre style=\"white-space:pre;overflow-x:auto;line-height:normal;font-family:Menlo,'DejaVu Sans Mono',consolas,'Courier New',monospace\"><span style=\"font-weight: bold\"> Non-trainable params: </span><span style=\"color: #00af00; text-decoration-color: #00af00\">64</span> (256.00 B)\n",
       "</pre>\n"
      ]
     },
     "metadata": {},
     "output_type": "display_data"
    }
   ],
   "execution_count": 25
  },
  {
   "metadata": {},
   "cell_type": "markdown",
   "source": [
    "Definição da arquitetura da CNN customizada:\n",
    "A rede contém uma camada convolucional com 32 filtros, seguida de normalização em lote (batch normalization), pooling, global average pooling e dropout. A saída é uma camada densa com 2 neurônios (NORMAL vs PNEUMONIA) ativados por softmax.\n",
    "\n",
    "O uso de GlobalAveragePooling2D substitui o Flatten, reduzindo drasticamente o número de parâmetros e ajudando a evitar overfitting.\n",
    "\n",
    "Total de parâmetros treináveis: 514, o que torna a rede leve e eficiente para o tamanho do dataset."
   ]
  },
  {
   "cell_type": "code",
   "metadata": {
    "colab": {
     "base_uri": "https://localhost:8080/"
    },
    "id": "KlZqvVDra-C_",
    "outputId": "59d78285-cd3f-49ac-c9c6-716e03d4389b",
    "ExecuteTime": {
     "end_time": "2025-06-07T19:20:04.344057Z",
     "start_time": "2025-06-07T19:20:04.328710Z"
    }
   },
   "source": [
    "# 🧾 VERIFICAÇÃO DAS DIMENSÕES DOS DADOS DE TREINAMENTO\n",
    "\n",
    "print(X_treinamento.shape)  # Exibe a forma do conjunto de imagens de treino (esperado: (n_amostras, 28, 28, 1))\n",
    "print(y_treinamento.shape)  # Exibe a forma do vetor de rótulos (esperado: (n_amostras,))"
   ],
   "outputs": [
    {
     "name": "stdout",
     "output_type": "stream",
     "text": [
      "(7448, 128, 128, 1)\n",
      "(7448,)\n"
     ]
    }
   ],
   "execution_count": 26
  },
  {
   "metadata": {},
   "cell_type": "markdown",
   "source": [
    "Verifica as dimensões dos dados de treino.\n",
    "As imagens estão no formato esperado (7448, 128, 128, 1) — ou seja, 7.448 imagens de 128×128 pixels com 1 canal (escala de cinza).\n",
    "Os rótulos estão como vetor simples (7448,), prontos para classificação categórica."
   ]
  },
  {
   "cell_type": "code",
   "metadata": {
    "colab": {
     "base_uri": "https://localhost:8080/"
    },
    "id": "8i4DX1QRbDDk",
    "outputId": "c93f865f-bc0f-4276-833e-675a26489728",
    "ExecuteTime": {
     "end_time": "2025-06-07T19:20:06.527360Z",
     "start_time": "2025-06-07T19:20:06.327330Z"
    }
   },
   "source": [
    "# ✅ VERIFICAÇÃO DE VALORES NULOS (NaN) NOS DADOS\n",
    "\n",
    "\n",
    "\n",
    "print(np.isnan(X_treinamento).sum())  # Verifica se há valores NaN nas imagens de treino (deve retornar 0)\n",
    "print(np.isnan(y_treinamento).sum())  # Verifica se há valores NaN nos rótulos de treino (deve retornar 0)\n"
   ],
   "outputs": [
    {
     "name": "stdout",
     "output_type": "stream",
     "text": [
      "0\n",
      "0\n"
     ]
    }
   ],
   "execution_count": 27
  },
  {
   "metadata": {},
   "cell_type": "markdown",
   "source": [
    "Verifica se há valores NaN (não numéricos) nos dados de treino.\n",
    "A saída 0 confirma que não há valores faltantes nem nas imagens nem nos rótulos, garantindo integridade dos dados para o treinamento."
   ]
  },
  {
   "cell_type": "code",
   "metadata": {
    "colab": {
     "base_uri": "https://localhost:8080/"
    },
    "id": "Kc7f-D61bIX0",
    "outputId": "134ad1b6-3a58-4cfd-d07b-46fb2c01700b",
    "ExecuteTime": {
     "end_time": "2025-06-07T19:20:11.858979Z",
     "start_time": "2025-06-07T19:20:11.852796Z"
    }
   },
   "source": [
    "# 🔍 VERIFICAÇÃO DOS TIPOS DE DADOS (dtype)\n",
    "\n",
    "print(X_treinamento.dtype)  # Mostra o tipo de dados das imagens (esperado: float32 após normalização)\n",
    "print(y_treinamento.dtype)  # Mostra o tipo de dados dos rótulos (esperado: int32 ou int64 para classificação)\n"
   ],
   "outputs": [
    {
     "name": "stdout",
     "output_type": "stream",
     "text": [
      "float32\n",
      "int64\n"
     ]
    }
   ],
   "execution_count": 28
  },
  {
   "metadata": {},
   "cell_type": "markdown",
   "source": [
    "Verifica os tipos dos dados após o pré-processamento.\n",
    "As imagens estão no tipo float32 (após normalização entre 0 e 1) e os rótulos em int64, adequados para tarefas de classificação com sparse_categorical_crossentropy."
   ]
  },
  {
   "cell_type": "code",
   "metadata": {
    "colab": {
     "base_uri": "https://localhost:8080/"
    },
    "id": "yXDw51FabOTx",
    "outputId": "d8b92ee4-ed11-4b3e-c7b7-12137a57bb38",
    "ExecuteTime": {
     "end_time": "2025-06-07T19:20:13.819239Z",
     "start_time": "2025-06-07T19:20:13.666129Z"
    }
   },
   "source": [
    "# 🧪 CONVERSÃO DOS TIPOS DE DADOS\n",
    "\n",
    "X_treinamento = X_treinamento.astype('float32')  # Garante que as imagens estejam no formato float32 (necessário para o TensorFlow)\n",
    "y_treinamento = y_treinamento.astype('int32')    # Garante que os rótulos estejam como inteiros (int32), exigido por algumas funções de perda\n",
    "# 🔁 VERIFICAÇÃO FINAL DOS TIPOS DE DADOS APÓS CONVERSÃO\n",
    "\n",
    "print(X_treinamento.dtype)  # Deve exibir: float32\n",
    "print(y_treinamento.dtype)  # Deve exibir: int32\n",
    "\n"
   ],
   "outputs": [
    {
     "name": "stdout",
     "output_type": "stream",
     "text": [
      "float32\n",
      "int32\n"
     ]
    }
   ],
   "execution_count": 29
  },
  {
   "metadata": {},
   "cell_type": "markdown",
   "source": [
    "Conversão explícita dos tipos de dados para garantir compatibilidade com o TensorFlow.\n",
    "Imagens ficam em float32 e rótulos em int32, que é o formato esperado por funções de perda como sparse_categorical_crossentropy."
   ]
  },
  {
   "cell_type": "code",
   "metadata": {
    "colab": {
     "base_uri": "https://localhost:8080/"
    },
    "id": "m9MupOSBbTvX",
    "outputId": "6ab6f8bc-e54f-43e0-e575-85ceb06c0038",
    "ExecuteTime": {
     "end_time": "2025-06-07T19:20:24.022866Z",
     "start_time": "2025-06-07T19:20:24.010206Z"
    }
   },
   "source": [
    "# 📐 VERIFICAÇÃO DO FORMATO DAS IMAGENS (PARA REDES SEQUENCIAIS OU CONVOLUCIONAIS)\n",
    "\n",
    "print(X_treinamento.shape)  # Exibe o shape atual — deve ser algo como (N, 28, 28, 1) para CNNs\n"
   ],
   "outputs": [
    {
     "name": "stdout",
     "output_type": "stream",
     "text": [
      "(7448, 128, 128, 1)\n"
     ]
    }
   ],
   "execution_count": 30
  },
  {
   "metadata": {},
   "cell_type": "markdown",
   "source": [
    "Confirma o formato das imagens de entrada, que está em (7448, 128, 128, 1) — ou seja, 7.448 imagens de 128×128 pixels em escala de cinza.\n",
    "Esse é o formato ideal para redes convolucionais (CNNs), que esperam uma dimensão adicional para canais."
   ]
  },
  {
   "cell_type": "code",
   "metadata": {
    "colab": {
     "base_uri": "https://localhost:8080/"
    },
    "id": "LY0PJoiGcPt4",
    "outputId": "e6bd7a36-a3b0-4def-c2fb-63470bdd5f51",
    "ExecuteTime": {
     "end_time": "2025-06-07T19:20:28.218966Z",
     "start_time": "2025-06-07T19:20:28.204904Z"
    }
   },
   "source": [
    "# 🧱 ACHATAMENTO DAS IMAGENS PARA USO EM REDE DENSAMENTE CONECTADA (MLP)\n",
    "\n",
    "X_treinamento_flat = X_treinamento.reshape((X_treinamento.shape[0], -1))  # Achata cada imagem 28x28 em um vetor de 784 elementos\n",
    "\n",
    "print(X_treinamento_flat.shape)  # Exibe a nova forma: (n_amostras, 784) — exemplo: (60000, 784)\n"
   ],
   "outputs": [
    {
     "name": "stdout",
     "output_type": "stream",
     "text": [
      "(7448, 16384)\n"
     ]
    }
   ],
   "execution_count": 32
  },
  {
   "metadata": {},
   "cell_type": "markdown",
   "source": [
    "Achata as imagens em vetores 1D para uso em redes totalmente conectadas (MLP).\n",
    "Cada imagem 128×128 é transformada em um vetor de 16.384 elementos (128 × 128 = 16384), mantendo o número de amostras (7448)."
   ]
  },
  {
   "cell_type": "code",
   "metadata": {
    "colab": {
     "base_uri": "https://localhost:8080/"
    },
    "id": "E1h3NJBNkdMk",
    "outputId": "58ad2be4-9192-4243-be15-8959199bb1a8",
    "ExecuteTime": {
     "end_time": "2025-06-07T19:20:29.903668Z",
     "start_time": "2025-06-07T19:20:29.730739Z"
    }
   },
   "source": [
    "# 🔎 FILTRAGEM DOS DADOS PARA CLASSIFICAÇÃO BINÁRIA (NORMAL vs PNEUMONIA)\n",
    "\n",
    "# Apenas para garantir que os rótulos estejam no formato certo\n",
    "y_treinamento = y_treinamento.astype('int32')\n",
    "\n",
    "# Cria uma máscara booleana para selecionar apenas as amostras com rótulos 0 ou 1\n",
    "mascara_binaria = (y_treinamento == 0) | (y_treinamento == 1)\n",
    "\n",
    "# Aplica a máscara nos dados de treino\n",
    "X_treinamento_bin = X_treinamento[mascara_binaria]\n",
    "y_treinamento_bin = y_treinamento[mascara_binaria]\n",
    "\n",
    "# Verifica se tudo está certo\n",
    "print(\"X_treinamento_bin:\", X_treinamento_bin.shape)\n",
    "print(\"y_treinamento_bin:\", y_treinamento_bin.shape)\n"
   ],
   "outputs": [
    {
     "name": "stdout",
     "output_type": "stream",
     "text": [
      "X_treinamento_bin: (7448, 128, 128, 1)\n",
      "y_treinamento_bin: (7448,)\n"
     ]
    }
   ],
   "execution_count": 33
  },
  {
   "metadata": {},
   "cell_type": "markdown",
   "source": [
    "Filtra os dados para garantir que apenas as classes 'NORMAL' e 'PNEUMONIA' (0 e 1) estejam presentes nos rótulos, preparando o conjunto para classificação binária.\n",
    "\n",
    "No seu caso, como todos os dados já estão corretamente rotulados, o shape continua o mesmo: 7.448 imagens."
   ]
  },
  {
   "cell_type": "markdown",
   "metadata": {
    "id": "DgwqJw60Frme"
   },
   "source": [
    "## 🚀 6. Treinamento com EarlyStopping"
   ]
  },
  {
   "metadata": {
    "ExecuteTime": {
     "end_time": "2025-06-07T19:20:33.984142Z",
     "start_time": "2025-06-07T19:20:33.867180Z"
    }
   },
   "cell_type": "code",
   "source": "print(\"Min:\", X_treinamento_bin.min(), \"Max:\", X_treinamento_bin.max())",
   "outputs": [
    {
     "name": "stdout",
     "output_type": "stream",
     "text": [
      "Min: 0.0 Max: 1.0\n"
     ]
    }
   ],
   "execution_count": 34
  },
  {
   "metadata": {},
   "cell_type": "markdown",
   "source": [
    "Verifica os valores mínimos e máximos dos pixels no conjunto de treino após normalização.\n",
    "O intervalo [0.0, 1.0] confirma que os dados foram corretamente escalados, como esperado para redes neurais."
   ]
  },
  {
   "metadata": {
    "ExecuteTime": {
     "end_time": "2025-06-07T19:40:06.924386Z",
     "start_time": "2025-06-07T19:34:45.546873Z"
    }
   },
   "cell_type": "code",
   "source": [
    "# 🔧 Hiperparâmetros\n",
    "BATCH_SIZE        = 32\n",
    "EPOCHS            = 20\n",
    "PATIENCE          = 3\n",
    "VALIDATION_SPLIT  = 0.2\n",
    "OPTIMIZER         = 'adam'\n",
    "\n",
    "# 🧠 Arquitetura da rede (corrigido input_shape → shape)\n",
    "rede = Sequential([\n",
    "    InputLayer(shape=(128, 128, 1)),                   # Substituído para evitar o warning\n",
    "    Conv2D(32, (3, 3), activation='relu'),\n",
    "    BatchNormalization(),\n",
    "    MaxPooling2D(pool_size=(2, 2)),\n",
    "    GlobalAveragePooling2D(),\n",
    "    Dense(128, activation='relu'),\n",
    "    Dropout(0.3),\n",
    "    Dense(2, activation='softmax')  # saída para 2 classes\n",
    "])\n",
    "\n",
    "# 🛠️ Compilação do modelo\n",
    "rede.compile(\n",
    "    loss='sparse_categorical_crossentropy',\n",
    "    optimizer=OPTIMIZER,\n",
    "    metrics=['accuracy']\n",
    ")\n",
    "\n",
    "# ⚖️ Pesos de classe\n",
    "pesos = class_weight.compute_class_weight(\n",
    "    class_weight='balanced',\n",
    "    classes=np.unique(y_treinamento_bin),\n",
    "    y=y_treinamento_bin\n",
    ")\n",
    "class_weights = dict(enumerate(pesos))\n",
    "\n",
    "# ⏹️ EarlyStopping\n",
    "early_stopping = EarlyStopping(\n",
    "    monitor='val_loss',\n",
    "    patience=PATIENCE,\n",
    "    restore_best_weights=True\n",
    ")\n",
    "\n",
    "# 🔀 Separar treino e validação\n",
    "X_train, X_val, y_train, y_val = train_test_split(\n",
    "    X_treinamento_bin, y_treinamento_bin,\n",
    "    test_size=VALIDATION_SPLIT,\n",
    "    stratify=y_treinamento_bin,\n",
    "    random_state=42\n",
    ")\n",
    "\n",
    "# 🔄 Data Augmentation\n",
    "datagen = ImageDataGenerator(\n",
    "    rotation_range=10,\n",
    "    width_shift_range=0.1,\n",
    "    height_shift_range=0.1,\n",
    "    zoom_range=0.1\n",
    ")\n",
    "datagen.fit(X_train)\n",
    "\n",
    "# 🚀 Treinamento com dados aumentados\n",
    "treinamento = rede.fit(\n",
    "    datagen.flow(X_train, y_train, batch_size=BATCH_SIZE),\n",
    "    validation_data=(X_val, y_val),\n",
    "    epochs=EPOCHS,\n",
    "    class_weight=class_weights,\n",
    "    callbacks=[early_stopping],\n",
    "    verbose=1\n",
    ")\n"
   ],
   "outputs": [
    {
     "name": "stderr",
     "output_type": "stream",
     "text": [
      "C:\\Users\\Bruna\\AppData\\Local\\Packages\\PythonSoftwareFoundation.Python.3.11_qbz5n2kfra8p0\\LocalCache\\local-packages\\Python311\\site-packages\\keras\\src\\trainers\\data_adapters\\py_dataset_adapter.py:121: UserWarning: Your `PyDataset` class should call `super().__init__(**kwargs)` in its constructor. `**kwargs` can include `workers`, `use_multiprocessing`, `max_queue_size`. Do not pass these arguments to `fit()`, as they will be ignored.\n",
      "  self._warn_if_super_not_called()\n"
     ]
    },
    {
     "name": "stdout",
     "output_type": "stream",
     "text": [
      "Epoch 1/20\n",
      "\u001B[1m187/187\u001B[0m \u001B[32m━━━━━━━━━━━━━━━━━━━━\u001B[0m\u001B[37m\u001B[0m \u001B[1m38s\u001B[0m 190ms/step - accuracy: 0.6632 - loss: 0.6082 - val_accuracy: 0.5201 - val_loss: 1.0131\n",
      "Epoch 2/20\n",
      "\u001B[1m187/187\u001B[0m \u001B[32m━━━━━━━━━━━━━━━━━━━━\u001B[0m\u001B[37m\u001B[0m \u001B[1m35s\u001B[0m 189ms/step - accuracy: 0.8233 - loss: 0.4072 - val_accuracy: 0.5201 - val_loss: 1.0935\n",
      "Epoch 3/20\n",
      "\u001B[1m187/187\u001B[0m \u001B[32m━━━━━━━━━━━━━━━━━━━━\u001B[0m\u001B[37m\u001B[0m \u001B[1m35s\u001B[0m 186ms/step - accuracy: 0.8468 - loss: 0.3684 - val_accuracy: 0.7872 - val_loss: 0.4665\n",
      "Epoch 4/20\n",
      "\u001B[1m187/187\u001B[0m \u001B[32m━━━━━━━━━━━━━━━━━━━━\u001B[0m\u001B[37m\u001B[0m \u001B[1m35s\u001B[0m 188ms/step - accuracy: 0.8613 - loss: 0.3509 - val_accuracy: 0.8711 - val_loss: 0.3589\n",
      "Epoch 5/20\n",
      "\u001B[1m187/187\u001B[0m \u001B[32m━━━━━━━━━━━━━━━━━━━━\u001B[0m\u001B[37m\u001B[0m \u001B[1m35s\u001B[0m 187ms/step - accuracy: 0.8684 - loss: 0.3338 - val_accuracy: 0.8678 - val_loss: 0.3387\n",
      "Epoch 6/20\n",
      "\u001B[1m187/187\u001B[0m \u001B[32m━━━━━━━━━━━━━━━━━━━━\u001B[0m\u001B[37m\u001B[0m \u001B[1m35s\u001B[0m 186ms/step - accuracy: 0.8692 - loss: 0.3366 - val_accuracy: 0.8711 - val_loss: 0.3276\n",
      "Epoch 7/20\n",
      "\u001B[1m187/187\u001B[0m \u001B[32m━━━━━━━━━━━━━━━━━━━━\u001B[0m\u001B[37m\u001B[0m \u001B[1m36s\u001B[0m 192ms/step - accuracy: 0.8663 - loss: 0.3298 - val_accuracy: 0.6000 - val_loss: 1.0971\n",
      "Epoch 8/20\n",
      "\u001B[1m187/187\u001B[0m \u001B[32m━━━━━━━━━━━━━━━━━━━━\u001B[0m\u001B[37m\u001B[0m \u001B[1m36s\u001B[0m 190ms/step - accuracy: 0.8706 - loss: 0.3236 - val_accuracy: 0.5101 - val_loss: 1.4794\n",
      "Epoch 9/20\n",
      "\u001B[1m187/187\u001B[0m \u001B[32m━━━━━━━━━━━━━━━━━━━━\u001B[0m\u001B[37m\u001B[0m \u001B[1m36s\u001B[0m 190ms/step - accuracy: 0.8653 - loss: 0.3287 - val_accuracy: 0.8651 - val_loss: 0.3416\n"
     ]
    }
   ],
   "execution_count": 40
  },
  {
   "metadata": {},
   "cell_type": "markdown",
   "source": [
    "Treinamento da CNN com aumento de dados (data augmentation), validação e early stopping.\n",
    "O modelo usa otimização com Adam, 20 épocas, validação estratificada e parada antecipada após 3 épocas sem melhora.\n",
    "Também foram aplicados pesos de classe para lidar com o desbalanceamento entre NORMAL e PNEUMONIA.\n",
    "\n",
    "Durante o treino, o modelo atingiu cerca de 87% de acurácia, com oscilações na val_loss, indicando a importância do early_stopping."
   ]
  },
  {
   "metadata": {
    "ExecuteTime": {
     "end_time": "2025-06-07T19:40:21.456385Z",
     "start_time": "2025-06-07T19:40:20.332753Z"
    }
   },
   "cell_type": "code",
   "source": [
    "resultado = rede.evaluate(X_teste, y_teste)\n",
    "print(f\"📈 Acurácia no teste: {resultado[1]:.4f} | Perda: {resultado[0]:.4f}\")\n"
   ],
   "outputs": [
    {
     "name": "stdout",
     "output_type": "stream",
     "text": [
      "\u001B[1m20/20\u001B[0m \u001B[32m━━━━━━━━━━━━━━━━━━━━\u001B[0m\u001B[37m\u001B[0m \u001B[1m1s\u001B[0m 30ms/step - accuracy: 0.6422 - loss: 0.7133\n",
      "📈 Acurácia no teste: 0.7580 | Perda: 0.5056\n"
     ]
    }
   ],
   "execution_count": 41
  },
  {
   "metadata": {},
   "cell_type": "markdown",
   "source": [
    "Avaliação final da CNN no conjunto de teste.\n",
    "O modelo alcançou 75,80% de acurácia e uma perda (loss) de 0.5056, indicando desempenho razoável, mas ainda com margem para melhorias.\n",
    "\n",
    "📌 O gap entre acurácia de validação (~87%) e teste (~76%) pode sugerir leve overfitting ou diferenças na distribuição dos dados."
   ]
  },
  {
   "metadata": {
    "ExecuteTime": {
     "end_time": "2025-06-07T19:40:28.029271Z",
     "start_time": "2025-06-07T19:40:27.524847Z"
    }
   },
   "cell_type": "code",
   "source": [
    "# 📊 PLOTS DAS MÉTRICAS DE TREINAMENTO\n",
    "\n",
    "fig, axes = plt.subplots(1, 2, figsize=(14, 5))  # Cria dois subgráficos lado a lado em uma figura de tamanho 14x5\n",
    "\n",
    "# 📈 Gráfico da acurácia por época\n",
    "axes[0].plot(treinamento.history['accuracy'], label='Treino')           # Linha da acurácia no conjunto de treino\n",
    "axes[0].plot(treinamento.history['val_accuracy'], label='Validação')    # Linha da acurácia no conjunto de validação\n",
    "axes[0].set_title('Acurácia durante o treinamento')                     # Título do gráfico\n",
    "axes[0].set_xlabel('Época')                                             # Rótulo do eixo X\n",
    "axes[0].set_ylabel('Accuracy')                                          # Rótulo do eixo Y\n",
    "axes[0].legend()                                                        # Exibe a legenda\n",
    "\n",
    "# 📉 Gráfico da perda (erro) por época\n",
    "axes[1].plot(treinamento.history['loss'], label='Treino')               # Linha da perda no conjunto de treino\n",
    "axes[1].plot(treinamento.history['val_loss'], label='Validação')        # Linha da perda no conjunto de validação\n",
    "axes[1].set_title('Erro durante o treinamento')                         # Título do gráfico\n",
    "axes[1].set_xlabel('Época')                                             # Rótulo do eixo X\n",
    "axes[1].set_ylabel('Loss/Erro')                                         # Rótulo do eixo Y\n",
    "axes[1].legend()                                                        # Exibe a legenda\n",
    "\n",
    "plt.tight_layout()  # Ajusta o espaçamento entre os subplots\n",
    "plt.show()         # Exibe os gráficos"
   ],
   "outputs": [
    {
     "data": {
      "text/plain": [
       "<Figure size 1400x500 with 2 Axes>"
      ],
      "image/png": "[encoded data removed]"
     },
     "metadata": {},
     "output_type": "display_data"
    }
   ],
   "execution_count": 42
  },
  {
   "metadata": {},
   "cell_type": "markdown",
   "source": [
    "Gráficos de acurácia e perda durante o treinamento.\n",
    "O modelo atinge boa acurácia em treino e validação até por volta da 3ª ou 4ª época. Após isso, a validação apresenta flutuações bruscas, enquanto o treino continua estável — o que indica sinais de overfitting.\n",
    "\n",
    "O early stopping ajudou a evitar que o modelo continuasse treinando em épocas onde o desempenho piorava."
   ]
  },
  {
   "metadata": {
    "ExecuteTime": {
     "end_time": "2025-06-07T19:40:32.889942Z",
     "start_time": "2025-06-07T19:40:31.956953Z"
    }
   },
   "cell_type": "code",
   "source": [
    "# Previsões\n",
    "y_pred = np.argmax(rede.predict(X_teste), axis=1)\n",
    "\n",
    "# Relatório\n",
    "print(classification_report(y_teste, y_pred, target_names=['NORMAL', 'PNEUMONIA']))\n",
    "\n",
    "# Matriz de confusão\n",
    "cm = confusion_matrix(y_teste, y_pred)\n",
    "sns.heatmap(cm, annot=True, fmt='d', cmap='Blues', xticklabels=['NORMAL', 'PNEUMONIA'], yticklabels=['NORMAL', 'PNEUMONIA'])\n",
    "plt.xlabel('Predito')\n",
    "plt.ylabel('Real')\n",
    "plt.title('Matriz de Confusão')\n",
    "plt.show()"
   ],
   "outputs": [
    {
     "name": "stdout",
     "output_type": "stream",
     "text": [
      "\u001B[1m20/20\u001B[0m \u001B[32m━━━━━━━━━━━━━━━━━━━━\u001B[0m\u001B[37m\u001B[0m \u001B[1m1s\u001B[0m 30ms/step\n",
      "              precision    recall  f1-score   support\n",
      "\n",
      "      NORMAL       0.73      0.56      0.63       234\n",
      "   PNEUMONIA       0.77      0.88      0.82       390\n",
      "\n",
      "    accuracy                           0.76       624\n",
      "   macro avg       0.75      0.72      0.73       624\n",
      "weighted avg       0.76      0.76      0.75       624\n",
      "\n"
     ]
    },
    {
     "data": {
      "text/plain": [
       "<Figure size 640x480 with 2 Axes>"
      ],
      "image/png": "[encoded data removed]"
     },
     "metadata": {},
     "output_type": "display_data"
    }
   ],
   "execution_count": 43
  },
  {
   "metadata": {},
   "cell_type": "markdown",
   "source": [
    "Desempenho no teste:\n",
    "\n",
    "Acurácia geral: 76%\n",
    "\n",
    "PNEUMONIA:\n",
    "\n",
    "Precision 0.77 → 77% das previsões de pneumonia estavam corretas\n",
    "Recall 0.88 → o modelo encontrou 88% dos casos reais\n",
    "F1-score 0.82 → bom equilíbrio entre acerto e cobertura\n",
    "\n",
    "NORMAL:\n",
    "Recall 0.56 → o modelo só identificou corretamente 56% das imagens normais\n",
    "\n",
    "Matriz de confusão:\n",
    "\n",
    "343 acertos para pneumonia\n",
    "130 acertos para normal\n",
    "104 normais classificadas como pneumonia (falsos positivos)\n",
    "47 pneumonia classificadas como normal (falsos negativos)"
   ]
  },
  {
   "metadata": {
    "ExecuteTime": {
     "end_time": "2025-06-07T19:40:41.247214Z",
     "start_time": "2025-06-07T19:40:41.222543Z"
    }
   },
   "cell_type": "code",
   "source": [
    "# 🧪 FILTRAGEM DO CONJUNTO DE TESTE PARA CLASSIFICAÇÃO BINÁRIA\n",
    "\n",
    "# Cria uma máscara para manter apenas as amostras com rótulo 0 ou 1\n",
    "mask_teste_bin = y_teste <= 1\n",
    "\n",
    "# Aplica a máscara para filtrar o conjunto de teste\n",
    "X_teste_bin = X_teste[mask_teste_bin]      # Imagens com rótulos 0 ou 1\n",
    "y_teste_bin = y_teste[mask_teste_bin]      # Rótulos correspondentes (0 = NORMAL, 1 = PNEUMONIA)\n"
   ],
   "outputs": [],
   "execution_count": 44
  },
  {
   "metadata": {},
   "cell_type": "markdown",
   "source": [
    "Filtra o conjunto de teste para manter apenas as classes 'NORMAL' (0) e 'PNEUMONIA' (1), garantindo que a avaliação final seja feita apenas em um cenário de classificação binária.\n",
    "\n",
    "Isso evita a presença de rótulos indesejados ou ruído nos resultados do modelo."
   ]
  },
  {
   "cell_type": "code",
   "metadata": {
    "id": "64FihJ9JfpKD",
    "ExecuteTime": {
     "end_time": "2025-06-07T19:40:43.426422Z",
     "start_time": "2025-06-07T19:40:43.403124Z"
    }
   },
   "source": [
    "# 🧪 FILTRAGEM DO CONJUNTO DE TESTE PARA CLASSIFICAÇÃO BINÁRIA\n",
    "\n",
    "# Cria uma máscara para manter apenas as amostras com rótulo 0 ou 1\n",
    "mask_teste_bin = y_teste <= 1\n",
    "\n",
    "# Aplica a máscara para filtrar o conjunto de teste\n",
    "X_teste_bin = X_teste[mask_teste_bin]      # Imagens com rótulos 0 ou 1\n",
    "y_teste_bin = y_teste[mask_teste_bin]      # Rótulos correspondentes (0 = NORMAL, 1 = PNEUMONIA)\n"
   ],
   "outputs": [],
   "execution_count": 45
  },
  {
   "metadata": {},
   "cell_type": "markdown",
   "source": "Filtra o conjunto de teste para manter apenas as imagens com rótulo 0 (NORMAL) ou 1 (PNEUMONIA), garantindo que a avaliação do modelo seja feita apenas nas duas classes da tarefa binária."
  },
  {
   "cell_type": "markdown",
   "metadata": {
    "id": "eR9SX_TaJVwu"
   },
   "source": "## 7. Validação Cruzada com K-Fold"
  },
  {
   "cell_type": "code",
   "metadata": {
    "colab": {
     "base_uri": "https://localhost:8080/"
    },
    "id": "k9XIZi5jVy5X",
    "outputId": "f9694d2e-c1c2-4515-b4f6-3cb6a2c81631",
    "ExecuteTime": {
     "end_time": "2025-06-07T19:49:35.773664Z",
     "start_time": "2025-06-07T19:40:58.347983Z"
    }
   },
   "source": [
    "# 🔁 AVALIAÇÃO COM K-FOLD CROSS-VALIDATION (5 PARTIÇÕES ESTRATIFICADAS)\n",
    "\n",
    "from sklearn.model_selection import StratifiedKFold  # Importa o validador KFold com estratificação\n",
    "\n",
    "resultados = []  # Lista para armazenar os resultados de cada iteração\n",
    "\n",
    "# 🧼 Filtra os dados para conter apenas classes 0 e 1 (NORMAL e PNEUMONIA)\n",
    "mask_bin = y_treinamento <= 1\n",
    "X_treinamento = X_treinamento[mask_bin]\n",
    "y_treinamento = y_treinamento[mask_bin]\n",
    "\n",
    "# 🔀 Cria um KFold estratificado com 5 divisões, embaralhando os dados\n",
    "kfold = StratifiedKFold(n_splits=5, shuffle=True, random_state=42)\n",
    "\n",
    "# 🔂 Loop pelas divisões do KFold\n",
    "for i_treino, i_teste in kfold.split(X_treinamento, y_treinamento):\n",
    "\n",
    "    # 🔧 Cria uma nova instância do modelo para cada fold\n",
    "    rede_cv = Sequential([\n",
    "        InputLayer(shape=(128, 128, 1)),                            # Camada de entrada\n",
    "        Conv2D(NUM_FILTERS, KERNEL_SIZE, activation='relu'),           # Camada convolucional\n",
    "        BatchNormalization(),                                          # Normalização\n",
    "        MaxPooling2D(pool_size=POOL_SIZE),                             # Pooling\n",
    "        Flatten(),                                                     # Achata o mapa de ativação\n",
    "        Dense(DENSE_UNITS, activation='relu'),                         # Camada densa intermediária\n",
    "        Dropout(DROPOUT_RATE),                                         # Dropout para evitar overfitting\n",
    "        Dense(len(nomes_classes), activation='softmax')                # Camada de saída com softmax\n",
    "    ])\n",
    "\n",
    "    # ⚠️ Aqui está o problema: você está usando `softmax` com 2 classes → mude para `sigmoid` e `binary_crossentropy`\n",
    "    # (se nomes_classes = ['NORMAL', 'PNEUMONIA'], len(nomes_classes) = 2, mas o modelo está tratando como multiclasse)\n",
    "\n",
    "    rede_cv.compile(\n",
    "        loss='sparse_categorical_crossentropy',  # Usa função de perda para classificação com rótulos inteiros\n",
    "        optimizer=OPTIMIZER,\n",
    "        metrics=['accuracy']\n",
    "    )\n",
    "\n",
    "    # ▶️ Treina o modelo com os dados do fold atual\n",
    "    rede_cv.fit(\n",
    "        X_treinamento[i_treino], y_treinamento[i_treino],         # Dados de treino do fold\n",
    "        batch_size=BATCH_SIZE,\n",
    "        epochs=2,\n",
    "        validation_split=VALIDATION_SPLIT,                         # Divide parte dos dados de treino para validação interna\n",
    "        callbacks=[early_stopping]\n",
    "    )\n",
    "\n",
    "    # 📊 Avalia o modelo com os dados de teste do fold e salva o resultado\n",
    "    resultados.append(rede_cv.evaluate(X_treinamento[i_teste], y_treinamento[i_teste]))\n"
   ],
   "outputs": [
    {
     "name": "stdout",
     "output_type": "stream",
     "text": [
      "Epoch 1/2\n",
      "\u001B[1m149/149\u001B[0m \u001B[32m━━━━━━━━━━━━━━━━━━━━\u001B[0m\u001B[37m\u001B[0m \u001B[1m51s\u001B[0m 324ms/step - accuracy: 0.8569 - loss: 3.0564 - val_accuracy: 0.9933 - val_loss: 0.4019\n",
      "Epoch 2/2\n",
      "\u001B[1m149/149\u001B[0m \u001B[32m━━━━━━━━━━━━━━━━━━━━\u001B[0m\u001B[37m\u001B[0m \u001B[1m46s\u001B[0m 311ms/step - accuracy: 0.9799 - loss: 0.0570 - val_accuracy: 0.9807 - val_loss: 0.1825\n",
      "\u001B[1m47/47\u001B[0m \u001B[32m━━━━━━━━━━━━━━━━━━━━\u001B[0m\u001B[37m\u001B[0m \u001B[1m2s\u001B[0m 42ms/step - accuracy: 0.9690 - loss: 0.2986\n",
      "Epoch 1/2\n",
      "\u001B[1m149/149\u001B[0m \u001B[32m━━━━━━━━━━━━━━━━━━━━\u001B[0m\u001B[37m\u001B[0m \u001B[1m49s\u001B[0m 323ms/step - accuracy: 0.8415 - loss: 4.9143 - val_accuracy: 0.8406 - val_loss: 0.4714\n",
      "Epoch 2/2\n",
      "\u001B[1m149/149\u001B[0m \u001B[32m━━━━━━━━━━━━━━━━━━━━\u001B[0m\u001B[37m\u001B[0m \u001B[1m48s\u001B[0m 322ms/step - accuracy: 0.9703 - loss: 0.0785 - val_accuracy: 0.9815 - val_loss: 0.1511\n",
      "\u001B[1m47/47\u001B[0m \u001B[32m━━━━━━━━━━━━━━━━━━━━\u001B[0m\u001B[37m\u001B[0m \u001B[1m2s\u001B[0m 40ms/step - accuracy: 0.9631 - loss: 0.2781\n",
      "Epoch 1/2\n",
      "\u001B[1m149/149\u001B[0m \u001B[32m━━━━━━━━━━━━━━━━━━━━\u001B[0m\u001B[37m\u001B[0m \u001B[1m56s\u001B[0m 363ms/step - accuracy: 0.8594 - loss: 4.1521 - val_accuracy: 1.0000 - val_loss: 0.0152\n",
      "Epoch 2/2\n",
      "\u001B[1m149/149\u001B[0m \u001B[32m━━━━━━━━━━━━━━━━━━━━\u001B[0m\u001B[37m\u001B[0m \u001B[1m49s\u001B[0m 328ms/step - accuracy: 0.9847 - loss: 0.0449 - val_accuracy: 0.9975 - val_loss: 0.0305\n",
      "\u001B[1m47/47\u001B[0m \u001B[32m━━━━━━━━━━━━━━━━━━━━\u001B[0m\u001B[37m\u001B[0m \u001B[1m2s\u001B[0m 39ms/step - accuracy: 0.2095 - loss: 1.6751\n",
      "Epoch 1/2\n",
      "\u001B[1m149/149\u001B[0m \u001B[32m━━━━━━━━━━━━━━━━━━━━\u001B[0m\u001B[37m\u001B[0m \u001B[1m51s\u001B[0m 325ms/step - accuracy: 0.8533 - loss: 3.1854 - val_accuracy: 0.9648 - val_loss: 0.4529\n",
      "Epoch 2/2\n",
      "\u001B[1m149/149\u001B[0m \u001B[32m━━━━━━━━━━━━━━━━━━━━\u001B[0m\u001B[37m\u001B[0m \u001B[1m48s\u001B[0m 320ms/step - accuracy: 0.9793 - loss: 0.0652 - val_accuracy: 0.9866 - val_loss: 0.1854\n",
      "\u001B[1m47/47\u001B[0m \u001B[32m━━━━━━━━━━━━━━━━━━━━\u001B[0m\u001B[37m\u001B[0m \u001B[1m2s\u001B[0m 39ms/step - accuracy: 0.9645 - loss: 0.2503\n",
      "Epoch 1/2\n",
      "\u001B[1m149/149\u001B[0m \u001B[32m━━━━━━━━━━━━━━━━━━━━\u001B[0m\u001B[37m\u001B[0m \u001B[1m50s\u001B[0m 317ms/step - accuracy: 0.8563 - loss: 2.9925 - val_accuracy: 0.9975 - val_loss: 0.1510\n",
      "Epoch 2/2\n",
      "\u001B[1m149/149\u001B[0m \u001B[32m━━━━━━━━━━━━━━━━━━━━\u001B[0m\u001B[37m\u001B[0m \u001B[1m48s\u001B[0m 321ms/step - accuracy: 0.9822 - loss: 0.0539 - val_accuracy: 0.9891 - val_loss: 0.1623\n",
      "\u001B[1m47/47\u001B[0m \u001B[32m━━━━━━━━━━━━━━━━━━━━\u001B[0m\u001B[37m\u001B[0m \u001B[1m2s\u001B[0m 41ms/step - accuracy: 0.1961 - loss: 0.9519\n"
     ]
    }
   ],
   "execution_count": 46
  },
  {
   "metadata": {},
   "cell_type": "markdown",
   "source": [
    "Validação cruzada estratificada com 5 folds (k-fold):\n",
    "Treinou e avaliou o modelo 5 vezes, cada vez com uma divisão diferente dos dados, garantindo que todas as classes fossem proporcionalmente representadas em cada parte (stratified).\n",
    "\n",
    "Para cada rodada:\n",
    "\n",
    "O modelo foi treinado do zero com early stopping ativado.\n",
    "\n",
    "Foi avaliado em um subconjunto diferente de teste.\n",
    "\n",
    "Os resultados (acurácia e loss) foram armazenados para análise final.\n",
    "\n",
    "Importância:\n",
    "Essa abordagem testa a consistência do modelo, avaliando se ele generaliza bem em diferentes divisões dos dados — essencial para validar o desempenho além de uma única separação treino/teste.\n",
    "\n"
   ]
  },
  {
   "cell_type": "code",
   "metadata": {
    "colab": {
     "base_uri": "https://localhost:8080/"
    },
    "id": "AGfEKfmydZWB",
    "outputId": "f1288ba1-4328-423f-cfd5-80474cbb99f9",
    "ExecuteTime": {
     "end_time": "2025-06-07T19:50:06.452332Z",
     "start_time": "2025-06-07T19:50:06.414094Z"
    }
   },
   "source": [
    "# 📈 CÁLCULO DAS MÉTRICAS MÉDIAS E DESVIO PADRÃO DO K-FOLD\n",
    "\n",
    "resultados = np.array(resultados)        # Converte a lista de resultados para um array NumPy (n_folds, 2)\n",
    "losses = resultados[:, 0]                # Extrai as perdas (loss) de cada fold\n",
    "accuracies = resultados[:, 1]            # Extrai as acurácias de cada fold\n",
    "\n",
    "# 📊 Calcula a média e o desvio padrão da perda e da acurácia\n",
    "media_loss, std_loss = np.mean(losses), np.std(losses)\n",
    "media_acc, std_acc   = np.mean(accuracies), np.std(accuracies)\n",
    "\n",
    "# 🖨️ Exibe os resultados finais com 4 casas decimais\n",
    "print(f'📊 Média dos erros: {media_loss:.4f} ± {std_loss:.4f}')\n",
    "print(f'📊 Média das acurácias: {media_acc:.4f} ± {std_acc:.4f}')\n"
   ],
   "outputs": [
    {
     "name": "stdout",
     "output_type": "stream",
     "text": [
      "📊 Média dos erros: 0.4668 ± 0.3081\n",
      "📊 Média das acurácias: 0.7966 ± 0.2182\n"
     ]
    }
   ],
   "execution_count": 47
  },
  {
   "metadata": {},
   "cell_type": "markdown",
   "source": [
    "Cálculo da média e do desvio padrão da acurácia e do erro com base nos 5 folds da validação cruzada:\n",
    "\n",
    "Média da acurácia: 79,66%\n",
    "\n",
    "Desvio padrão: ±21,82\n",
    "\n",
    "Média da perda: 0.4668\n",
    "\n",
    "Desvio padrão: ±0.3081\n",
    "\n",
    "Isso indica que o modelo teve bom desempenho médio, mas com variabilidade alta entre os folds, o que sugere que ele pode estar sensível a divisão dos dados"
   ]
  },
  {
   "cell_type": "markdown",
   "metadata": {
    "id": "JBB9ykkVF77Z"
   },
   "source": "# 🔬 9. Tuning de Hiperparâmetros (Grid Search)"
  },
  {
   "cell_type": "code",
   "metadata": {
    "colab": {
     "base_uri": "https://localhost:8080/",
     "height": 512
    },
    "id": "EFmtsCAXFUTc",
    "outputId": "8de8cbba-20bc-4f2a-f84c-a9d818d53f1d",
    "ExecuteTime": {
     "end_time": "2025-06-07T19:54:42.614556Z",
     "start_time": "2025-06-07T19:50:13.067450Z"
    }
   },
   "source": [
    "# --- Parâmetros de busca ---\n",
    "param_grid = {\n",
    "    'num_filters': [16, 32],\n",
    "    'kernel_size': [(3, 3), (5, 5)],\n",
    "    'dropout_rate': [0.2, 0.5],\n",
    "    'optimizer': ['adam', 'rmsprop']\n",
    "}\n",
    "\n",
    "# Nome das classes (binária)\n",
    "num_classes = 2\n",
    "\n",
    "# 🔀 Divisão dos dados\n",
    "X_train_gs, X_val_gs, y_train_gs, y_val_gs = train_test_split(\n",
    "    X_treinamento_bin, y_treinamento_bin, test_size=0.2, stratify=y_treinamento_bin, random_state=42\n",
    ")\n",
    "\n",
    "# 🔁 Geração aleatória de combinações\n",
    "todas_combinacoes = list(itertools.product(\n",
    "    param_grid['num_filters'],\n",
    "    param_grid['kernel_size'],\n",
    "    param_grid['dropout_rate'],\n",
    "    param_grid['optimizer']\n",
    "))\n",
    "amostras_escolhidas = random.sample(todas_combinacoes, 5)\n",
    "\n",
    "# 📊 Resultados\n",
    "resultados_grid = []\n",
    "\n",
    "# 🔄 Treinamento para cada combinação escolhida\n",
    "for nf, ks, dr, opt_name in amostras_escolhidas:\n",
    "    print(f\"🔧 Treinando com filtros={nf}, kernel={ks}, dropout={dr}, optimizer={opt_name}\")\n",
    "\n",
    "    # Escolha do otimizador\n",
    "    opt = Adam() if opt_name == 'adam' else RMSprop()\n",
    "\n",
    "    # Modelo leve\n",
    "    modelo = Sequential([\n",
    "        InputLayer(shape=(128, 128, 1)),\n",
    "        Conv2D(nf, ks, activation='relu'),\n",
    "        BatchNormalization(),\n",
    "        MaxPooling2D(pool_size=(2, 2)),\n",
    "        GlobalAveragePooling2D(),\n",
    "        Dense(64, activation='relu'),\n",
    "        Dropout(dr),\n",
    "        Dense(num_classes, activation='softmax')\n",
    "    ])\n",
    "\n",
    "    modelo.compile(optimizer=opt,\n",
    "                   loss='sparse_categorical_crossentropy',\n",
    "                   metrics=['accuracy'])\n",
    "\n",
    "    hist = modelo.fit(\n",
    "        X_train_gs, y_train_gs,\n",
    "        validation_data=(X_val_gs, y_val_gs),\n",
    "        batch_size=128,\n",
    "        epochs=2,\n",
    "        verbose=1  # mostra progresso\n",
    "    )\n",
    "\n",
    "    acc = hist.history['val_accuracy'][-1]\n",
    "    loss = hist.history['val_loss'][-1]\n",
    "    resultados_grid.append({\n",
    "        'filtros': nf,\n",
    "        'kernel': ks,\n",
    "        'dropout': dr,\n",
    "        'optimizer': opt_name,\n",
    "        'val_accuracy': acc,\n",
    "        'val_loss': loss\n",
    "    })\n",
    "\n",
    "# 📋 Exibe resultados em DataFrame ordenado\n",
    "df_grid = pd.DataFrame(resultados_grid)\n",
    "df_grid = df_grid.sort_values(by='val_accuracy', ascending=False)\n",
    "display(df_grid)\n"
   ],
   "outputs": [
    {
     "name": "stdout",
     "output_type": "stream",
     "text": [
      "🔧 Treinando com filtros=16, kernel=(3, 3), dropout=0.2, optimizer=rmsprop\n",
      "Epoch 1/2\n",
      "\u001B[1m47/47\u001B[0m \u001B[32m━━━━━━━━━━━━━━━━━━━━\u001B[0m\u001B[37m\u001B[0m \u001B[1m26s\u001B[0m 401ms/step - accuracy: 0.7040 - loss: 0.6292 - val_accuracy: 0.5201 - val_loss: 0.7119\n",
      "Epoch 2/2\n",
      "\u001B[1m47/47\u001B[0m \u001B[32m━━━━━━━━━━━━━━━━━━━━\u001B[0m\u001B[37m\u001B[0m \u001B[1m17s\u001B[0m 351ms/step - accuracy: 0.7833 - loss: 0.5312 - val_accuracy: 0.5201 - val_loss: 0.8038\n",
      "🔧 Treinando com filtros=16, kernel=(3, 3), dropout=0.5, optimizer=rmsprop\n",
      "Epoch 1/2\n",
      "\u001B[1m47/47\u001B[0m \u001B[32m━━━━━━━━━━━━━━━━━━━━\u001B[0m\u001B[37m\u001B[0m \u001B[1m18s\u001B[0m 365ms/step - accuracy: 0.5977 - loss: 0.6797 - val_accuracy: 0.5201 - val_loss: 0.6930\n",
      "Epoch 2/2\n",
      "\u001B[1m47/47\u001B[0m \u001B[32m━━━━━━━━━━━━━━━━━━━━\u001B[0m\u001B[37m\u001B[0m \u001B[1m17s\u001B[0m 351ms/step - accuracy: 0.7442 - loss: 0.5957 - val_accuracy: 0.5201 - val_loss: 0.7309\n",
      "🔧 Treinando com filtros=32, kernel=(5, 5), dropout=0.2, optimizer=adam\n",
      "Epoch 1/2\n",
      "\u001B[1m47/47\u001B[0m \u001B[32m━━━━━━━━━━━━━━━━━━━━\u001B[0m\u001B[37m\u001B[0m \u001B[1m37s\u001B[0m 743ms/step - accuracy: 0.6973 - loss: 0.6379 - val_accuracy: 0.5201 - val_loss: 0.7069\n",
      "Epoch 2/2\n",
      "\u001B[1m47/47\u001B[0m \u001B[32m━━━━━━━━━━━━━━━━━━━━\u001B[0m\u001B[37m\u001B[0m \u001B[1m35s\u001B[0m 750ms/step - accuracy: 0.7994 - loss: 0.4986 - val_accuracy: 0.5201 - val_loss: 0.9311\n",
      "🔧 Treinando com filtros=16, kernel=(3, 3), dropout=0.2, optimizer=adam\n",
      "Epoch 1/2\n",
      "\u001B[1m47/47\u001B[0m \u001B[32m━━━━━━━━━━━━━━━━━━━━\u001B[0m\u001B[37m\u001B[0m \u001B[1m19s\u001B[0m 367ms/step - accuracy: 0.5739 - loss: 0.6815 - val_accuracy: 0.5201 - val_loss: 0.6957\n",
      "Epoch 2/2\n",
      "\u001B[1m47/47\u001B[0m \u001B[32m━━━━━━━━━━━━━━━━━━━━\u001B[0m\u001B[37m\u001B[0m \u001B[1m17s\u001B[0m 356ms/step - accuracy: 0.7299 - loss: 0.6052 - val_accuracy: 0.5201 - val_loss: 0.7267\n",
      "🔧 Treinando com filtros=32, kernel=(3, 3), dropout=0.5, optimizer=rmsprop\n",
      "Epoch 1/2\n",
      "\u001B[1m47/47\u001B[0m \u001B[32m━━━━━━━━━━━━━━━━━━━━\u001B[0m\u001B[37m\u001B[0m \u001B[1m39s\u001B[0m 810ms/step - accuracy: 0.6439 - loss: 0.6564 - val_accuracy: 0.5201 - val_loss: 0.6933\n",
      "Epoch 2/2\n",
      "\u001B[1m47/47\u001B[0m \u001B[32m━━━━━━━━━━━━━━━━━━━━\u001B[0m\u001B[37m\u001B[0m \u001B[1m36s\u001B[0m 775ms/step - accuracy: 0.7564 - loss: 0.5582 - val_accuracy: 0.5201 - val_loss: 0.7719\n"
     ]
    },
    {
     "data": {
      "text/plain": [
       "   filtros  kernel  dropout optimizer  val_accuracy  val_loss\n",
       "0       16  (3, 3)      0.2   rmsprop      0.520134  0.803799\n",
       "1       16  (3, 3)      0.5   rmsprop      0.520134  0.730921\n",
       "2       32  (5, 5)      0.2      adam      0.520134  0.931086\n",
       "3       16  (3, 3)      0.2      adam      0.520134  0.726725\n",
       "4       32  (3, 3)      0.5   rmsprop      0.520134  0.771918"
      ],
      "text/html": [
       "<div>\n",
       "<style scoped>\n",
       "    .dataframe tbody tr th:only-of-type {\n",
       "        vertical-align: middle;\n",
       "    }\n",
       "\n",
       "    .dataframe tbody tr th {\n",
       "        vertical-align: top;\n",
       "    }\n",
       "\n",
       "    .dataframe thead th {\n",
       "        text-align: right;\n",
       "    }\n",
       "</style>\n",
       "<table border=\"1\" class=\"dataframe\">\n",
       "  <thead>\n",
       "    <tr style=\"text-align: right;\">\n",
       "      <th></th>\n",
       "      <th>filtros</th>\n",
       "      <th>kernel</th>\n",
       "      <th>dropout</th>\n",
       "      <th>optimizer</th>\n",
       "      <th>val_accuracy</th>\n",
       "      <th>val_loss</th>\n",
       "    </tr>\n",
       "  </thead>\n",
       "  <tbody>\n",
       "    <tr>\n",
       "      <th>0</th>\n",
       "      <td>16</td>\n",
       "      <td>(3, 3)</td>\n",
       "      <td>0.2</td>\n",
       "      <td>rmsprop</td>\n",
       "      <td>0.520134</td>\n",
       "      <td>0.803799</td>\n",
       "    </tr>\n",
       "    <tr>\n",
       "      <th>1</th>\n",
       "      <td>16</td>\n",
       "      <td>(3, 3)</td>\n",
       "      <td>0.5</td>\n",
       "      <td>rmsprop</td>\n",
       "      <td>0.520134</td>\n",
       "      <td>0.730921</td>\n",
       "    </tr>\n",
       "    <tr>\n",
       "      <th>2</th>\n",
       "      <td>32</td>\n",
       "      <td>(5, 5)</td>\n",
       "      <td>0.2</td>\n",
       "      <td>adam</td>\n",
       "      <td>0.520134</td>\n",
       "      <td>0.931086</td>\n",
       "    </tr>\n",
       "    <tr>\n",
       "      <th>3</th>\n",
       "      <td>16</td>\n",
       "      <td>(3, 3)</td>\n",
       "      <td>0.2</td>\n",
       "      <td>adam</td>\n",
       "      <td>0.520134</td>\n",
       "      <td>0.726725</td>\n",
       "    </tr>\n",
       "    <tr>\n",
       "      <th>4</th>\n",
       "      <td>32</td>\n",
       "      <td>(3, 3)</td>\n",
       "      <td>0.5</td>\n",
       "      <td>rmsprop</td>\n",
       "      <td>0.520134</td>\n",
       "      <td>0.771918</td>\n",
       "    </tr>\n",
       "  </tbody>\n",
       "</table>\n",
       "</div>"
      ]
     },
     "metadata": {},
     "output_type": "display_data"
    }
   ],
   "execution_count": 48
  },
  {
   "metadata": {},
   "cell_type": "markdown",
   "source": [
    "Busca aleatória por hiperparâmetros (grid search amostrado):\n",
    "Testou 5 combinações de filtros, tamanho do kernel, taxa de dropout e otimizadores (adam e rmsprop) para encontrar uma arquitetura com melhor desempenho.\n",
    "\n",
    "A tabela final mostra:\n",
    "\n",
    "A acurácia de validação (val_accuracy) para cada combinação.\n",
    "\n",
    "O erro de validação (val_loss).\n",
    "\n",
    "Neste exemplo, nenhuma configuração superou 0.52 de acurácia, o que indica que:\n",
    "\n",
    "As combinações testadas talvez não tenham sido ideais;\n",
    "\n",
    "Ou a arquitetura/teste precisa de mais épocas para expressar seu desempenho real."
   ]
  },
  {
   "cell_type": "markdown",
   "metadata": {
    "id": "XGVB5tSTGAwS"
   },
   "source": "# 🧠 10. Arquitetura Clássica da Literatura\n"
  },
  {
   "metadata": {
    "ExecuteTime": {
     "end_time": "2025-06-07T21:44:24.880963Z",
     "start_time": "2025-06-07T21:11:34.268706Z"
    }
   },
   "cell_type": "code",
   "source": [
    "2629from tensorflow.keras.applications import VGG16\n",
    "from tensorflow.keras.models import Model, Sequential\n",
    "from tensorflow.keras.layers import Dense, Dropout, GlobalAveragePooling2D, Input\n",
    "from tensorflow.keras.optimizers import Adam\n",
    "from tensorflow.keras.callbacks import EarlyStopping\n",
    "\n",
    "# ⏹️ Early stopping\n",
    "early_stopping = EarlyStopping(monitor='val_loss', patience=3, restore_best_weights=True)\n",
    "\n",
    "# ⚙️ Carrega a VGG16 pré-treinada, sem as camadas densas finais\n",
    "base_model = VGG16(weights='imagenet', include_top=False, input_shape=(128, 128, 3))\n",
    "\n",
    "# 🧊 Congela as camadas convolucionais (não serão treinadas)\n",
    "for layer in base_model.layers:\n",
    "    layer.trainable = False\n",
    "\n",
    "# 🧠 Adiciona novas camadas densas para adaptação à tarefa de pneumonia\n",
    "model_vgg = Sequential([\n",
    "    Input(shape=(128, 128, 3)),\n",
    "    base_model,\n",
    "    GlobalAveragePooling2D(),\n",
    "    Dense(128, activation='relu'),\n",
    "    Dropout(0.3),\n",
    "    Dense(2, activation='softmax')  # Saída para classificação binária\n",
    "])\n",
    "\n",
    "# 🛠️ Compilação\n",
    "model_vgg.compile(\n",
    "    optimizer=Adam(),\n",
    "    loss='sparse_categorical_crossentropy',\n",
    "    metrics=['accuracy']\n",
    ")\n",
    "\n",
    "# 🚀 Treinamento\n",
    "history_vgg = model_vgg.fit(\n",
    "    X_treinamento_bin.repeat(3, axis=-1),  # A VGG16 exige 3 canais (RGB)\n",
    "    y_treinamento_bin,\n",
    "    validation_split=0.2,\n",
    "    epochs=10,\n",
    "    batch_size=32,\n",
    "    callbacks=[early_stopping],\n",
    "    verbose=1\n",
    ")\n"
   ],
   "outputs": [
    {
     "name": "stdout",
     "output_type": "stream",
     "text": [
      "Downloading data from https://storage.googleapis.com/tensorflow/keras-applications/vgg16/vgg16_weights_tf_dim_ordering_tf_kernels_notop.h5\n",
      "\u001B[1m58889256/58889256\u001B[0m \u001B[32m━━━━━━━━━━━━━━━━━━━━\u001B[0m\u001B[37m\u001B[0m \u001B[1m8s\u001B[0m 0us/step\n",
      "Epoch 1/10\n",
      "\u001B[1m187/187\u001B[0m \u001B[32m━━━━━━━━━━━━━━━━━━━━\u001B[0m\u001B[37m\u001B[0m \u001B[1m283s\u001B[0m 1s/step - accuracy: 0.7761 - loss: 0.4653 - val_accuracy: 0.8638 - val_loss: 0.3191\n",
      "Epoch 2/10\n",
      "\u001B[1m187/187\u001B[0m \u001B[32m━━━━━━━━━━━━━━━━━━━━\u001B[0m\u001B[37m\u001B[0m \u001B[1m295s\u001B[0m 2s/step - accuracy: 0.9356 - loss: 0.1873 - val_accuracy: 0.9349 - val_loss: 0.1637\n",
      "Epoch 3/10\n",
      "\u001B[1m187/187\u001B[0m \u001B[32m━━━━━━━━━━━━━━━━━━━━\u001B[0m\u001B[37m\u001B[0m \u001B[1m286s\u001B[0m 2s/step - accuracy: 0.9491 - loss: 0.1379 - val_accuracy: 0.8537 - val_loss: 0.3560\n",
      "Epoch 4/10\n",
      "\u001B[1m187/187\u001B[0m \u001B[32m━━━━━━━━━━━━━━━━━━━━\u001B[0m\u001B[37m\u001B[0m \u001B[1m275s\u001B[0m 1s/step - accuracy: 0.9535 - loss: 0.1276 - val_accuracy: 0.9678 - val_loss: 0.0826\n",
      "Epoch 5/10\n",
      "\u001B[1m187/187\u001B[0m \u001B[32m━━━━━━━━━━━━━━━━━━━━\u001B[0m\u001B[37m\u001B[0m \u001B[1m263s\u001B[0m 1s/step - accuracy: 0.9578 - loss: 0.1089 - val_accuracy: 0.9356 - val_loss: 0.1636\n",
      "Epoch 6/10\n",
      "\u001B[1m187/187\u001B[0m \u001B[32m━━━━━━━━━━━━━━━━━━━━\u001B[0m\u001B[37m\u001B[0m \u001B[1m266s\u001B[0m 1s/step - accuracy: 0.9661 - loss: 0.0920 - val_accuracy: 0.9389 - val_loss: 0.1516\n",
      "Epoch 7/10\n",
      "\u001B[1m187/187\u001B[0m \u001B[32m━━━━━━━━━━━━━━━━━━━━\u001B[0m\u001B[37m\u001B[0m \u001B[1m267s\u001B[0m 1s/step - accuracy: 0.9632 - loss: 0.0907 - val_accuracy: 0.9611 - val_loss: 0.0980\n"
     ]
    }
   ],
   "execution_count": 49
  },
  {
   "metadata": {},
   "cell_type": "markdown",
   "source": [
    "Desempenho da VGG16 com Transfer Learning:\n",
    "O modelo alcançou:\n",
    "\n",
    "Val_accuracy: até 96,11%\n",
    "\n",
    "Val_loss: tão baixo quanto 0.0980\n",
    "\n",
    "Isso demonstra que a arquitetura generalizou muito bem, superando os resultados da CNN customizada e reduzindo significativamente o erro de validação.\n",
    "\n",
    "Isso confirma a eficácia de usar uma arquitetura clássica com pesos pré-treinados em tarefas de imagem médica, especialmente com dataset limitado como este.\n",
    "\n"
   ]
  }
 ],
 "metadata": {
  "colab": {
   "collapsed_sections": [
    "h12wRBoQWd-r"
   ],
   "provenance": []
  },
  "kernelspec": {
   "display_name": "Python 3",
   "name": "python3"
  },
  "language_info": {
   "name": "python"
  }
 },
 "nbformat": 4,
 "nbformat_minor": 0
}
